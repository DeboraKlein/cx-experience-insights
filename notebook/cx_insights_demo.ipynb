{
 "cells": [
  {
   "cell_type": "markdown",
   "metadata": {
    "application/vnd.databricks.v1+cell": {
     "cellMetadata": {},
     "inputWidgets": {},
     "nuid": "bb416f93-817f-47ae-88d4-20dabfbd10c0",
     "showTitle": false,
     "tableResultSettingsMap": {},
     "title": ""
    }
   },
   "source": [
    "\n",
    "# CX Radar: Mapeando Experiências Urbanas  \n",
    "## Além do NPS: Inteligência de Reclamações\n",
    "---\n",
    "\n",
    "### Introdução\n",
    "\n",
    "Este projeto propõe uma abordagem analítica inovadora para entender a experiência do cliente em serviços urbanos, utilizando dados públicos de corridas de táxi como analogia. Através de métricas como tempo de viagem, tarifa, distância e índices derivados, buscamos identificar padrões que possam representar atritos na jornada do usuário.\n",
    "\n",
    "Mais do que medir satisfação, o projeto avança para uma proposta de classificação entre filiais (simuladas por zonas de origem), considerando não apenas indicadores operacionais, mas também o contexto das reclamações registradas. A ideia é diferenciar falhas humanas de falhas sistêmicas, permitindo uma avaliação mais justa e estratégica da performance local.\n",
    "\n",
    "Este estudo é um convite para repensar o papel da análise de dados na gestão da experiência — indo além do NPS, além dos dashboards genéricos, e mergulhando em uma leitura mais profunda e contextualizada do que realmente afeta o cliente.\n",
    "\n",
    "---\n",
    "\n",
    "### \uD83C\uDFAF 1. Objetivo\n",
    "\n",
    "Este notebook tem como objetivo analisar dados de corridas de táxi na cidade de Nova York para identificar padrões que possam impactar a experiência do cliente. Através de métricas como tempo de viagem, tarifa e distância, buscamos compreender como esses fatores influenciam a percepção de valor e satisfação.\n",
    "\n",
    "---\n",
    "\n",
    "### \uD83C\uDF0D 2. Contexto\n",
    "\n",
    "A experiência do cliente (CX) é um dos principais pilares de retenção e fidelização em serviços urbanos. No setor de mobilidade, fatores como tempo de espera, custo da corrida e localização influenciam diretamente a jornada do usuário. Este estudo utiliza dados públicos de corridas de táxi como analogia para mapear pontos de atrito e oportunidades de melhoria.\n",
    "\n",
    "---\n",
    "\n",
    "### \uD83D\uDCE6 3. Dataset\n",
    "Utilizamos o conjunto de dados `samples.nyctaxi.trips`, disponível na plataforma Databricks Community Edition. O dataset contém registros de corridas de táxi em Nova York, incluindo informações como horário de embarque e desembarque, distância percorrida, valor da tarifa e localização de origem/destino.\n",
    "\n",
    "---\n",
    "\n",
    "### \uD83E\uDDEA 4. Metodologia\n",
    "As análises foram realizadas por meio de consultas SQL diretamente no notebook. As métricas foram agrupadas e visualizadas em gráficos interativos no dashboard `CX_Taxi_Insights`. A abordagem foi exploratória, com foco em identificar padrões que possam representar boas ou más experiências para o cliente. Também criamos métricas derivadas, como o índice de frustração, para enriquecer a análise.\n",
    "\n",
    "---\n",
    "\n",
    "### \uD83D\uDD0D 5. Primeira Fase: Exploração de Métricas Individuais\n",
    "\n",
    "- Tempo médio por hora\n",
    "- Tarifa média por distância\n",
    "- Índice de frustração\n",
    "- Visualizações iniciais\n",
    "\n",
    "\uD83D\uDCCC *Conclusão:* Identificamos padrões que sugerem atritos operacionais em horários e zonas específicas.\n",
    "\n",
    "---\n",
    "\n",
    "### \uD83E\uDDE9 6. Segunda Fase: Classificação Simulada por Zona\n",
    "\n",
    "- Racional: tratar zonas como filiais urbanas\n",
    "- Indicadores escolhidos: tempo, tarifa, frustração, proporção de corridas caras\n",
    "- Normalização e cálculo da nota final\n",
    "- Visual: ranking por zona\n",
    "\n",
    "\uD83D\uDCCC *Conclusão:* Algumas zonas apresentam notas abaixo de 6, indicando risco de insatisfação.\n",
    "\n",
    "---\n",
    "\n",
    "### \uD83D\uDEA8 7. Achados Críticos\n",
    "\n",
    "- Zonas com frustração elevada\n",
    "- Tarifas desproporcionais\n",
    "- Ineficiências operacionais\n",
    "\n",
    "\uD83D\uDCCC *Recomendações:* Monitorar zonas críticas, revisar rotas e precificação, criar alertas preditivos.\n",
    "\n",
    "---\n",
    "\n",
    "### \uD83D\uDCCA 8. Simulação de Dashboard Corporativo\n",
    "\n",
    "- Indicador principal (gauge ou rosca)\n",
    "- Aba “Zonas em Alerta”\n",
    "- Tabela com filtros e insights\n",
    "- Slide executivo com resumo e recomendações\n",
    "\n",
    "\uD83D\uDCCC *Objetivo:* Mostrar como a análise pode ser integrada a um dashboard usado por líderes e gerentes.\n",
    "\n",
    "---\n",
    "\n",
    "### \uD83E\uDDE0 9. Reflexão Final\n",
    "\n",
    "- Como análises exploratórias podem evoluir para modelos de decisão\n",
    "- A importância de contextualizar dados operacionais com visão de cliente\n",
    "- Potencial de replicação em ambientes reais (como Bemol)\n",
    "\n"
   ]
  },
  {
   "cell_type": "markdown",
   "metadata": {
    "application/vnd.databricks.v1+cell": {
     "cellMetadata": {},
     "inputWidgets": {},
     "nuid": "6d29aa22-4c01-4b69-862c-a3c00044bdc1",
     "showTitle": false,
     "tableResultSettingsMap": {},
     "title": ""
    }
   },
   "source": [
    "###\uD83D\uDD52 1. Tempo médio de viagem por hora\n",
    "\n",
    "\uD83D\uDD0D Pergunta\n",
    "Quais horários do dia apresentam maior tempo médio de viagem, e como isso pode impactar a experiência do cliente?\n",
    "\n",
    "\uD83E\uDDE0 Análise\n",
    "Agrupamos as corridas por hora de embarque (tpep_pickup_datetime) e calculamos o tempo médio de viagem em minutos. Essa métrica revela os períodos do dia em que os deslocamentos são mais lentos, possivelmente devido a fatores como trânsito, demanda elevada ou disponibilidade de motoristas.\n",
    "\n",
    "Os horários com maior tempo médio podem indicar janelas de atrito operacional, onde o cliente enfrenta uma jornada mais longa — o que pode gerar frustração, especialmente em corridas curtas ou com tarifa elevada. Esses insights são fundamentais para entender a dinâmica urbana e antecipar momentos críticos na experiência."
   ]
  },
  {
   "cell_type": "code",
   "execution_count": 0,
   "metadata": {
    "application/vnd.databricks.v1+cell": {
     "cellMetadata": {
      "byteLimit": 2048000,
      "rowLimit": 10000
     },
     "inputWidgets": {},
     "nuid": "9b03c4a6-bd6e-4d78-8f49-bf19e656c2b7",
     "showTitle": false,
     "tableResultSettingsMap": {},
     "title": ""
    }
   },
   "outputs": [
    {
     "output_type": "display_data",
     "data": {
      "text/html": [
       "<style scoped>\n",
       "  .table-result-container {\n",
       "    max-height: 300px;\n",
       "    overflow: auto;\n",
       "  }\n",
       "  table, th, td {\n",
       "    border: 1px solid black;\n",
       "    border-collapse: collapse;\n",
       "  }\n",
       "  th, td {\n",
       "    padding: 5px;\n",
       "  }\n",
       "  th {\n",
       "    text-align: left;\n",
       "  }\n",
       "</style><div class='table-result-container'><table class='table-result'><thead style='background-color: white'><tr><th>hora</th><th>tempo_medio</th></tr></thead><tbody><tr><td>0</td><td>14.163758389261744</td></tr><tr><td>1</td><td>13.93193717277487</td></tr><tr><td>2</td><td>20.49438202247191</td></tr><tr><td>3</td><td>20.324675324675326</td></tr><tr><td>4</td><td>17.508</td></tr><tr><td>5</td><td>10.377272727272727</td></tr><tr><td>6</td><td>10.204210526315789</td></tr><tr><td>7</td><td>12.292134831460674</td></tr><tr><td>8</td><td>13.315942028985507</td></tr><tr><td>9</td><td>13.799808429118775</td></tr><tr><td>10</td><td>12.7139896373057</td></tr><tr><td>11</td><td>15.770750988142293</td></tr><tr><td>12</td><td>16.807547169811322</td></tr><tr><td>13</td><td>14.459780621572213</td></tr><tr><td>14</td><td>15.122854561878952</td></tr><tr><td>15</td><td>17.091296928327644</td></tr><tr><td>16</td><td>13.103483606557377</td></tr><tr><td>17</td><td>16.49705139005897</td></tr><tr><td>18</td><td>15.173883161512027</td></tr><tr><td>19</td><td>14.139700641482538</td></tr><tr><td>20</td><td>13.241987179487179</td></tr><tr><td>21</td><td>11.869096934548468</td></tr><tr><td>22</td><td>16.710217755443885</td></tr><tr><td>23</td><td>14.247907949790795</td></tr></tbody></table></div>"
      ]
     },
     "metadata": {
      "application/vnd.databricks.v1+output": {
       "addedWidgets": {},
       "aggData": [],
       "aggError": "",
       "aggOverflow": false,
       "aggSchema": [],
       "aggSeriesLimitReached": false,
       "aggType": "",
       "arguments": {},
       "columnCustomDisplayInfos": {},
       "data": [
        [
         0,
         14.163758389261744
        ],
        [
         1,
         13.93193717277487
        ],
        [
         2,
         20.49438202247191
        ],
        [
         3,
         20.324675324675326
        ],
        [
         4,
         17.508
        ],
        [
         5,
         10.377272727272727
        ],
        [
         6,
         10.204210526315789
        ],
        [
         7,
         12.292134831460674
        ],
        [
         8,
         13.315942028985507
        ],
        [
         9,
         13.799808429118775
        ],
        [
         10,
         12.7139896373057
        ],
        [
         11,
         15.770750988142293
        ],
        [
         12,
         16.807547169811322
        ],
        [
         13,
         14.459780621572213
        ],
        [
         14,
         15.122854561878952
        ],
        [
         15,
         17.091296928327644
        ],
        [
         16,
         13.103483606557377
        ],
        [
         17,
         16.49705139005897
        ],
        [
         18,
         15.173883161512027
        ],
        [
         19,
         14.139700641482538
        ],
        [
         20,
         13.241987179487179
        ],
        [
         21,
         11.869096934548468
        ],
        [
         22,
         16.710217755443885
        ],
        [
         23,
         14.247907949790795
        ]
       ],
       "datasetInfos": [
        {
         "name": "_sqldf",
         "schema": {
          "fields": [
           {
            "metadata": {},
            "name": "hora",
            "nullable": true,
            "type": "integer"
           },
           {
            "metadata": {},
            "name": "tempo_medio",
            "nullable": true,
            "type": "double"
           }
          ],
          "type": "struct"
         },
         "tableIdentifier": null,
         "typeStr": "pyspark.sql.connect.dataframe.DataFrame"
        }
       ],
       "dbfsResultPath": null,
       "isJsonSchema": true,
       "metadata": {
        "createTempViewForImplicitDf": true,
        "dataframeName": "_sqldf",
        "executionCount": 44
       },
       "overflow": false,
       "plotOptions": {
        "customPlotOptions": {},
        "displayType": "table",
        "pivotAggregation": null,
        "pivotColumns": null,
        "xColumns": null,
        "yColumns": null
       },
       "removedWidgets": [],
       "schema": [
        {
         "metadata": "{}",
         "name": "hora",
         "type": "\"integer\""
        },
        {
         "metadata": "{}",
         "name": "tempo_medio",
         "type": "\"double\""
        }
       ],
       "type": "table"
      }
     },
     "output_type": "display_data"
    },
    {
     "output_type": "display_data",
     "data": {
      "text/plain": [
       "Databricks visualization. Run in Databricks to view."
      ]
     },
     "metadata": {
      "application/vnd.databricks.v1.subcommand+json": {
       "baseErrorDetails": null,
       "bindings": {},
       "collapsed": false,
       "command": "%sql WITH q AS (SELECT \n  HOUR(tpep_pickup_datetime) AS hora,\n  AVG(DATEDIFF(MINUTE, tpep_pickup_datetime, tpep_dropoff_datetime)) AS tempo_medio\nFROM samples.nyctaxi.trips\nGROUP BY hora\nORDER BY hora) SELECT `hora`,SUM(`tempo_medio`) `column_dce1f5ba42` FROM q GROUP BY `hora`",
       "commandTitle": "Tempo médio de viagem por hora do dia",
       "commandType": "auto",
       "commandVersion": 0,
       "commentThread": [],
       "commentsVisible": false,
       "contentSha256Hex": null,
       "customPlotOptions": {
        "redashChart": [
         {
          "key": "type",
          "value": "CHART"
         },
         {
          "key": "options",
          "value": {
           "alignYAxesAtZero": true,
           "coefficient": 1,
           "columnConfigurationMap": {
            "x": {
             "column": "hora",
             "id": "column_dce1f5ba41"
            },
            "y": [
             {
              "column": "tempo_medio",
              "id": "column_dce1f5ba42",
              "transform": "SUM"
             }
            ]
           },
           "dateTimeFormat": "DD/MM/YYYY HH:mm",
           "direction": {
            "type": "counterclockwise"
           },
           "error_y": {
            "type": "data",
            "visible": true
           },
           "globalSeriesType": "column",
           "hideYAxes": true,
           "isAggregationOn": true,
           "legend": {
            "traceorder": "normal"
           },
           "missingValuesAsZero": true,
           "numberFormat": "0,0.[00000]",
           "percentFormat": "0[.]00%",
           "series": {
            "error_y": {
             "type": "data",
             "visible": true
            },
            "stacking": null
           },
           "seriesOptions": {
            "column_dce1f5ba42": {
             "color": "#34495E",
             "name": "tempo_medio",
             "type": "column",
             "yAxis": 0
            }
           },
           "showDataLabels": true,
           "sizemode": "diameter",
           "sortX": true,
           "sortY": true,
           "swappedAxes": false,
           "textFormat": "",
           "useAggregationsUi": true,
           "valuesOptions": {},
           "version": 2,
           "xAxis": {
            "labels": {
             "enabled": true
            },
            "type": "-"
           },
           "yAxis": [
            {
             "type": "-"
            },
            {
             "opposite": true,
             "type": "-"
            }
           ]
          }
         }
        ]
       },
       "datasetPreviewNameToCmdIdMap": {},
       "diffDeletes": [],
       "diffInserts": [],
       "displayType": "redashChart",
       "error": null,
       "errorDetails": null,
       "errorSummary": null,
       "errorTraceType": null,
       "finishTime": 0,
       "globalVars": {},
       "guid": "",
       "height": "355",
       "hideCommandCode": false,
       "hideCommandResult": false,
       "iPythonMetadata": null,
       "inputWidgets": {},
       "isLockedInExamMode": false,
       "latestAssumeRoleInfo": null,
       "latestUser": "a user",
       "latestUserId": null,
       "listResultMetadata": null,
       "metadata": {
        "byteLimit": 2048000,
        "rowLimit": 10000
       },
       "nuid": "8d7893a5-bc45-4ada-a944-ea66c44462ac",
       "origId": 0,
       "parentHierarchy": [],
       "pivotAggregation": null,
       "pivotColumns": null,
       "position": 1.75,
       "resultDbfsErrorMessage": null,
       "resultDbfsStatus": "INLINED_IN_TREE",
       "results": null,
       "showCommandTitle": false,
       "startTime": 0,
       "state": "finished",
       "streamStates": {},
       "subcommandOptions": {
        "queryPlan": {
         "groups": [
          {
           "column": "hora",
           "type": "column"
          }
         ],
         "selects": [
          {
           "column": "hora",
           "type": "column"
          },
          {
           "alias": "column_dce1f5ba42",
           "args": [
            {
             "column": "tempo_medio",
             "type": "column"
            }
           ],
           "function": "SUM",
           "type": "function"
          }
         ]
        }
       },
       "submitTime": 0,
       "subtype": "tableResultSubCmd.visualization",
       "tableResultIndex": 0,
       "tableResultSettingsMap": {},
       "useConsistentColors": false,
       "version": "CommandV1",
       "width": "auto",
       "workflows": [],
       "xColumns": null,
       "yColumns": null
      }
     },
     "output_type": "display_data"
    }
   ],
   "source": [
    "SELECT \n",
    "  HOUR(tpep_pickup_datetime) AS hora,\n",
    "  AVG(DATEDIFF(MINUTE, tpep_pickup_datetime, tpep_dropoff_datetime)) AS tempo_medio\n",
    "FROM samples.nyctaxi.trips\n",
    "GROUP BY hora\n",
    "ORDER BY hora;\n"
   ]
  },
  {
   "cell_type": "markdown",
   "metadata": {
    "application/vnd.databricks.v1+cell": {
     "cellMetadata": {},
     "inputWidgets": {},
     "nuid": "83f0fa22-8f96-4969-86ee-27a58fe88fea",
     "showTitle": false,
     "tableResultSettingsMap": {},
     "title": ""
    }
   },
   "source": [
    "## 2. Tarifa média por faixa de distância\n",
    "### \uD83D\uDD0DPergunta\n",
    "Clientes que fazem corridas curtas pagam mais proporcionalmente?\n",
    "\n",
    "### \uD83E\uDDE0 Análise\n",
    "Agrupamos as corridas por distância arredondada e calculamos a tarifa média. Isso revela se há distorções na percepção de valor."
   ]
  },
  {
   "cell_type": "code",
   "execution_count": 0,
   "metadata": {
    "application/vnd.databricks.v1+cell": {
     "cellMetadata": {
      "byteLimit": 2048000,
      "rowLimit": 10000
     },
     "inputWidgets": {},
     "nuid": "3f0ee8e8-7da5-4d09-9d98-865a64eff85a",
     "showTitle": false,
     "tableResultSettingsMap": {},
     "title": ""
    }
   },
   "outputs": [
    {
     "output_type": "display_data",
     "data": {
      "text/html": [
       "<style scoped>\n",
       "  .table-result-container {\n",
       "    max-height: 300px;\n",
       "    overflow: auto;\n",
       "  }\n",
       "  table, th, td {\n",
       "    border: 1px solid black;\n",
       "    border-collapse: collapse;\n",
       "  }\n",
       "  th, td {\n",
       "    padding: 5px;\n",
       "  }\n",
       "  th {\n",
       "    text-align: left;\n",
       "  }\n",
       "</style><div class='table-result-container'><table class='table-result'><thead style='background-color: white'><tr><th>faixa_distancia</th><th>tarifa_media</th></tr></thead><tbody><tr><td>0.0</td><td>4.393352144469526</td></tr><tr><td>1.0</td><td>6.568931702814951</td></tr><tr><td>2.0</td><td>10.024295432458699</td></tr><tr><td>3.0</td><td>13.313186813186814</td></tr><tr><td>4.0</td><td>16.147385103011093</td></tr><tr><td>5.0</td><td>19.13295719844358</td></tr><tr><td>6.0</td><td>21.47265625</td></tr><tr><td>7.0</td><td>24.135135135135137</td></tr><tr><td>8.0</td><td>26.25</td></tr><tr><td>9.0</td><td>29.175276752767527</td></tr><tr><td>10.0</td><td>31.590733590733592</td></tr><tr><td>11.0</td><td>33.90710382513661</td></tr><tr><td>12.0</td><td>37.43307086614173</td></tr><tr><td>13.0</td><td>41.324561403508774</td></tr><tr><td>14.0</td><td>42.785714285714285</td></tr><tr><td>15.0</td><td>45.225</td></tr><tr><td>16.0</td><td>50.29054054054054</td></tr><tr><td>17.0</td><td>51.55660869565217</td></tr><tr><td>18.0</td><td>52.76495726495727</td></tr><tr><td>19.0</td><td>53.06547619047619</td></tr><tr><td>20.0</td><td>53.72115384615385</td></tr><tr><td>21.0</td><td>64.046875</td></tr><tr><td>22.0</td><td>53.6</td></tr><tr><td>23.0</td><td>59.785714285714285</td></tr><tr><td>24.0</td><td>72.0</td></tr><tr><td>25.0</td><td>73.16666666666667</td></tr><tr><td>26.0</td><td>48.166666666666664</td></tr><tr><td>31.0</td><td>95.0</td></tr></tbody></table></div>"
      ]
     },
     "metadata": {
      "application/vnd.databricks.v1+output": {
       "addedWidgets": {},
       "aggData": [],
       "aggError": "",
       "aggOverflow": false,
       "aggSchema": [],
       "aggSeriesLimitReached": false,
       "aggType": "",
       "arguments": {},
       "columnCustomDisplayInfos": {},
       "data": [
        [
         0.0,
         4.393352144469526
        ],
        [
         1.0,
         6.568931702814951
        ],
        [
         2.0,
         10.024295432458699
        ],
        [
         3.0,
         13.313186813186814
        ],
        [
         4.0,
         16.147385103011093
        ],
        [
         5.0,
         19.13295719844358
        ],
        [
         6.0,
         21.47265625
        ],
        [
         7.0,
         24.135135135135137
        ],
        [
         8.0,
         26.25
        ],
        [
         9.0,
         29.175276752767527
        ],
        [
         10.0,
         31.590733590733592
        ],
        [
         11.0,
         33.90710382513661
        ],
        [
         12.0,
         37.43307086614173
        ],
        [
         13.0,
         41.324561403508774
        ],
        [
         14.0,
         42.785714285714285
        ],
        [
         15.0,
         45.225
        ],
        [
         16.0,
         50.29054054054054
        ],
        [
         17.0,
         51.55660869565217
        ],
        [
         18.0,
         52.76495726495727
        ],
        [
         19.0,
         53.06547619047619
        ],
        [
         20.0,
         53.72115384615385
        ],
        [
         21.0,
         64.046875
        ],
        [
         22.0,
         53.6
        ],
        [
         23.0,
         59.785714285714285
        ],
        [
         24.0,
         72.0
        ],
        [
         25.0,
         73.16666666666667
        ],
        [
         26.0,
         48.166666666666664
        ],
        [
         31.0,
         95.0
        ]
       ],
       "datasetInfos": [
        {
         "name": "_sqldf",
         "schema": {
          "fields": [
           {
            "metadata": {},
            "name": "faixa_distancia",
            "nullable": true,
            "type": "double"
           },
           {
            "metadata": {},
            "name": "tarifa_media",
            "nullable": true,
            "type": "double"
           }
          ],
          "type": "struct"
         },
         "tableIdentifier": null,
         "typeStr": "pyspark.sql.connect.dataframe.DataFrame"
        }
       ],
       "dbfsResultPath": null,
       "isJsonSchema": true,
       "metadata": {
        "createTempViewForImplicitDf": true,
        "dataframeName": "_sqldf",
        "executionCount": 45
       },
       "overflow": false,
       "plotOptions": {
        "customPlotOptions": {},
        "displayType": "table",
        "pivotAggregation": null,
        "pivotColumns": null,
        "xColumns": null,
        "yColumns": null
       },
       "removedWidgets": [],
       "schema": [
        {
         "metadata": "{}",
         "name": "faixa_distancia",
         "type": "\"double\""
        },
        {
         "metadata": "{}",
         "name": "tarifa_media",
         "type": "\"double\""
        }
       ],
       "type": "table"
      }
     },
     "output_type": "display_data"
    },
    {
     "output_type": "display_data",
     "data": {
      "text/plain": [
       "Databricks visualization. Run in Databricks to view."
      ]
     },
     "metadata": {
      "application/vnd.databricks.v1.subcommand+json": {
       "baseErrorDetails": null,
       "bindings": {},
       "collapsed": false,
       "command": "%sql WITH q AS (SELECT \n  ROUND(trip_distance, 0) AS faixa_distancia,\n  AVG(fare_amount) AS tarifa_media\nFROM samples.nyctaxi.trips\nWHERE trip_distance > 0\nGROUP BY faixa_distancia\nORDER BY faixa_distancia) SELECT `faixa_distancia`,SUM(`tarifa_media`) `column_dce1f5ba57` FROM q GROUP BY `faixa_distancia`",
       "commandTitle": "Tarifa média por faixa de distância",
       "commandType": "auto",
       "commandVersion": 0,
       "commentThread": [],
       "commentsVisible": false,
       "contentSha256Hex": null,
       "customPlotOptions": {
        "redashChart": [
         {
          "key": "type",
          "value": "CHART"
         },
         {
          "key": "options",
          "value": {
           "alignYAxesAtZero": true,
           "coefficient": 1,
           "columnConfigurationMap": {
            "x": {
             "column": "faixa_distancia",
             "id": "column_dce1f5ba56"
            },
            "y": [
             {
              "column": "tarifa_media",
              "id": "column_dce1f5ba108",
              "transform": "SUM"
             }
            ]
           },
           "dateTimeFormat": "DD/MM/YYYY HH:mm",
           "direction": {
            "type": "counterclockwise"
           },
           "error_y": {
            "type": "data",
            "visible": true
           },
           "globalSeriesType": "area",
           "hideXAxis": false,
           "isAggregationOn": true,
           "legend": {
            "traceorder": "normal"
           },
           "missingValuesAsZero": true,
           "numBins": 10,
           "numberFormat": "0,0.[00000]",
           "percentFormat": "0[.]00%",
           "series": {
            "error_y": {
             "type": "data",
             "visible": true
            },
            "stacking": null
           },
           "seriesOptions": {
            "column_dce1f5ba108": {
             "color": "#34495E",
             "type": "area",
             "yAxis": 0
            },
            "column_dce1f5ba57": {
             "name": "tarifa_media",
             "type": "area",
             "yAxis": 0
            }
           },
           "showDataLabels": false,
           "sizemode": "diameter",
           "sortX": true,
           "sortY": true,
           "swappedAxes": false,
           "textFormat": "",
           "useAggregationsUi": true,
           "valuesOptions": {},
           "version": 2,
           "xAxis": {
            "labels": {
             "enabled": true
            },
            "type": "-"
           },
           "yAxis": [
            {
             "type": "-"
            },
            {
             "opposite": true,
             "type": "-"
            }
           ]
          }
         }
        ]
       },
       "datasetPreviewNameToCmdIdMap": {},
       "diffDeletes": [],
       "diffInserts": [],
       "displayType": "redashChart",
       "error": null,
       "errorDetails": null,
       "errorSummary": null,
       "errorTraceType": null,
       "finishTime": 0,
       "globalVars": {},
       "guid": "",
       "height": "auto",
       "hideCommandCode": false,
       "hideCommandResult": false,
       "iPythonMetadata": null,
       "inputWidgets": {},
       "isLockedInExamMode": false,
       "latestAssumeRoleInfo": null,
       "latestUser": "a user",
       "latestUserId": null,
       "listResultMetadata": null,
       "metadata": {
        "byteLimit": 2048000,
        "rowLimit": 10000
       },
       "nuid": "984b06b7-2356-4364-a073-b484fed26f9d",
       "origId": 0,
       "parentHierarchy": [],
       "pivotAggregation": null,
       "pivotColumns": null,
       "position": 1.875,
       "resultDbfsErrorMessage": null,
       "resultDbfsStatus": "INLINED_IN_TREE",
       "results": null,
       "showCommandTitle": false,
       "startTime": 0,
       "state": "finished",
       "streamStates": {},
       "subcommandOptions": {
        "queryPlan": {
         "groups": [
          {
           "column": "faixa_distancia",
           "type": "column"
          }
         ],
         "selects": [
          {
           "column": "faixa_distancia",
           "type": "column"
          },
          {
           "alias": "column_dce1f5ba108",
           "args": [
            {
             "column": "tarifa_media",
             "type": "column"
            }
           ],
           "function": "SUM",
           "type": "function"
          }
         ]
        }
       },
       "submitTime": 0,
       "subtype": "tableResultSubCmd.visualization",
       "tableResultIndex": 0,
       "tableResultSettingsMap": {},
       "useConsistentColors": false,
       "version": "CommandV1",
       "width": "auto",
       "workflows": [],
       "xColumns": null,
       "yColumns": null
      }
     },
     "output_type": "display_data"
    }
   ],
   "source": [
    "SELECT \n",
    "  ROUND(trip_distance, 0) AS faixa_distancia,\n",
    "  AVG(fare_amount) AS tarifa_media\n",
    "FROM samples.nyctaxi.trips\n",
    "WHERE trip_distance > 0\n",
    "GROUP BY faixa_distancia\n",
    "ORDER BY faixa_distancia;\n"
   ]
  },
  {
   "cell_type": "markdown",
   "metadata": {
    "application/vnd.databricks.v1+cell": {
     "cellMetadata": {},
     "inputWidgets": {},
     "nuid": "e65154be-d6f0-4a68-977d-291d51bd35eb",
     "showTitle": false,
     "tableResultSettingsMap": {},
     "title": ""
    }
   },
   "source": [
    "## 3. Zonas com maior tarifa média\n",
    "### \uD83D\uDD0D Pergunta\n",
    "Quais regiões têm tarifas mais altas?\n",
    "\n",
    "### \uD83E\uDDE0 Análise\n",
    "Listamos as 5 zonas de origem com maior tarifa média. Essas áreas podem gerar insatisfação ou exigir atenção estratégica."
   ]
  },
  {
   "cell_type": "code",
   "execution_count": 0,
   "metadata": {
    "application/vnd.databricks.v1+cell": {
     "cellMetadata": {
      "byteLimit": 2048000,
      "rowLimit": 10000
     },
     "inputWidgets": {},
     "nuid": "04e7a2f6-68cb-4469-b15b-0a335ec6c7e0",
     "showTitle": false,
     "tableResultSettingsMap": {},
     "title": ""
    }
   },
   "outputs": [
    {
     "output_type": "display_data",
     "data": {
      "text/html": [
       "<style scoped>\n",
       "  .table-result-container {\n",
       "    max-height: 300px;\n",
       "    overflow: auto;\n",
       "  }\n",
       "  table, th, td {\n",
       "    border: 1px solid black;\n",
       "    border-collapse: collapse;\n",
       "  }\n",
       "  th, td {\n",
       "    padding: 5px;\n",
       "  }\n",
       "  th {\n",
       "    text-align: left;\n",
       "  }\n",
       "</style><div class='table-result-container'><table class='table-result'><thead style='background-color: white'><tr><th>pickup_zip</th><th>total_corridas</th><th>tarifa_media</th></tr></thead><tbody><tr><td>8876</td><td>1</td><td>260.0</td></tr><tr><td>7974</td><td>1</td><td>188.0</td></tr><tr><td>7310</td><td>1</td><td>105.0</td></tr><tr><td>7114</td><td>1</td><td>105.0</td></tr><tr><td>7311</td><td>1</td><td>60.0</td></tr></tbody></table></div>"
      ]
     },
     "metadata": {
      "application/vnd.databricks.v1+output": {
       "addedWidgets": {},
       "aggData": [],
       "aggError": "",
       "aggOverflow": false,
       "aggSchema": [],
       "aggSeriesLimitReached": false,
       "aggType": "",
       "arguments": {},
       "columnCustomDisplayInfos": {},
       "data": [
        [
         8876,
         1,
         260.0
        ],
        [
         7974,
         1,
         188.0
        ],
        [
         7310,
         1,
         105.0
        ],
        [
         7114,
         1,
         105.0
        ],
        [
         7311,
         1,
         60.0
        ]
       ],
       "datasetInfos": [
        {
         "name": "_sqldf",
         "schema": {
          "fields": [
           {
            "metadata": {},
            "name": "pickup_zip",
            "nullable": true,
            "type": "integer"
           },
           {
            "metadata": {},
            "name": "total_corridas",
            "nullable": false,
            "type": "long"
           },
           {
            "metadata": {},
            "name": "tarifa_media",
            "nullable": true,
            "type": "double"
           }
          ],
          "type": "struct"
         },
         "tableIdentifier": null,
         "typeStr": "pyspark.sql.connect.dataframe.DataFrame"
        }
       ],
       "dbfsResultPath": null,
       "isJsonSchema": true,
       "metadata": {
        "createTempViewForImplicitDf": true,
        "dataframeName": "_sqldf",
        "executionCount": 46
       },
       "overflow": false,
       "plotOptions": {
        "customPlotOptions": {},
        "displayType": "table",
        "pivotAggregation": null,
        "pivotColumns": null,
        "xColumns": null,
        "yColumns": null
       },
       "removedWidgets": [],
       "schema": [
        {
         "metadata": "{}",
         "name": "pickup_zip",
         "type": "\"integer\""
        },
        {
         "metadata": "{}",
         "name": "total_corridas",
         "type": "\"long\""
        },
        {
         "metadata": "{}",
         "name": "tarifa_media",
         "type": "\"double\""
        }
       ],
       "type": "table"
      }
     },
     "output_type": "display_data"
    },
    {
     "output_type": "display_data",
     "data": {
      "text/plain": [
       "Databricks visualization. Run in Databricks to view."
      ]
     },
     "metadata": {
      "application/vnd.databricks.v1.subcommand+json": {
       "baseErrorDetails": null,
       "bindings": {},
       "collapsed": false,
       "command": "%sql WITH q AS (SELECT \n  pickup_zip,\n  COUNT(*) AS total_corridas,\n  AVG(fare_amount) AS tarifa_media\nFROM samples.nyctaxi.trips\nGROUP BY pickup_zip\nORDER BY tarifa_media DESC\nLIMIT 5) SELECT `pickup_zip`,SUM(`tarifa_media`) `column_dce1f5ba78` FROM q GROUP BY `pickup_zip`",
       "commandTitle": "Zonas de origem com maior tarifa média",
       "commandType": "auto",
       "commandVersion": 0,
       "commentThread": [],
       "commentsVisible": false,
       "contentSha256Hex": null,
       "customPlotOptions": {
        "redashChart": [
         {
          "key": "type",
          "value": "CHART"
         },
         {
          "key": "options",
          "value": {
           "alignYAxesAtZero": true,
           "coefficient": 1,
           "columnConfigurationMap": {
            "x": {
             "column": "pickup_zip",
             "id": "column_dce1f5ba73"
            },
            "y": [
             {
              "column": "tarifa_media",
              "id": "column_dce1f5ba78",
              "transform": "SUM"
             }
            ]
           },
           "dateTimeFormat": "DD/MM/YYYY HH:mm",
           "direction": {
            "type": "counterclockwise"
           },
           "error_y": {
            "type": "data",
            "visible": true
           },
           "globalSeriesType": "column",
           "hideYAxes": true,
           "isAggregationOn": true,
           "legend": {
            "traceorder": "normal"
           },
           "missingValuesAsZero": true,
           "numberFormat": "0,0.[00000]",
           "percentFormat": "0[.]00%",
           "reverseX": false,
           "series": {
            "error_y": {
             "type": "data",
             "visible": true
            },
            "stacking": null
           },
           "seriesOptions": {
            "column_dce1f5ba75": {
             "type": "column",
             "yAxis": 0
            },
            "column_dce1f5ba78": {
             "color": "#34495E",
             "type": "column",
             "yAxis": 0
            },
            "tarifa_media": {
             "color": "#FFAB00",
             "type": "column",
             "yAxis": 0
            }
           },
           "showDataLabels": true,
           "sizemode": "diameter",
           "sortX": false,
           "sortY": true,
           "swappedAxes": true,
           "textFormat": "",
           "useAggregationsUi": true,
           "valuesOptions": {},
           "version": 2,
           "xAxis": {
            "labels": {
             "enabled": true
            },
            "type": "category"
           },
           "yAxis": [
            {
             "type": "-"
            },
            {
             "opposite": true,
             "type": "-"
            }
           ]
          }
         }
        ]
       },
       "datasetPreviewNameToCmdIdMap": {},
       "diffDeletes": [],
       "diffInserts": [],
       "displayType": "redashChart",
       "error": null,
       "errorDetails": null,
       "errorSummary": null,
       "errorTraceType": null,
       "finishTime": 0,
       "globalVars": {},
       "guid": "",
       "height": "240",
       "hideCommandCode": false,
       "hideCommandResult": false,
       "iPythonMetadata": null,
       "inputWidgets": {},
       "isLockedInExamMode": false,
       "latestAssumeRoleInfo": null,
       "latestUser": "a user",
       "latestUserId": null,
       "listResultMetadata": null,
       "metadata": {
        "byteLimit": 2048000,
        "rowLimit": 10000
       },
       "nuid": "f0cf5db1-6830-497a-910c-5539829e1a11",
       "origId": 0,
       "parentHierarchy": [],
       "pivotAggregation": null,
       "pivotColumns": null,
       "position": 1.9375,
       "resultDbfsErrorMessage": null,
       "resultDbfsStatus": "INLINED_IN_TREE",
       "results": null,
       "showCommandTitle": false,
       "startTime": 0,
       "state": "finished",
       "streamStates": {},
       "subcommandOptions": {
        "queryPlan": {
         "groups": [
          {
           "column": "pickup_zip",
           "type": "column"
          }
         ],
         "selects": [
          {
           "column": "pickup_zip",
           "type": "column"
          },
          {
           "alias": "column_dce1f5ba78",
           "args": [
            {
             "column": "tarifa_media",
             "type": "column"
            }
           ],
           "function": "SUM",
           "type": "function"
          }
         ]
        }
       },
       "submitTime": 0,
       "subtype": "tableResultSubCmd.visualization",
       "tableResultIndex": 0,
       "tableResultSettingsMap": {},
       "useConsistentColors": false,
       "version": "CommandV1",
       "width": "auto",
       "workflows": [],
       "xColumns": null,
       "yColumns": null
      }
     },
     "output_type": "display_data"
    }
   ],
   "source": [
    "SELECT \n",
    "  pickup_zip,\n",
    "  COUNT(*) AS total_corridas,\n",
    "  AVG(fare_amount) AS tarifa_media\n",
    "FROM samples.nyctaxi.trips\n",
    "GROUP BY pickup_zip\n",
    "ORDER BY tarifa_media DESC\n",
    "LIMIT 5;\n"
   ]
  },
  {
   "cell_type": "markdown",
   "metadata": {
    "application/vnd.databricks.v1+cell": {
     "cellMetadata": {},
     "inputWidgets": {},
     "nuid": "0dc3c0bd-cd23-4fb1-996c-df711e34cf56",
     "showTitle": false,
     "tableResultSettingsMap": {},
     "title": ""
    }
   },
   "source": [
    "##  4. Tempo total da corrida\n",
    "### \uD83D\uDD0D Pergunta\n",
    "Qual é o tempo médio total das corridas?\n",
    "\n",
    "### \uD83E\uDDE0 Análise\n",
    "Essa métrica mostra a duração média das corridas, útil para entender a agilidade do serviço."
   ]
  },
  {
   "cell_type": "code",
   "execution_count": 0,
   "metadata": {
    "application/vnd.databricks.v1+cell": {
     "cellMetadata": {
      "byteLimit": 2048000,
      "rowLimit": 10000
     },
     "inputWidgets": {},
     "nuid": "ac1e1812-8517-4497-ab4b-21374affb233",
     "showTitle": false,
     "tableResultSettingsMap": {},
     "title": ""
    }
   },
   "outputs": [
    {
     "output_type": "display_data",
     "data": {
      "text/html": [
       "<style scoped>\n",
       "  .table-result-container {\n",
       "    max-height: 300px;\n",
       "    overflow: auto;\n",
       "  }\n",
       "  table, th, td {\n",
       "    border: 1px solid black;\n",
       "    border-collapse: collapse;\n",
       "  }\n",
       "  th, td {\n",
       "    padding: 5px;\n",
       "  }\n",
       "  th {\n",
       "    text-align: left;\n",
       "  }\n",
       "</style><div class='table-result-container'><table class='table-result'><thead style='background-color: white'><tr><th>tempo_medio_corrida</th></tr></thead><tbody><tr><td>14.62725697610797</td></tr></tbody></table></div>"
      ]
     },
     "metadata": {
      "application/vnd.databricks.v1+output": {
       "addedWidgets": {},
       "aggData": [],
       "aggError": "",
       "aggOverflow": false,
       "aggSchema": [],
       "aggSeriesLimitReached": false,
       "aggType": "",
       "arguments": {},
       "columnCustomDisplayInfos": {},
       "data": [
        [
         14.62725697610797
        ]
       ],
       "datasetInfos": [
        {
         "name": "_sqldf",
         "schema": {
          "fields": [
           {
            "metadata": {},
            "name": "tempo_medio_corrida",
            "nullable": true,
            "type": "double"
           }
          ],
          "type": "struct"
         },
         "tableIdentifier": null,
         "typeStr": "pyspark.sql.connect.dataframe.DataFrame"
        }
       ],
       "dbfsResultPath": null,
       "isJsonSchema": true,
       "metadata": {
        "createTempViewForImplicitDf": true,
        "dataframeName": "_sqldf",
        "executionCount": 74
       },
       "overflow": false,
       "plotOptions": {
        "customPlotOptions": {},
        "displayType": "table",
        "pivotAggregation": null,
        "pivotColumns": null,
        "xColumns": null,
        "yColumns": null
       },
       "removedWidgets": [],
       "schema": [
        {
         "metadata": "{}",
         "name": "tempo_medio_corrida",
         "type": "\"double\""
        }
       ],
       "type": "table"
      }
     },
     "output_type": "display_data"
    },
    {
     "output_type": "display_data",
     "data": {
      "text/plain": [
       "Databricks visualization. Run in Databricks to view."
      ]
     },
     "metadata": {
      "application/vnd.databricks.v1.subcommand+json": {
       "baseErrorDetails": null,
       "bindings": {},
       "collapsed": false,
       "command": "SELECT \n  AVG(DATEDIFF(MINUTE, tpep_pickup_datetime, tpep_dropoff_datetime)) AS tempo_medio_corrida\nFROM samples.nyctaxi.trips;\n",
       "commandTitle": "Tempo médio total das corridas",
       "commandType": "auto",
       "commandVersion": 0,
       "commentThread": [],
       "commentsVisible": false,
       "contentSha256Hex": null,
       "customPlotOptions": {
        "redashChart": [
         {
          "key": "type",
          "value": "COUNTER"
         },
         {
          "key": "options",
          "value": {
           "counterColName": "tempo_medio_corrida",
           "counterLabel": "",
           "rowNumber": 1,
           "stringDecChar": ",",
           "stringDecimal": 0,
           "stringThouSep": ".",
           "targetColName": "tempo_medio_corrida",
           "targetRowNumber": 1,
           "tooltipFormat": "0,0.000"
          }
         }
        ]
       },
       "datasetPreviewNameToCmdIdMap": {},
       "diffDeletes": [],
       "diffInserts": [],
       "displayType": "redashChart",
       "error": null,
       "errorDetails": null,
       "errorSummary": null,
       "errorTraceType": null,
       "finishTime": 0,
       "globalVars": {},
       "guid": "",
       "height": "163",
       "hideCommandCode": false,
       "hideCommandResult": false,
       "iPythonMetadata": null,
       "inputWidgets": {},
       "isLockedInExamMode": false,
       "latestAssumeRoleInfo": null,
       "latestUser": "a user",
       "latestUserId": null,
       "listResultMetadata": null,
       "metadata": {},
       "nuid": "6451797e-e60a-48ad-b769-538dc9beb6a7",
       "origId": 0,
       "parentHierarchy": [],
       "pivotAggregation": null,
       "pivotColumns": null,
       "position": 3.9375,
       "resultDbfsErrorMessage": null,
       "resultDbfsStatus": "INLINED_IN_TREE",
       "results": null,
       "showCommandTitle": false,
       "startTime": 0,
       "state": "input",
       "streamStates": {},
       "subcommandOptions": {},
       "submitTime": 0,
       "subtype": "tableResultSubCmd.visualization",
       "tableResultIndex": 0,
       "tableResultSettingsMap": {},
       "useConsistentColors": false,
       "version": "CommandV1",
       "width": "440",
       "workflows": [],
       "xColumns": null,
       "yColumns": null
      }
     },
     "output_type": "display_data"
    }
   ],
   "source": [
    "SELECT \n",
    "  AVG(DATEDIFF(MINUTE, tpep_pickup_datetime, tpep_dropoff_datetime)) AS tempo_medio_corrida\n",
    "FROM samples.nyctaxi.trips;\n"
   ]
  },
  {
   "cell_type": "markdown",
   "metadata": {
    "application/vnd.databricks.v1+cell": {
     "cellMetadata": {},
     "inputWidgets": {},
     "nuid": "b5bcc454-4ad4-432e-9be9-2ef52f1ce5f0",
     "showTitle": false,
     "tableResultSettingsMap": {},
     "title": ""
    }
   },
   "source": [
    "## 5. Tarifa por minuto\n",
    "### \uD83D\uDD0D Pergunta\n",
    "Quanto o cliente paga por minuto de corrida?\n",
    "\n",
    "### \uD83E\uDDE0 Análise\n",
    "Ajuda a entender a percepção de valor — especialmente em corridas curtas."
   ]
  },
  {
   "cell_type": "code",
   "execution_count": 0,
   "metadata": {
    "application/vnd.databricks.v1+cell": {
     "cellMetadata": {
      "byteLimit": 2048000,
      "rowLimit": 10000
     },
     "inputWidgets": {},
     "nuid": "4868d9f9-457b-4450-8851-d24ba36d65e3",
     "showTitle": false,
     "tableResultSettingsMap": {},
     "title": ""
    }
   },
   "outputs": [
    {
     "output_type": "display_data",
     "data": {
      "text/html": [
       "<style scoped>\n",
       "  .table-result-container {\n",
       "    max-height: 300px;\n",
       "    overflow: auto;\n",
       "  }\n",
       "  table, th, td {\n",
       "    border: 1px solid black;\n",
       "    border-collapse: collapse;\n",
       "  }\n",
       "  th, td {\n",
       "    padding: 5px;\n",
       "  }\n",
       "  th {\n",
       "    text-align: left;\n",
       "  }\n",
       "</style><div class='table-result-container'><table class='table-result'><thead style='background-color: white'><tr><th>tarifa_por_minuto</th></tr></thead><tbody><tr><td>1.1</td></tr></tbody></table></div>"
      ]
     },
     "metadata": {
      "application/vnd.databricks.v1+output": {
       "addedWidgets": {},
       "aggData": [],
       "aggError": "",
       "aggOverflow": false,
       "aggSchema": [],
       "aggSeriesLimitReached": false,
       "aggType": "",
       "arguments": {},
       "columnCustomDisplayInfos": {},
       "data": [
        [
         1.1
        ]
       ],
       "datasetInfos": [
        {
         "name": "_sqldf",
         "schema": {
          "fields": [
           {
            "metadata": {},
            "name": "tarifa_por_minuto",
            "nullable": true,
            "type": "double"
           }
          ],
          "type": "struct"
         },
         "tableIdentifier": null,
         "typeStr": "pyspark.sql.connect.dataframe.DataFrame"
        }
       ],
       "dbfsResultPath": null,
       "isJsonSchema": true,
       "metadata": {
        "createTempViewForImplicitDf": true,
        "dataframeName": "_sqldf",
        "executionCount": 78
       },
       "overflow": false,
       "plotOptions": {
        "customPlotOptions": {},
        "displayType": "table",
        "pivotAggregation": null,
        "pivotColumns": null,
        "xColumns": null,
        "yColumns": null
       },
       "removedWidgets": [],
       "schema": [
        {
         "metadata": "{}",
         "name": "tarifa_por_minuto",
         "type": "\"double\""
        }
       ],
       "type": "table"
      }
     },
     "output_type": "display_data"
    },
    {
     "output_type": "display_data",
     "data": {
      "text/plain": [
       "Databricks visualization. Run in Databricks to view."
      ]
     },
     "metadata": {
      "application/vnd.databricks.v1.subcommand+json": {
       "baseErrorDetails": null,
       "bindings": {},
       "collapsed": false,
       "command": "SELECT \n  ROUND(AVG(fare_amount / DATEDIFF(MINUTE, tpep_pickup_datetime, tpep_dropoff_datetime)), 2) AS tarifa_por_minuto\nFROM samples.nyctaxi.trips\nWHERE DATEDIFF(MINUTE, tpep_pickup_datetime, tpep_dropoff_datetime) > 0;\n",
       "commandTitle": "Tarifa por minuto",
       "commandType": "auto",
       "commandVersion": 0,
       "commentThread": [],
       "commentsVisible": false,
       "contentSha256Hex": null,
       "customPlotOptions": {
        "redashChart": [
         {
          "key": "type",
          "value": "COUNTER"
         },
         {
          "key": "options",
          "value": {
           "countRow": false,
           "counterColName": "tarifa_por_minuto",
           "counterLabel": "",
           "formatTargetValue": false,
           "rowNumber": 1,
           "stringDecChar": ".",
           "stringDecimal": 0,
           "stringThouSep": ",",
           "targetRowNumber": 1,
           "tooltipFormat": "0,0.000"
          }
         }
        ]
       },
       "datasetPreviewNameToCmdIdMap": {},
       "diffDeletes": [],
       "diffInserts": [],
       "displayType": "redashChart",
       "error": null,
       "errorDetails": null,
       "errorSummary": null,
       "errorTraceType": null,
       "finishTime": 0,
       "globalVars": {},
       "guid": "",
       "height": "103",
       "hideCommandCode": false,
       "hideCommandResult": false,
       "iPythonMetadata": null,
       "inputWidgets": {},
       "isLockedInExamMode": false,
       "latestAssumeRoleInfo": null,
       "latestUser": "a user",
       "latestUserId": null,
       "listResultMetadata": null,
       "metadata": {},
       "nuid": "d2fb0682-5af1-4d37-a080-b9a4064b4d72",
       "origId": 0,
       "parentHierarchy": [],
       "pivotAggregation": null,
       "pivotColumns": null,
       "position": 5.9375,
       "resultDbfsErrorMessage": null,
       "resultDbfsStatus": "INLINED_IN_TREE",
       "results": null,
       "showCommandTitle": false,
       "startTime": 0,
       "state": "input",
       "streamStates": {},
       "subcommandOptions": {},
       "submitTime": 0,
       "subtype": "tableResultSubCmd.visualization",
       "tableResultIndex": 0,
       "tableResultSettingsMap": {},
       "useConsistentColors": false,
       "version": "CommandV1",
       "width": "430",
       "workflows": [],
       "xColumns": null,
       "yColumns": null
      }
     },
     "output_type": "display_data"
    }
   ],
   "source": [
    "SELECT \n",
    "  ROUND(AVG(fare_amount / DATEDIFF(MINUTE, tpep_pickup_datetime, tpep_dropoff_datetime)), 2) AS tarifa_por_minuto\n",
    "FROM samples.nyctaxi.trips\n",
    "WHERE DATEDIFF(MINUTE, tpep_pickup_datetime, tpep_dropoff_datetime) > 0;\n"
   ]
  },
  {
   "cell_type": "markdown",
   "metadata": {
    "application/vnd.databricks.v1+cell": {
     "cellMetadata": {},
     "inputWidgets": {},
     "nuid": "5aaec410-3d91-4be5-918e-ecacecfca6d9",
     "showTitle": false,
     "tableResultSettingsMap": {},
     "title": ""
    }
   },
   "source": [
    "## 6. Corridas com tarifa acima da média\n",
    "### \uD83D\uDD0D Pergunta\n",
    "Quais corridas tiveram tarifas muito acima da média?\n",
    "\n",
    "### \uD83E\uDDE0 Análise\n",
    "Identifica outliers que podem gerar reclamações ou insatisfação."
   ]
  },
  {
   "cell_type": "code",
   "execution_count": 0,
   "metadata": {
    "application/vnd.databricks.v1+cell": {
     "cellMetadata": {
      "byteLimit": 2048000,
      "rowLimit": 10000
     },
     "inputWidgets": {},
     "nuid": "db9e6abf-be93-4776-a9b4-525e607031f7",
     "showTitle": false,
     "tableResultSettingsMap": {},
     "title": ""
    }
   },
   "outputs": [
    {
     "output_type": "display_data",
     "data": {
      "text/html": [
       "<style scoped>\n",
       "  .table-result-container {\n",
       "    max-height: 300px;\n",
       "    overflow: auto;\n",
       "  }\n",
       "  table, th, td {\n",
       "    border: 1px solid black;\n",
       "    border-collapse: collapse;\n",
       "  }\n",
       "  th, td {\n",
       "    padding: 5px;\n",
       "  }\n",
       "  th {\n",
       "    text-align: left;\n",
       "  }\n",
       "</style><div class='table-result-container'><table class='table-result'><thead style='background-color: white'><tr><th>fare_amount</th><th>trip_distance</th><th>tpep_pickup_datetime</th></tr></thead><tbody><tr><td>275.0</td><td>20.85</td><td>2016-02-12T20:55:19.000Z</td></tr><tr><td>260.0</td><td>0.0</td><td>2016-02-29T12:16:16.000Z</td></tr><tr><td>188.0</td><td>0.0</td><td>2016-01-30T22:28:42.000Z</td></tr><tr><td>130.0</td><td>25.46</td><td>2016-02-17T22:23:14.000Z</td></tr><tr><td>115.0</td><td>21.3</td><td>2016-01-28T17:36:17.000Z</td></tr><tr><td>105.0</td><td>0.0</td><td>2016-01-04T18:58:23.000Z</td></tr><tr><td>105.0</td><td>0.0</td><td>2016-01-16T18:09:15.000Z</td></tr><tr><td>95.0</td><td>30.6</td><td>2016-02-22T21:17:27.000Z</td></tr><tr><td>95.0</td><td>12.49</td><td>2016-02-24T22:19:55.000Z</td></tr><tr><td>95.0</td><td>5.2</td><td>2016-01-04T09:19:53.000Z</td></tr></tbody></table></div>"
      ]
     },
     "metadata": {
      "application/vnd.databricks.v1+output": {
       "addedWidgets": {},
       "aggData": [],
       "aggError": "",
       "aggOverflow": false,
       "aggSchema": [],
       "aggSeriesLimitReached": false,
       "aggType": "",
       "arguments": {},
       "columnCustomDisplayInfos": {},
       "data": [
        [
         275.0,
         20.85,
         "2016-02-12T20:55:19.000Z"
        ],
        [
         260.0,
         0.0,
         "2016-02-29T12:16:16.000Z"
        ],
        [
         188.0,
         0.0,
         "2016-01-30T22:28:42.000Z"
        ],
        [
         130.0,
         25.46,
         "2016-02-17T22:23:14.000Z"
        ],
        [
         115.0,
         21.3,
         "2016-01-28T17:36:17.000Z"
        ],
        [
         105.0,
         0.0,
         "2016-01-04T18:58:23.000Z"
        ],
        [
         105.0,
         0.0,
         "2016-01-16T18:09:15.000Z"
        ],
        [
         95.0,
         30.6,
         "2016-02-22T21:17:27.000Z"
        ],
        [
         95.0,
         12.49,
         "2016-02-24T22:19:55.000Z"
        ],
        [
         95.0,
         5.2,
         "2016-01-04T09:19:53.000Z"
        ]
       ],
       "datasetInfos": [
        {
         "name": "_sqldf",
         "schema": {
          "fields": [
           {
            "metadata": {},
            "name": "fare_amount",
            "nullable": true,
            "type": "double"
           },
           {
            "metadata": {},
            "name": "trip_distance",
            "nullable": true,
            "type": "double"
           },
           {
            "metadata": {},
            "name": "tpep_pickup_datetime",
            "nullable": true,
            "type": "timestamp"
           }
          ],
          "type": "struct"
         },
         "tableIdentifier": null,
         "typeStr": "pyspark.sql.connect.dataframe.DataFrame"
        }
       ],
       "dbfsResultPath": null,
       "isJsonSchema": true,
       "metadata": {
        "createTempViewForImplicitDf": true,
        "dataframeName": "_sqldf",
        "executionCount": 88
       },
       "overflow": false,
       "plotOptions": {
        "customPlotOptions": {},
        "displayType": "table",
        "pivotAggregation": null,
        "pivotColumns": null,
        "xColumns": null,
        "yColumns": null
       },
       "removedWidgets": [],
       "schema": [
        {
         "metadata": "{}",
         "name": "fare_amount",
         "type": "\"double\""
        },
        {
         "metadata": "{}",
         "name": "trip_distance",
         "type": "\"double\""
        },
        {
         "metadata": "{}",
         "name": "tpep_pickup_datetime",
         "type": "\"timestamp\""
        }
       ],
       "type": "table"
      }
     },
     "output_type": "display_data"
    },
    {
     "output_type": "display_data",
     "data": {
      "text/plain": [
       "Databricks visualization. Run in Databricks to view."
      ]
     },
     "metadata": {
      "application/vnd.databricks.v1.subcommand+json": {
       "baseErrorDetails": null,
       "bindings": {},
       "collapsed": false,
       "command": "SELECT \n  fare_amount,\n  trip_distance,\n  tpep_pickup_datetime\nFROM samples.nyctaxi.trips\nWHERE fare_amount > (SELECT AVG(fare_amount) FROM samples.nyctaxi.trips)\nORDER BY fare_amount DESC\nLIMIT 10;\n",
       "commandTitle": "Corridas com tarifa acima da média",
       "commandType": "auto",
       "commandVersion": 0,
       "commentThread": [],
       "commentsVisible": false,
       "contentSha256Hex": null,
       "customPlotOptions": {
        "redashChart": [
         {
          "key": "type",
          "value": "TABLE"
         },
         {
          "key": "options",
          "value": {
           "columns": [
            {
             "alignContent": "right",
             "allowHTML": false,
             "allowSearch": false,
             "booleanValues": [
              "false",
              "true"
             ],
             "displayAs": "number",
             "highlightLinks": false,
             "imageHeight": "",
             "imageTitleTemplate": "{{ @ }}",
             "imageUrlTemplate": "{{ @ }}",
             "imageWidth": "",
             "linkOpenInNewTab": true,
             "linkTextTemplate": "{{ @ }}",
             "linkTitleTemplate": "{{ @ }}",
             "linkUrlTemplate": "{{ @ }}",
             "name": "fare_amount",
             "numberFormat": "0.00",
             "order": 100000,
             "preserveWhitespace": false,
             "title": "fare_amount",
             "type": "float",
             "useMonospaceFont": false,
             "visible": true
            },
            {
             "alignContent": "right",
             "allowHTML": false,
             "allowSearch": false,
             "booleanValues": [
              "false",
              "true"
             ],
             "displayAs": "number",
             "highlightLinks": false,
             "imageHeight": "",
             "imageTitleTemplate": "{{ @ }}",
             "imageUrlTemplate": "{{ @ }}",
             "imageWidth": "",
             "linkOpenInNewTab": true,
             "linkTextTemplate": "{{ @ }}",
             "linkTitleTemplate": "{{ @ }}",
             "linkUrlTemplate": "{{ @ }}",
             "name": "trip_distance",
             "numberFormat": "0.00",
             "order": 100001,
             "preserveWhitespace": false,
             "title": "trip_distance",
             "type": "float",
             "useMonospaceFont": false,
             "visible": true
            },
            {
             "alignContent": "right",
             "allowHTML": false,
             "allowSearch": false,
             "booleanValues": [
              "false",
              "true"
             ],
             "dateTimeFormat": "DD/MM/YYYY HH:mm:ss.SSS",
             "displayAs": "datetime",
             "highlightLinks": false,
             "imageHeight": "",
             "imageTitleTemplate": "{{ @ }}",
             "imageUrlTemplate": "{{ @ }}",
             "imageWidth": "",
             "linkOpenInNewTab": true,
             "linkTextTemplate": "{{ @ }}",
             "linkTitleTemplate": "{{ @ }}",
             "linkUrlTemplate": "{{ @ }}",
             "name": "tpep_pickup_datetime",
             "order": 100002,
             "preserveWhitespace": false,
             "title": "tpep_pickup_datetime",
             "type": "datetime",
             "useMonospaceFont": false,
             "visible": true
            }
           ],
           "condensed": true,
           "itemsPerPage": 25,
           "paginationSize": "default",
           "version": 2,
           "withRowNumber": true
          }
         }
        ]
       },
       "datasetPreviewNameToCmdIdMap": {},
       "diffDeletes": [],
       "diffInserts": [],
       "displayType": "redashChart",
       "error": null,
       "errorDetails": null,
       "errorSummary": null,
       "errorTraceType": null,
       "finishTime": 0,
       "globalVars": {},
       "guid": "",
       "height": "389",
       "hideCommandCode": false,
       "hideCommandResult": false,
       "iPythonMetadata": null,
       "inputWidgets": {},
       "isLockedInExamMode": false,
       "latestAssumeRoleInfo": null,
       "latestUser": "a user",
       "latestUserId": null,
       "listResultMetadata": null,
       "metadata": {},
       "nuid": "bf354023-8f35-4048-8b5d-b493712923bd",
       "origId": 0,
       "parentHierarchy": [],
       "pivotAggregation": null,
       "pivotColumns": null,
       "position": 9.9375,
       "resultDbfsErrorMessage": null,
       "resultDbfsStatus": "INLINED_IN_TREE",
       "results": null,
       "showCommandTitle": false,
       "startTime": 0,
       "state": "input",
       "streamStates": {},
       "subcommandOptions": {},
       "submitTime": 0,
       "subtype": "tableResultSubCmd.visualization",
       "tableResultIndex": 0,
       "tableResultSettingsMap": {},
       "useConsistentColors": false,
       "version": "CommandV1",
       "width": "816",
       "workflows": [],
       "xColumns": null,
       "yColumns": null
      }
     },
     "output_type": "display_data"
    }
   ],
   "source": [
    "SELECT \n",
    "  fare_amount,\n",
    "  trip_distance,\n",
    "  tpep_pickup_datetime\n",
    "FROM samples.nyctaxi.trips\n",
    "WHERE fare_amount > (SELECT AVG(fare_amount) FROM samples.nyctaxi.trips)\n",
    "ORDER BY fare_amount DESC\n",
    "LIMIT 10;\n"
   ]
  },
  {
   "cell_type": "markdown",
   "metadata": {
    "application/vnd.databricks.v1+cell": {
     "cellMetadata": {},
     "inputWidgets": {},
     "nuid": "d58fd8e7-e98c-4e25-83ca-01156046e7b6",
     "showTitle": false,
     "tableResultSettingsMap": {},
     "title": ""
    }
   },
   "source": [
    "## 7. Tempo médio por dia da semana\n",
    "### \uD83D\uDD0D Pergunta\n",
    "A experiência varia conforme o dia da semana?\n",
    "\n",
    "### \uD83E\uDDE0 Análise\n",
    "Mostra se há dias com maior tempo de viagem → possível impacto na satisfação."
   ]
  },
  {
   "cell_type": "code",
   "execution_count": 0,
   "metadata": {
    "application/vnd.databricks.v1+cell": {
     "cellMetadata": {
      "byteLimit": 2048000,
      "rowLimit": 10000
     },
     "inputWidgets": {},
     "nuid": "18a0c147-6a79-44b0-a2d0-b0cc9146afa8",
     "showTitle": false,
     "tableResultSettingsMap": {},
     "title": ""
    }
   },
   "outputs": [
    {
     "output_type": "display_data",
     "data": {
      "text/html": [
       "<style scoped>\n",
       "  .table-result-container {\n",
       "    max-height: 300px;\n",
       "    overflow: auto;\n",
       "  }\n",
       "  table, th, td {\n",
       "    border: 1px solid black;\n",
       "    border-collapse: collapse;\n",
       "  }\n",
       "  th, td {\n",
       "    padding: 5px;\n",
       "  }\n",
       "  th {\n",
       "    text-align: left;\n",
       "  }\n",
       "</style><div class='table-result-container'><table class='table-result'><thead style='background-color: white'><tr><th>dia_semana</th><th>tempo_medio</th></tr></thead><tbody><tr><td>1</td><td>11.919381375452451</td></tr><tr><td>2</td><td>12.419582772543741</td></tr><tr><td>3</td><td>14.659841954022989</td></tr><tr><td>4</td><td>13.969121140142517</td></tr><tr><td>5</td><td>17.183508989460634</td></tr><tr><td>6</td><td>16.330900926185798</td></tr><tr><td>7</td><td>15.31020288150544</td></tr></tbody></table></div>"
      ]
     },
     "metadata": {
      "application/vnd.databricks.v1+output": {
       "addedWidgets": {},
       "aggData": [],
       "aggError": "",
       "aggOverflow": false,
       "aggSchema": [],
       "aggSeriesLimitReached": false,
       "aggType": "",
       "arguments": {},
       "columnCustomDisplayInfos": {},
       "data": [
        [
         1,
         11.919381375452451
        ],
        [
         2,
         12.419582772543741
        ],
        [
         3,
         14.659841954022989
        ],
        [
         4,
         13.969121140142517
        ],
        [
         5,
         17.183508989460634
        ],
        [
         6,
         16.330900926185798
        ],
        [
         7,
         15.31020288150544
        ]
       ],
       "datasetInfos": [
        {
         "name": "_sqldf",
         "schema": {
          "fields": [
           {
            "metadata": {},
            "name": "dia_semana",
            "nullable": true,
            "type": "integer"
           },
           {
            "metadata": {},
            "name": "tempo_medio",
            "nullable": true,
            "type": "double"
           }
          ],
          "type": "struct"
         },
         "tableIdentifier": null,
         "typeStr": "pyspark.sql.connect.dataframe.DataFrame"
        }
       ],
       "dbfsResultPath": null,
       "isJsonSchema": true,
       "metadata": {
        "createTempViewForImplicitDf": true,
        "dataframeName": "_sqldf",
        "executionCount": 90
       },
       "overflow": false,
       "plotOptions": {
        "customPlotOptions": {},
        "displayType": "table",
        "pivotAggregation": null,
        "pivotColumns": null,
        "xColumns": null,
        "yColumns": null
       },
       "removedWidgets": [],
       "schema": [
        {
         "metadata": "{}",
         "name": "dia_semana",
         "type": "\"integer\""
        },
        {
         "metadata": "{}",
         "name": "tempo_medio",
         "type": "\"double\""
        }
       ],
       "type": "table"
      }
     },
     "output_type": "display_data"
    },
    {
     "output_type": "display_data",
     "data": {
      "text/plain": [
       "Databricks visualization. Run in Databricks to view."
      ]
     },
     "metadata": {
      "application/vnd.databricks.v1.subcommand+json": {
       "baseErrorDetails": null,
       "bindings": {},
       "collapsed": false,
       "command": "%sql WITH q AS (SELECT \n  DAYOFWEEK(tpep_pickup_datetime) AS dia_semana,\n  AVG(DATEDIFF(MINUTE, tpep_pickup_datetime, tpep_dropoff_datetime)) AS tempo_medio\nFROM samples.nyctaxi.trips\nGROUP BY dia_semana\nORDER BY dia_semana) SELECT `dia_semana`,SUM(`tempo_medio`) `column_dce1f5ba161` FROM q GROUP BY `dia_semana`",
       "commandTitle": "Tempo médio por dia da semana",
       "commandType": "auto",
       "commandVersion": 0,
       "commentThread": [],
       "commentsVisible": false,
       "contentSha256Hex": null,
       "customPlotOptions": {
        "redashChart": [
         {
          "key": "type",
          "value": "CHART"
         },
         {
          "key": "options",
          "value": {
           "alignYAxesAtZero": true,
           "coefficient": 1,
           "columnConfigurationMap": {
            "x": {
             "column": "dia_semana",
             "id": "column_dce1f5ba160"
            },
            "y": [
             {
              "column": "tempo_medio",
              "id": "column_dce1f5ba161",
              "transform": "SUM"
             }
            ]
           },
           "dateTimeFormat": "DD/MM/YYYY HH:mm",
           "direction": {
            "type": "counterclockwise"
           },
           "error_y": {
            "type": "data",
            "visible": true
           },
           "globalSeriesType": "column",
           "isAggregationOn": true,
           "legend": {
            "traceorder": "normal"
           },
           "missingValuesAsZero": true,
           "numberFormat": "0,0.[00000]",
           "percentFormat": "0[.]00%",
           "series": {
            "error_y": {
             "type": "data",
             "visible": true
            },
            "stacking": null
           },
           "seriesOptions": {
            "column_dce1f5ba161": {
             "color": "#34495E",
             "name": "tempo_medio",
             "type": "column",
             "yAxis": 0
            }
           },
           "showDataLabels": true,
           "sizemode": "diameter",
           "sortX": true,
           "sortY": true,
           "swappedAxes": false,
           "textFormat": "",
           "useAggregationsUi": true,
           "valuesOptions": {},
           "version": 2,
           "xAxis": {
            "labels": {
             "enabled": true
            },
            "type": "-"
           },
           "yAxis": [
            {
             "type": "-"
            },
            {
             "opposite": true,
             "type": "-"
            }
           ]
          }
         }
        ]
       },
       "datasetPreviewNameToCmdIdMap": {},
       "diffDeletes": [],
       "diffInserts": [],
       "displayType": "redashChart",
       "error": null,
       "errorDetails": null,
       "errorSummary": null,
       "errorTraceType": null,
       "finishTime": 0,
       "globalVars": {},
       "guid": "",
       "height": "auto",
       "hideCommandCode": false,
       "hideCommandResult": false,
       "iPythonMetadata": null,
       "inputWidgets": {},
       "isLockedInExamMode": false,
       "latestAssumeRoleInfo": null,
       "latestUser": "a user",
       "latestUserId": null,
       "listResultMetadata": null,
       "metadata": {},
       "nuid": "d1ae7dab-77f8-406b-99f9-fc72955de730",
       "origId": 0,
       "parentHierarchy": [],
       "pivotAggregation": null,
       "pivotColumns": null,
       "position": 11.9375,
       "resultDbfsErrorMessage": null,
       "resultDbfsStatus": "INLINED_IN_TREE",
       "results": null,
       "showCommandTitle": false,
       "startTime": 0,
       "state": "input",
       "streamStates": {},
       "subcommandOptions": {
        "queryPlan": {
         "groups": [
          {
           "column": "dia_semana",
           "type": "column"
          }
         ],
         "selects": [
          {
           "column": "dia_semana",
           "type": "column"
          },
          {
           "alias": "column_dce1f5ba161",
           "args": [
            {
             "column": "tempo_medio",
             "type": "column"
            }
           ],
           "function": "SUM",
           "type": "function"
          }
         ]
        }
       },
       "submitTime": 0,
       "subtype": "tableResultSubCmd.visualization",
       "tableResultIndex": 0,
       "tableResultSettingsMap": {},
       "useConsistentColors": false,
       "version": "CommandV1",
       "width": "auto",
       "workflows": [],
       "xColumns": null,
       "yColumns": null
      }
     },
     "output_type": "display_data"
    }
   ],
   "source": [
    "SELECT \n",
    "  DAYOFWEEK(tpep_pickup_datetime) AS dia_semana,\n",
    "  AVG(DATEDIFF(MINUTE, tpep_pickup_datetime, tpep_dropoff_datetime)) AS tempo_medio\n",
    "FROM samples.nyctaxi.trips\n",
    "GROUP BY dia_semana\n",
    "ORDER BY dia_semana;\n"
   ]
  },
  {
   "cell_type": "markdown",
   "metadata": {
    "application/vnd.databricks.v1+cell": {
     "cellMetadata": {},
     "inputWidgets": {},
     "nuid": "cde66174-29b8-44c4-8657-f450e4dcdeb8",
     "showTitle": false,
     "tableResultSettingsMap": {},
     "title": ""
    }
   },
   "source": [
    "## 8. Índice de frustração\n",
    "### \uD83D\uDD0D Pergunta\n",
    "Quais corridas têm maior potencial de frustração?\n",
    "\n",
    "### \uD83E\uDDE0 Análise\n",
    "Criamos uma métrica fictícia: tempo * tarifa / distância. Quanto maior, mais provável que o cliente esteja insatisfeito.\n",
    "\n",
    "### ✨ Insight\n",
    "As corridas com maior índice de frustração revelam situações onde o cliente pode ter sentido que o serviço não valeu o custo ou o tempo investido. Essa análise pode ser aplicada em contextos de mobilidade, logística ou atendimento, ajudando a antecipar insatisfações e redesenhar jornadas."
   ]
  },
  {
   "cell_type": "code",
   "execution_count": 0,
   "metadata": {
    "application/vnd.databricks.v1+cell": {
     "cellMetadata": {
      "byteLimit": 2048000,
      "rowLimit": 10000
     },
     "inputWidgets": {},
     "nuid": "cdf20901-9f2e-461c-9368-b7fa81bc21ed",
     "showTitle": false,
     "tableResultSettingsMap": {
      "0": {
       "dataGridStateBlob": "{\"version\":1,\"tableState\":{\"columnPinning\":{\"left\":[\"#row_number#\"],\"right\":[]},\"columnSizing\":{},\"columnVisibility\":{}},\"settings\":{\"columns\":{}},\"syncTimestamp\":1758940274401}",
       "filterBlob": null,
       "queryPlanFiltersBlob": null,
       "tableResultIndex": 0
      }
     },
     "title": ""
    }
   },
   "outputs": [
    {
     "output_type": "display_data",
     "data": {
      "text/html": [
       "<style scoped>\n",
       "  .table-result-container {\n",
       "    max-height: 300px;\n",
       "    overflow: auto;\n",
       "  }\n",
       "  table, th, td {\n",
       "    border: 1px solid black;\n",
       "    border-collapse: collapse;\n",
       "  }\n",
       "  th, td {\n",
       "    padding: 5px;\n",
       "  }\n",
       "  th {\n",
       "    text-align: left;\n",
       "  }\n",
       "</style><div class='table-result-container'><table class='table-result'><thead style='background-color: white'><tr><th>trip_distance</th><th>fare_amount</th><th>tempo</th><th>indice_frustracao</th></tr></thead><tbody><tr><td>1.0</td><td>10.0</td><td>1414</td><td>14140.0</td></tr><tr><td>0.5</td><td>4.5</td><td>1435</td><td>12915.0</td></tr><tr><td>0.62</td><td>5.5</td><td>1437</td><td>12747.58</td></tr><tr><td>0.45</td><td>6.0</td><td>895</td><td>11933.33</td></tr><tr><td>0.74</td><td>6.0</td><td>1435</td><td>11635.14</td></tr><tr><td>0.73</td><td>5.5</td><td>1430</td><td>10773.97</td></tr><tr><td>1.09</td><td>7.5</td><td>1431</td><td>9846.33</td></tr><tr><td>1.37</td><td>9.0</td><td>1436</td><td>9433.58</td></tr><tr><td>2.05</td><td>13.5</td><td>1414</td><td>9311.71</td></tr><tr><td>2.1</td><td>13.5</td><td>1404</td><td>9025.71</td></tr></tbody></table></div>"
      ]
     },
     "metadata": {
      "application/vnd.databricks.v1+output": {
       "addedWidgets": {},
       "aggData": [],
       "aggError": "",
       "aggOverflow": false,
       "aggSchema": [],
       "aggSeriesLimitReached": false,
       "aggType": "",
       "arguments": {},
       "columnCustomDisplayInfos": {},
       "data": [
        [
         1.0,
         10.0,
         1414,
         14140.0
        ],
        [
         0.5,
         4.5,
         1435,
         12915.0
        ],
        [
         0.62,
         5.5,
         1437,
         12747.58
        ],
        [
         0.45,
         6.0,
         895,
         11933.33
        ],
        [
         0.74,
         6.0,
         1435,
         11635.14
        ],
        [
         0.73,
         5.5,
         1430,
         10773.97
        ],
        [
         1.09,
         7.5,
         1431,
         9846.33
        ],
        [
         1.37,
         9.0,
         1436,
         9433.58
        ],
        [
         2.05,
         13.5,
         1414,
         9311.71
        ],
        [
         2.1,
         13.5,
         1404,
         9025.71
        ]
       ],
       "datasetInfos": [
        {
         "name": "_sqldf",
         "schema": {
          "fields": [
           {
            "metadata": {},
            "name": "trip_distance",
            "nullable": true,
            "type": "double"
           },
           {
            "metadata": {},
            "name": "fare_amount",
            "nullable": true,
            "type": "double"
           },
           {
            "metadata": {},
            "name": "tempo",
            "nullable": true,
            "type": "long"
           },
           {
            "metadata": {},
            "name": "indice_frustracao",
            "nullable": true,
            "type": "double"
           }
          ],
          "type": "struct"
         },
         "tableIdentifier": null,
         "typeStr": "pyspark.sql.connect.dataframe.DataFrame"
        }
       ],
       "dbfsResultPath": null,
       "isJsonSchema": true,
       "metadata": {
        "createTempViewForImplicitDf": true,
        "dataframeName": "_sqldf",
        "executionCount": 92
       },
       "overflow": false,
       "plotOptions": {
        "customPlotOptions": {},
        "displayType": "table",
        "pivotAggregation": null,
        "pivotColumns": null,
        "xColumns": null,
        "yColumns": null
       },
       "removedWidgets": [],
       "schema": [
        {
         "metadata": "{}",
         "name": "trip_distance",
         "type": "\"double\""
        },
        {
         "metadata": "{}",
         "name": "fare_amount",
         "type": "\"double\""
        },
        {
         "metadata": "{}",
         "name": "tempo",
         "type": "\"long\""
        },
        {
         "metadata": "{}",
         "name": "indice_frustracao",
         "type": "\"double\""
        }
       ],
       "type": "table"
      }
     },
     "output_type": "display_data"
    },
    {
     "output_type": "display_data",
     "data": {
      "text/plain": [
       "Databricks visualization. Run in Databricks to view."
      ]
     },
     "metadata": {
      "application/vnd.databricks.v1.subcommand+json": {
       "baseErrorDetails": null,
       "bindings": {},
       "collapsed": false,
       "command": "SELECT \n  trip_distance,\n  fare_amount,\n  DATEDIFF(MINUTE, tpep_pickup_datetime, tpep_dropoff_datetime) AS tempo,\n  ROUND((DATEDIFF(MINUTE, tpep_pickup_datetime, tpep_dropoff_datetime) * fare_amount) / trip_distance, 2) AS indice_frustracao\nFROM samples.nyctaxi.trips\nWHERE trip_distance > 0\nORDER BY indice_frustracao DESC\nLIMIT 10;\n",
       "commandTitle": "Índice de frustração",
       "commandType": "auto",
       "commandVersion": 0,
       "commentThread": [],
       "commentsVisible": false,
       "contentSha256Hex": null,
       "customPlotOptions": {
        "redashChart": [
         {
          "key": "type",
          "value": "TABLE"
         },
         {
          "key": "options",
          "value": {
           "columns": [
            {
             "alignContent": "right",
             "allowHTML": false,
             "allowSearch": false,
             "booleanValues": [
              "false",
              "true"
             ],
             "displayAs": "number",
             "highlightLinks": false,
             "imageHeight": "",
             "imageTitleTemplate": "{{ @ }}",
             "imageUrlTemplate": "{{ @ }}",
             "imageWidth": "",
             "linkOpenInNewTab": true,
             "linkTextTemplate": "{{ @ }}",
             "linkTitleTemplate": "{{ @ }}",
             "linkUrlTemplate": "{{ @ }}",
             "name": "trip_distance",
             "numberFormat": "0.00",
             "order": 100000,
             "preserveWhitespace": false,
             "title": "trip_distance",
             "type": "float",
             "useMonospaceFont": false,
             "visible": true
            },
            {
             "alignContent": "right",
             "allowHTML": false,
             "allowSearch": false,
             "booleanValues": [
              "false",
              "true"
             ],
             "displayAs": "number",
             "highlightLinks": false,
             "imageHeight": "",
             "imageTitleTemplate": "{{ @ }}",
             "imageUrlTemplate": "{{ @ }}",
             "imageWidth": "",
             "linkOpenInNewTab": true,
             "linkTextTemplate": "{{ @ }}",
             "linkTitleTemplate": "{{ @ }}",
             "linkUrlTemplate": "{{ @ }}",
             "name": "fare_amount",
             "numberFormat": "0.00",
             "order": 100001,
             "preserveWhitespace": false,
             "title": "fare_amount",
             "type": "float",
             "useMonospaceFont": false,
             "visible": true
            },
            {
             "alignContent": "right",
             "allowHTML": false,
             "allowSearch": false,
             "booleanValues": [
              "false",
              "true"
             ],
             "displayAs": "number",
             "highlightLinks": false,
             "imageHeight": "",
             "imageTitleTemplate": "{{ @ }}",
             "imageUrlTemplate": "{{ @ }}",
             "imageWidth": "",
             "linkOpenInNewTab": true,
             "linkTextTemplate": "{{ @ }}",
             "linkTitleTemplate": "{{ @ }}",
             "linkUrlTemplate": "{{ @ }}",
             "name": "tempo",
             "numberFormat": "0",
             "order": 100002,
             "preserveWhitespace": false,
             "title": "tempo",
             "type": "integer",
             "useMonospaceFont": false,
             "visible": true
            },
            {
             "alignContent": "right",
             "allowHTML": false,
             "allowSearch": false,
             "booleanValues": [
              "false",
              "true"
             ],
             "displayAs": "number",
             "highlightLinks": false,
             "imageHeight": "",
             "imageTitleTemplate": "{{ @ }}",
             "imageUrlTemplate": "{{ @ }}",
             "imageWidth": "",
             "linkOpenInNewTab": true,
             "linkTextTemplate": "{{ @ }}",
             "linkTitleTemplate": "{{ @ }}",
             "linkUrlTemplate": "{{ @ }}",
             "name": "indice_frustracao",
             "numberFormat": "0.00",
             "order": 100003,
             "preserveWhitespace": false,
             "title": "indice_frustracao",
             "type": "float",
             "useMonospaceFont": false,
             "visible": true
            }
           ],
           "condensed": true,
           "itemsPerPage": 25,
           "paginationSize": "default",
           "version": 2,
           "withRowNumber": true
          }
         }
        ]
       },
       "datasetPreviewNameToCmdIdMap": {},
       "diffDeletes": [],
       "diffInserts": [],
       "displayType": "redashChart",
       "error": null,
       "errorDetails": null,
       "errorSummary": null,
       "errorTraceType": null,
       "finishTime": 0,
       "globalVars": {},
       "guid": "",
       "height": "auto",
       "hideCommandCode": false,
       "hideCommandResult": false,
       "iPythonMetadata": null,
       "inputWidgets": {},
       "isLockedInExamMode": false,
       "latestAssumeRoleInfo": null,
       "latestUser": "a user",
       "latestUserId": null,
       "listResultMetadata": null,
       "metadata": {},
       "nuid": "bc0a1b78-0740-4f91-bb46-9dc3f6a32689",
       "origId": 0,
       "parentHierarchy": [],
       "pivotAggregation": null,
       "pivotColumns": null,
       "position": 13.9375,
       "resultDbfsErrorMessage": null,
       "resultDbfsStatus": "INLINED_IN_TREE",
       "results": null,
       "showCommandTitle": false,
       "startTime": 0,
       "state": "input",
       "streamStates": {},
       "subcommandOptions": {},
       "submitTime": 0,
       "subtype": "tableResultSubCmd.visualization",
       "tableResultIndex": 0,
       "tableResultSettingsMap": {},
       "useConsistentColors": false,
       "version": "CommandV1",
       "width": "auto",
       "workflows": [],
       "xColumns": null,
       "yColumns": null
      }
     },
     "output_type": "display_data"
    }
   ],
   "source": [
    "SELECT \n",
    "  trip_distance,\n",
    "  fare_amount,\n",
    "  DATEDIFF(MINUTE, tpep_pickup_datetime, tpep_dropoff_datetime) AS tempo,\n",
    "  ROUND((DATEDIFF(MINUTE, tpep_pickup_datetime, tpep_dropoff_datetime) * fare_amount) / trip_distance, 2) AS indice_frustracao\n",
    "FROM samples.nyctaxi.trips\n",
    "WHERE trip_distance > 0\n",
    "ORDER BY indice_frustracao DESC\n",
    "LIMIT 10;\n"
   ]
  },
  {
   "cell_type": "markdown",
   "metadata": {
    "application/vnd.databricks.v1+cell": {
     "cellMetadata": {},
     "inputWidgets": {},
     "nuid": "07b7e59a-8de5-4ec4-b3c2-a663d111cdf8",
     "showTitle": false,
     "tableResultSettingsMap": {},
     "title": ""
    }
   },
   "source": [
    "## 9. Corridas curtas com tarifa alta\n",
    "\n",
    "### \uD83D\uDD0D Pergunta  \n",
    "Clientes que fizeram corridas muito curtas pagaram tarifas elevadas?\n",
    "\n",
    "### \uD83E\uDDE0 Análise  \n",
    "Esta consulta busca identificar corridas com menos de 1 milha de distância, mas com tarifas superiores a 10 dólares. Embora curtas, essas corridas podem gerar uma percepção negativa de valor, especialmente se o cliente sentir que pagou caro por um trajeto pequeno. Situações como trânsito intenso, tempo de espera ou tarifas mínimas elevadas podem contribuir para esse cenário.\n",
    "\n",
    "Essa análise é relevante para entender como a combinação de baixa distância e alto custo pode afetar a experiência do cliente, principalmente em contextos urbanos onde deslocamentos curtos são comuns. Identificar esses casos ajuda a antecipar insatisfações e propor ajustes na precificação ou comunicação."
   ]
  },
  {
   "cell_type": "code",
   "execution_count": 0,
   "metadata": {
    "application/vnd.databricks.v1+cell": {
     "cellMetadata": {
      "byteLimit": 2048000,
      "rowLimit": 10000
     },
     "inputWidgets": {},
     "nuid": "561b7f7a-ce87-4572-b21b-232b2cb42b71",
     "showTitle": false,
     "tableResultSettingsMap": {},
     "title": ""
    }
   },
   "outputs": [
    {
     "output_type": "display_data",
     "data": {
      "text/html": [
       "<style scoped>\n",
       "  .table-result-container {\n",
       "    max-height: 300px;\n",
       "    overflow: auto;\n",
       "  }\n",
       "  table, th, td {\n",
       "    border: 1px solid black;\n",
       "    border-collapse: collapse;\n",
       "  }\n",
       "  th, td {\n",
       "    padding: 5px;\n",
       "  }\n",
       "  th {\n",
       "    text-align: left;\n",
       "  }\n",
       "</style><div class='table-result-container'><table class='table-result'><thead style='background-color: white'><tr><th>trip_distance</th><th>fare_amount</th></tr></thead><tbody><tr><td>0.0</td><td>260.0</td></tr><tr><td>0.0</td><td>188.0</td></tr><tr><td>0.0</td><td>105.0</td></tr><tr><td>0.0</td><td>105.0</td></tr><tr><td>0.92</td><td>60.0</td></tr><tr><td>0.18</td><td>55.0</td></tr><tr><td>0.2</td><td>52.0</td></tr><tr><td>0.0</td><td>52.0</td></tr><tr><td>0.0</td><td>52.0</td></tr><tr><td>0.0</td><td>52.0</td></tr><tr><td>0.03</td><td>52.0</td></tr><tr><td>0.0</td><td>52.0</td></tr><tr><td>0.0</td><td>52.0</td></tr><tr><td>0.0</td><td>52.0</td></tr><tr><td>0.3</td><td>52.0</td></tr><tr><td>0.0</td><td>52.0</td></tr><tr><td>0.0</td><td>52.0</td></tr><tr><td>0.12</td><td>52.0</td></tr><tr><td>0.0</td><td>52.0</td></tr><tr><td>0.1</td><td>52.0</td></tr><tr><td>0.0</td><td>52.0</td></tr><tr><td>0.0</td><td>52.0</td></tr><tr><td>0.0</td><td>52.0</td></tr><tr><td>0.0</td><td>52.0</td></tr><tr><td>0.0</td><td>52.0</td></tr><tr><td>0.0</td><td>52.0</td></tr><tr><td>0.0</td><td>50.0</td></tr><tr><td>0.0</td><td>40.0</td></tr><tr><td>0.0</td><td>36.34</td></tr><tr><td>0.0</td><td>27.5</td></tr><tr><td>0.83</td><td>25.5</td></tr><tr><td>0.58</td><td>22.5</td></tr><tr><td>0.3</td><td>20.5</td></tr><tr><td>0.0</td><td>20.0</td></tr><tr><td>0.7</td><td>20.0</td></tr><tr><td>0.0</td><td>20.0</td></tr><tr><td>0.4</td><td>17.0</td></tr><tr><td>0.9</td><td>17.0</td></tr><tr><td>0.97</td><td>15.5</td></tr><tr><td>0.65</td><td>14.5</td></tr><tr><td>0.0</td><td>14.0</td></tr><tr><td>0.8</td><td>13.5</td></tr><tr><td>0.0</td><td>13.3</td></tr><tr><td>0.98</td><td>13.0</td></tr><tr><td>0.7</td><td>13.0</td></tr><tr><td>0.89</td><td>13.0</td></tr><tr><td>0.62</td><td>13.0</td></tr><tr><td>0.93</td><td>13.0</td></tr><tr><td>0.86</td><td>12.5</td></tr><tr><td>0.69</td><td>12.5</td></tr><tr><td>0.8</td><td>12.0</td></tr><tr><td>0.76</td><td>12.0</td></tr><tr><td>0.4</td><td>12.0</td></tr><tr><td>0.9</td><td>12.0</td></tr><tr><td>0.7</td><td>12.0</td></tr><tr><td>0.99</td><td>12.0</td></tr><tr><td>0.6</td><td>12.0</td></tr><tr><td>0.7</td><td>12.0</td></tr><tr><td>0.9</td><td>12.0</td></tr><tr><td>0.6</td><td>11.5</td></tr><tr><td>0.99</td><td>11.5</td></tr><tr><td>0.76</td><td>11.5</td></tr><tr><td>0.78</td><td>11.5</td></tr><tr><td>0.84</td><td>11.5</td></tr><tr><td>0.5</td><td>11.5</td></tr><tr><td>0.9</td><td>11.5</td></tr><tr><td>0.9</td><td>11.5</td></tr><tr><td>0.7</td><td>11.0</td></tr><tr><td>0.85</td><td>11.0</td></tr><tr><td>0.6</td><td>11.0</td></tr><tr><td>0.9</td><td>11.0</td></tr><tr><td>0.76</td><td>11.0</td></tr><tr><td>0.9</td><td>11.0</td></tr><tr><td>0.8</td><td>11.0</td></tr><tr><td>0.7</td><td>11.0</td></tr><tr><td>0.7</td><td>11.0</td></tr><tr><td>0.68</td><td>11.0</td></tr><tr><td>0.0</td><td>11.0</td></tr><tr><td>0.93</td><td>11.0</td></tr><tr><td>0.82</td><td>11.0</td></tr><tr><td>0.83</td><td>10.5</td></tr><tr><td>0.9</td><td>10.5</td></tr><tr><td>0.86</td><td>10.5</td></tr><tr><td>0.72</td><td>10.5</td></tr><tr><td>0.98</td><td>10.5</td></tr><tr><td>0.83</td><td>10.5</td></tr><tr><td>0.85</td><td>10.5</td></tr><tr><td>0.7</td><td>10.5</td></tr><tr><td>0.8</td><td>10.5</td></tr><tr><td>0.61</td><td>10.5</td></tr><tr><td>0.81</td><td>10.5</td></tr><tr><td>0.9</td><td>10.5</td></tr><tr><td>0.85</td><td>10.5</td></tr><tr><td>0.0</td><td>10.3</td></tr></tbody></table></div>"
      ]
     },
     "metadata": {
      "application/vnd.databricks.v1+output": {
       "addedWidgets": {},
       "aggData": [],
       "aggError": "",
       "aggOverflow": false,
       "aggSchema": [],
       "aggSeriesLimitReached": false,
       "aggType": "",
       "arguments": {},
       "columnCustomDisplayInfos": {},
       "data": [
        [
         0.0,
         260.0
        ],
        [
         0.0,
         188.0
        ],
        [
         0.0,
         105.0
        ],
        [
         0.0,
         105.0
        ],
        [
         0.92,
         60.0
        ],
        [
         0.18,
         55.0
        ],
        [
         0.2,
         52.0
        ],
        [
         0.0,
         52.0
        ],
        [
         0.0,
         52.0
        ],
        [
         0.0,
         52.0
        ],
        [
         0.03,
         52.0
        ],
        [
         0.0,
         52.0
        ],
        [
         0.0,
         52.0
        ],
        [
         0.0,
         52.0
        ],
        [
         0.3,
         52.0
        ],
        [
         0.0,
         52.0
        ],
        [
         0.0,
         52.0
        ],
        [
         0.12,
         52.0
        ],
        [
         0.0,
         52.0
        ],
        [
         0.1,
         52.0
        ],
        [
         0.0,
         52.0
        ],
        [
         0.0,
         52.0
        ],
        [
         0.0,
         52.0
        ],
        [
         0.0,
         52.0
        ],
        [
         0.0,
         52.0
        ],
        [
         0.0,
         52.0
        ],
        [
         0.0,
         50.0
        ],
        [
         0.0,
         40.0
        ],
        [
         0.0,
         36.34
        ],
        [
         0.0,
         27.5
        ],
        [
         0.83,
         25.5
        ],
        [
         0.58,
         22.5
        ],
        [
         0.3,
         20.5
        ],
        [
         0.0,
         20.0
        ],
        [
         0.7,
         20.0
        ],
        [
         0.0,
         20.0
        ],
        [
         0.4,
         17.0
        ],
        [
         0.9,
         17.0
        ],
        [
         0.97,
         15.5
        ],
        [
         0.65,
         14.5
        ],
        [
         0.0,
         14.0
        ],
        [
         0.8,
         13.5
        ],
        [
         0.0,
         13.3
        ],
        [
         0.98,
         13.0
        ],
        [
         0.7,
         13.0
        ],
        [
         0.89,
         13.0
        ],
        [
         0.62,
         13.0
        ],
        [
         0.93,
         13.0
        ],
        [
         0.86,
         12.5
        ],
        [
         0.69,
         12.5
        ],
        [
         0.8,
         12.0
        ],
        [
         0.76,
         12.0
        ],
        [
         0.4,
         12.0
        ],
        [
         0.9,
         12.0
        ],
        [
         0.7,
         12.0
        ],
        [
         0.99,
         12.0
        ],
        [
         0.6,
         12.0
        ],
        [
         0.7,
         12.0
        ],
        [
         0.9,
         12.0
        ],
        [
         0.6,
         11.5
        ],
        [
         0.99,
         11.5
        ],
        [
         0.76,
         11.5
        ],
        [
         0.78,
         11.5
        ],
        [
         0.84,
         11.5
        ],
        [
         0.5,
         11.5
        ],
        [
         0.9,
         11.5
        ],
        [
         0.9,
         11.5
        ],
        [
         0.7,
         11.0
        ],
        [
         0.85,
         11.0
        ],
        [
         0.6,
         11.0
        ],
        [
         0.9,
         11.0
        ],
        [
         0.76,
         11.0
        ],
        [
         0.9,
         11.0
        ],
        [
         0.8,
         11.0
        ],
        [
         0.7,
         11.0
        ],
        [
         0.7,
         11.0
        ],
        [
         0.68,
         11.0
        ],
        [
         0.0,
         11.0
        ],
        [
         0.93,
         11.0
        ],
        [
         0.82,
         11.0
        ],
        [
         0.83,
         10.5
        ],
        [
         0.9,
         10.5
        ],
        [
         0.86,
         10.5
        ],
        [
         0.72,
         10.5
        ],
        [
         0.98,
         10.5
        ],
        [
         0.83,
         10.5
        ],
        [
         0.85,
         10.5
        ],
        [
         0.7,
         10.5
        ],
        [
         0.8,
         10.5
        ],
        [
         0.61,
         10.5
        ],
        [
         0.81,
         10.5
        ],
        [
         0.9,
         10.5
        ],
        [
         0.85,
         10.5
        ],
        [
         0.0,
         10.3
        ]
       ],
       "datasetInfos": [
        {
         "name": "_sqldf",
         "schema": {
          "fields": [
           {
            "metadata": {},
            "name": "trip_distance",
            "nullable": true,
            "type": "double"
           },
           {
            "metadata": {},
            "name": "fare_amount",
            "nullable": true,
            "type": "double"
           }
          ],
          "type": "struct"
         },
         "tableIdentifier": null,
         "typeStr": "pyspark.sql.connect.dataframe.DataFrame"
        }
       ],
       "dbfsResultPath": null,
       "isJsonSchema": true,
       "metadata": {
        "createTempViewForImplicitDf": true,
        "dataframeName": "_sqldf",
        "executionCount": 99
       },
       "overflow": false,
       "plotOptions": {
        "customPlotOptions": {},
        "displayType": "table",
        "pivotAggregation": null,
        "pivotColumns": null,
        "xColumns": null,
        "yColumns": null
       },
       "removedWidgets": [],
       "schema": [
        {
         "metadata": "{}",
         "name": "trip_distance",
         "type": "\"double\""
        },
        {
         "metadata": "{}",
         "name": "fare_amount",
         "type": "\"double\""
        }
       ],
       "type": "table"
      }
     },
     "output_type": "display_data"
    },
    {
     "output_type": "display_data",
     "data": {
      "text/plain": [
       "Databricks visualization. Run in Databricks to view."
      ]
     },
     "metadata": {
      "application/vnd.databricks.v1.subcommand+json": {
       "baseErrorDetails": null,
       "bindings": {},
       "collapsed": false,
       "command": "%sql WITH q AS (SELECT \n  trip_distance,\n  fare_amount\nFROM samples.nyctaxi.trips\nWHERE trip_distance < 1 AND fare_amount > 10\nORDER BY fare_amount DESC) SELECT `trip_distance`,`fare_amount` FROM q",
       "commandTitle": "Corridas com tarifa acima da média",
       "commandType": "auto",
       "commandVersion": 0,
       "commentThread": [],
       "commentsVisible": false,
       "contentSha256Hex": null,
       "customPlotOptions": {
        "redashChart": [
         {
          "key": "type",
          "value": "CHART"
         },
         {
          "key": "options",
          "value": {
           "alignYAxesAtZero": true,
           "coefficient": 1,
           "columnConfigurationMap": {
            "x": {
             "column": "trip_distance",
             "id": "column_dce1f5ba195"
            },
            "y": [
             {
              "column": "fare_amount",
              "id": "column_170c85b51075"
             }
            ]
           },
           "dateTimeFormat": "DD/MM/YYYY HH:mm",
           "direction": {
            "type": "counterclockwise"
           },
           "error_y": {
            "type": "data",
            "visible": true
           },
           "globalSeriesType": "scatter",
           "legend": {
            "traceorder": "normal"
           },
           "missingValuesAsZero": true,
           "numBins": 10,
           "numberFormat": "0,0.[00000]",
           "percentFormat": "0[.]00%",
           "series": {
            "error_y": {
             "type": "data",
             "visible": true
            },
            "stacking": null
           },
           "seriesOptions": {
            "column_dce1f5ba196": {
             "name": "fare_amount",
             "type": "scatter",
             "yAxis": 0
            },
            "column_dce1f5ba197": {
             "type": "scatter",
             "yAxis": 0
            },
            "fare_amount": {
             "color": "#34495E",
             "type": "scatter",
             "yAxis": 1
            }
           },
           "showDataLabels": false,
           "sizemode": "diameter",
           "sortX": true,
           "sortY": true,
           "swappedAxes": false,
           "textFormat": "",
           "useAggregationsUi": true,
           "valuesOptions": {},
           "version": 2,
           "xAxis": {
            "labels": {
             "enabled": true
            },
            "type": "-"
           },
           "yAxis": [
            {
             "type": "category"
            },
            {
             "opposite": true,
             "type": "-"
            }
           ]
          }
         }
        ]
       },
       "datasetPreviewNameToCmdIdMap": {},
       "diffDeletes": [],
       "diffInserts": [],
       "displayType": "redashChart",
       "error": null,
       "errorDetails": null,
       "errorSummary": null,
       "errorTraceType": null,
       "finishTime": 0,
       "globalVars": {},
       "guid": "",
       "height": "auto",
       "hideCommandCode": false,
       "hideCommandResult": false,
       "iPythonMetadata": null,
       "inputWidgets": {},
       "isLockedInExamMode": false,
       "latestAssumeRoleInfo": null,
       "latestUser": "a user",
       "latestUserId": null,
       "listResultMetadata": null,
       "metadata": {},
       "nuid": "11a1c7fb-0196-494e-a320-fc994648f9a6",
       "origId": 0,
       "parentHierarchy": [],
       "pivotAggregation": null,
       "pivotColumns": null,
       "position": 14.4375,
       "resultDbfsErrorMessage": null,
       "resultDbfsStatus": "INLINED_IN_TREE",
       "results": null,
       "showCommandTitle": false,
       "startTime": 0,
       "state": "input",
       "streamStates": {},
       "subcommandOptions": {
        "queryPlan": {
         "selects": [
          {
           "column": "trip_distance",
           "type": "column"
          },
          {
           "column": "fare_amount",
           "type": "column"
          }
         ]
        }
       },
       "submitTime": 0,
       "subtype": "tableResultSubCmd.visualization",
       "tableResultIndex": 0,
       "tableResultSettingsMap": {},
       "useConsistentColors": false,
       "version": "CommandV1",
       "width": "auto",
       "workflows": [],
       "xColumns": null,
       "yColumns": null
      }
     },
     "output_type": "display_data"
    }
   ],
   "source": [
    "SELECT \n",
    "  trip_distance,\n",
    "  fare_amount\n",
    "FROM samples.nyctaxi.trips\n",
    "WHERE trip_distance < 1 AND fare_amount > 10\n",
    "ORDER BY fare_amount DESC;\n"
   ]
  },
  {
   "cell_type": "markdown",
   "metadata": {
    "application/vnd.databricks.v1+cell": {
     "cellMetadata": {},
     "inputWidgets": {},
     "nuid": "6d3a37ca-be0f-45c5-ac9e-130a4bb63867",
     "showTitle": false,
     "tableResultSettingsMap": {},
     "title": ""
    }
   },
   "source": [
    "## Classificação Simulada por Zonas de Origem\n",
    "\n",
    "Nesta seção, tratamos cada zona de embarque (`pickup_zip`) como uma “filial” urbana. A proposta é calcular uma nota de experiência por zona com base em indicadores operacionais que podem refletir atritos na jornada do cliente.\n",
    "\n",
    "A nota será composta por:\n",
    "\n",
    "- Tempo médio de viagem\n",
    "- Tarifa média\n",
    "- Índice de frustração médio\n",
    "- Proporção de corridas com tarifa acima da média\n",
    "\n",
    "Cada indicador será normalizado e ponderado para gerar uma nota final entre 0 e 10.\n"
   ]
  },
  {
   "cell_type": "markdown",
   "metadata": {
    "application/vnd.databricks.v1+cell": {
     "cellMetadata": {},
     "inputWidgets": {},
     "nuid": "3b748591-0008-43a5-84dc-783ca44d0bb2",
     "showTitle": false,
     "tableResultSettingsMap": {},
     "title": ""
    }
   },
   "source": [
    "### \uD83E\uDDED Tempo médio de viagem por zona\n",
    "\uD83D\uDD0D Pergunta\n",
    "Quais zonas urbanas apresentam os maiores tempos médios de viagem?\n",
    "\n",
    "\uD83E\uDDE0 Análise\n",
    "Agrupamos as corridas por zona de embarque (pickup_zip) e calculamos o tempo médio de deslocamento em minutos. Essa métrica revela quais regiões têm viagens mais longas, o que pode indicar problemas como congestionamento, rotas ineficientes ou baixa disponibilidade de motoristas.\n",
    "\n",
    "Zonas com tempo médio elevado tendem a gerar maior frustração para o cliente, especialmente quando combinadas com tarifas altas ou distâncias curtas. Esse indicador é um dos pilares da nota final simulada de experiência.\n",
    "\n",
    "\uD83D\uDCCC Exemplo de achado: A zona 11430 apresenta tempo médio de 73 minutos — mais que o dobro da média geral — sugerindo um ponto crítico na operação."
   ]
  },
  {
   "cell_type": "code",
   "execution_count": 0,
   "metadata": {
    "application/vnd.databricks.v1+cell": {
     "cellMetadata": {
      "byteLimit": 2048000,
      "rowLimit": 10000
     },
     "inputWidgets": {},
     "nuid": "ab835b5a-158f-41f4-9ad4-d5535a74ed89",
     "showTitle": false,
     "tableResultSettingsMap": {},
     "title": ""
    }
   },
   "outputs": [
    {
     "output_type": "display_data",
     "data": {
      "text/html": [
       "<style scoped>\n",
       "  .table-result-container {\n",
       "    max-height: 300px;\n",
       "    overflow: auto;\n",
       "  }\n",
       "  table, th, td {\n",
       "    border: 1px solid black;\n",
       "    border-collapse: collapse;\n",
       "  }\n",
       "  th, td {\n",
       "    padding: 5px;\n",
       "  }\n",
       "  th {\n",
       "    text-align: left;\n",
       "  }\n",
       "</style><div class='table-result-container'><table class='table-result'><thead style='background-color: white'><tr><th>pickup_zip</th><th>tempo_medio</th></tr></thead><tbody><tr><td>11430</td><td>73.25</td></tr><tr><td>11420</td><td>48.0</td></tr><tr><td>11422</td><td>41.47</td></tr><tr><td>7087</td><td>38.0</td></tr><tr><td>11375</td><td>30.33</td></tr><tr><td>11371</td><td>30.05</td></tr><tr><td>11218</td><td>30.0</td></tr><tr><td>11235</td><td>29.5</td></tr><tr><td>11436</td><td>28.91</td></tr><tr><td>11370</td><td>28.12</td></tr><tr><td>11221</td><td>26.5</td></tr><tr><td>11435</td><td>24.0</td></tr><tr><td>11417</td><td>23.5</td></tr><tr><td>11424</td><td>23.5</td></tr><tr><td>7737</td><td>23.0</td></tr><tr><td>10007</td><td>22.72</td></tr><tr><td>10111</td><td>20.68</td></tr><tr><td>11226</td><td>20.25</td></tr><tr><td>10470</td><td>20.0</td></tr><tr><td>10305</td><td>20.0</td></tr><tr><td>11207</td><td>19.5</td></tr><tr><td>10103</td><td>18.5</td></tr><tr><td>10119</td><td>18.43</td></tr><tr><td>10154</td><td>18.12</td></tr><tr><td>10014</td><td>17.74</td></tr><tr><td>10025</td><td>16.88</td></tr><tr><td>11230</td><td>16.33</td></tr><tr><td>10032</td><td>16.27</td></tr><tr><td>10005</td><td>16.08</td></tr><tr><td>11423</td><td>16.0</td></tr><tr><td>11215</td><td>16.0</td></tr><tr><td>10271</td><td>15.94</td></tr><tr><td>10065</td><td>15.69</td></tr><tr><td>11225</td><td>15.6</td></tr><tr><td>11209</td><td>15.5</td></tr><tr><td>11373</td><td>15.5</td></tr><tr><td>10020</td><td>15.47</td></tr><tr><td>10006</td><td>15.45</td></tr><tr><td>10280</td><td>15.33</td></tr><tr><td>11377</td><td>15.29</td></tr><tr><td>11222</td><td>15.19</td></tr><tr><td>10038</td><td>15.15</td></tr><tr><td>10018</td><td>15.13</td></tr><tr><td>11205</td><td>14.95</td></tr><tr><td>11216</td><td>14.88</td></tr><tr><td>10199</td><td>14.75</td></tr><tr><td>10282</td><td>14.66</td></tr><tr><td>10011</td><td>14.49</td></tr><tr><td>10002</td><td>14.36</td></tr><tr><td>11224</td><td>14.33</td></tr><tr><td>10278</td><td>14.23</td></tr><tr><td>10001</td><td>14.01</td></tr><tr><td>10013</td><td>13.95</td></tr><tr><td>10017</td><td>13.53</td></tr><tr><td>10022</td><td>13.42</td></tr><tr><td>10171</td><td>13.42</td></tr><tr><td>10009</td><td>13.38</td></tr><tr><td>11104</td><td>13.07</td></tr><tr><td>7002</td><td>13.0</td></tr><tr><td>10037</td><td>12.96</td></tr><tr><td>10112</td><td>12.74</td></tr><tr><td>10012</td><td>12.72</td></tr><tr><td>11211</td><td>12.65</td></tr><tr><td>11201</td><td>12.56</td></tr><tr><td>11217</td><td>12.3</td></tr><tr><td>11109</td><td>12.3</td></tr><tr><td>10167</td><td>12.26</td></tr><tr><td>11102</td><td>12.06</td></tr><tr><td>11208</td><td>12.0</td></tr><tr><td>11368</td><td>12.0</td></tr><tr><td>11210</td><td>12.0</td></tr><tr><td>10452</td><td>12.0</td></tr><tr><td>11237</td><td>12.0</td></tr><tr><td>11101</td><td>11.95</td></tr><tr><td>11238</td><td>11.94</td></tr><tr><td>10003</td><td>11.93</td></tr><tr><td>10023</td><td>11.88</td></tr><tr><td>10016</td><td>11.83</td></tr><tr><td>10028</td><td>11.8</td></tr><tr><td>10034</td><td>11.78</td></tr><tr><td>10110</td><td>11.73</td></tr><tr><td>10019</td><td>11.57</td></tr><tr><td>10044</td><td>11.44</td></tr><tr><td>10152</td><td>11.28</td></tr><tr><td>11231</td><td>11.2</td></tr><tr><td>10029</td><td>11.15</td></tr><tr><td>10021</td><td>11.02</td></tr><tr><td>11233</td><td>11.0</td></tr><tr><td>10026</td><td>10.94</td></tr><tr><td>10115</td><td>10.93</td></tr><tr><td>10153</td><td>10.81</td></tr><tr><td>11372</td><td>10.53</td></tr><tr><td>11206</td><td>10.52</td></tr><tr><td>11105</td><td>10.46</td></tr><tr><td>10027</td><td>10.43</td></tr><tr><td>10069</td><td>10.4</td></tr><tr><td>10030</td><td>10.28</td></tr><tr><td>11103</td><td>10.19</td></tr><tr><td>10162</td><td>10.01</td></tr><tr><td>10474</td><td>10.0</td></tr><tr><td>11356</td><td>10.0</td></tr><tr><td>10035</td><td>9.95</td></tr><tr><td>10031</td><td>9.63</td></tr><tr><td>11355</td><td>9.0</td></tr><tr><td>10460</td><td>9.0</td></tr><tr><td>11106</td><td>8.9</td></tr><tr><td>10451</td><td>8.5</td></tr><tr><td>11369</td><td>7.8</td></tr><tr><td>10039</td><td>7.6</td></tr><tr><td>11378</td><td>7.0</td></tr><tr><td>11223</td><td>7.0</td></tr><tr><td>10024</td><td>5.0</td></tr><tr><td>7718</td><td>4.0</td></tr><tr><td>11220</td><td>4.0</td></tr><tr><td>11418</td><td>3.0</td></tr><tr><td>10454</td><td>3.0</td></tr><tr><td>11212</td><td>2.0</td></tr><tr><td>10468</td><td>1.5</td></tr><tr><td>7974</td><td>1.0</td></tr><tr><td>7030</td><td>0.0</td></tr><tr><td>7310</td><td>0.0</td></tr><tr><td>10463</td><td>0.0</td></tr><tr><td>11003</td><td>0.0</td></tr><tr><td>7311</td><td>0.0</td></tr><tr><td>7114</td><td>0.0</td></tr><tr><td>7086</td><td>0.0</td></tr><tr><td>10502</td><td>0.0</td></tr><tr><td>8876</td><td>0.0</td></tr></tbody></table></div>"
      ]
     },
     "metadata": {
      "application/vnd.databricks.v1+output": {
       "addedWidgets": {},
       "aggData": [],
       "aggError": "",
       "aggOverflow": false,
       "aggSchema": [],
       "aggSeriesLimitReached": false,
       "aggType": "",
       "arguments": {},
       "columnCustomDisplayInfos": {},
       "data": [
        [
         11430,
         73.25
        ],
        [
         11420,
         48.0
        ],
        [
         11422,
         41.47
        ],
        [
         7087,
         38.0
        ],
        [
         11375,
         30.33
        ],
        [
         11371,
         30.05
        ],
        [
         11218,
         30.0
        ],
        [
         11235,
         29.5
        ],
        [
         11436,
         28.91
        ],
        [
         11370,
         28.12
        ],
        [
         11221,
         26.5
        ],
        [
         11435,
         24.0
        ],
        [
         11417,
         23.5
        ],
        [
         11424,
         23.5
        ],
        [
         7737,
         23.0
        ],
        [
         10007,
         22.72
        ],
        [
         10111,
         20.68
        ],
        [
         11226,
         20.25
        ],
        [
         10470,
         20.0
        ],
        [
         10305,
         20.0
        ],
        [
         11207,
         19.5
        ],
        [
         10103,
         18.5
        ],
        [
         10119,
         18.43
        ],
        [
         10154,
         18.12
        ],
        [
         10014,
         17.74
        ],
        [
         10025,
         16.88
        ],
        [
         11230,
         16.33
        ],
        [
         10032,
         16.27
        ],
        [
         10005,
         16.08
        ],
        [
         11423,
         16.0
        ],
        [
         11215,
         16.0
        ],
        [
         10271,
         15.94
        ],
        [
         10065,
         15.69
        ],
        [
         11225,
         15.6
        ],
        [
         11209,
         15.5
        ],
        [
         11373,
         15.5
        ],
        [
         10020,
         15.47
        ],
        [
         10006,
         15.45
        ],
        [
         10280,
         15.33
        ],
        [
         11377,
         15.29
        ],
        [
         11222,
         15.19
        ],
        [
         10038,
         15.15
        ],
        [
         10018,
         15.13
        ],
        [
         11205,
         14.95
        ],
        [
         11216,
         14.88
        ],
        [
         10199,
         14.75
        ],
        [
         10282,
         14.66
        ],
        [
         10011,
         14.49
        ],
        [
         10002,
         14.36
        ],
        [
         11224,
         14.33
        ],
        [
         10278,
         14.23
        ],
        [
         10001,
         14.01
        ],
        [
         10013,
         13.95
        ],
        [
         10017,
         13.53
        ],
        [
         10022,
         13.42
        ],
        [
         10171,
         13.42
        ],
        [
         10009,
         13.38
        ],
        [
         11104,
         13.07
        ],
        [
         7002,
         13.0
        ],
        [
         10037,
         12.96
        ],
        [
         10112,
         12.74
        ],
        [
         10012,
         12.72
        ],
        [
         11211,
         12.65
        ],
        [
         11201,
         12.56
        ],
        [
         11217,
         12.3
        ],
        [
         11109,
         12.3
        ],
        [
         10167,
         12.26
        ],
        [
         11102,
         12.06
        ],
        [
         11208,
         12.0
        ],
        [
         11368,
         12.0
        ],
        [
         11210,
         12.0
        ],
        [
         10452,
         12.0
        ],
        [
         11237,
         12.0
        ],
        [
         11101,
         11.95
        ],
        [
         11238,
         11.94
        ],
        [
         10003,
         11.93
        ],
        [
         10023,
         11.88
        ],
        [
         10016,
         11.83
        ],
        [
         10028,
         11.8
        ],
        [
         10034,
         11.78
        ],
        [
         10110,
         11.73
        ],
        [
         10019,
         11.57
        ],
        [
         10044,
         11.44
        ],
        [
         10152,
         11.28
        ],
        [
         11231,
         11.2
        ],
        [
         10029,
         11.15
        ],
        [
         10021,
         11.02
        ],
        [
         11233,
         11.0
        ],
        [
         10026,
         10.94
        ],
        [
         10115,
         10.93
        ],
        [
         10153,
         10.81
        ],
        [
         11372,
         10.53
        ],
        [
         11206,
         10.52
        ],
        [
         11105,
         10.46
        ],
        [
         10027,
         10.43
        ],
        [
         10069,
         10.4
        ],
        [
         10030,
         10.28
        ],
        [
         11103,
         10.19
        ],
        [
         10162,
         10.01
        ],
        [
         10474,
         10.0
        ],
        [
         11356,
         10.0
        ],
        [
         10035,
         9.95
        ],
        [
         10031,
         9.63
        ],
        [
         11355,
         9.0
        ],
        [
         10460,
         9.0
        ],
        [
         11106,
         8.9
        ],
        [
         10451,
         8.5
        ],
        [
         11369,
         7.8
        ],
        [
         10039,
         7.6
        ],
        [
         11378,
         7.0
        ],
        [
         11223,
         7.0
        ],
        [
         10024,
         5.0
        ],
        [
         7718,
         4.0
        ],
        [
         11220,
         4.0
        ],
        [
         11418,
         3.0
        ],
        [
         10454,
         3.0
        ],
        [
         11212,
         2.0
        ],
        [
         10468,
         1.5
        ],
        [
         7974,
         1.0
        ],
        [
         7030,
         0.0
        ],
        [
         7310,
         0.0
        ],
        [
         10463,
         0.0
        ],
        [
         11003,
         0.0
        ],
        [
         7311,
         0.0
        ],
        [
         7114,
         0.0
        ],
        [
         7086,
         0.0
        ],
        [
         10502,
         0.0
        ],
        [
         8876,
         0.0
        ]
       ],
       "datasetInfos": [
        {
         "name": "_sqldf",
         "schema": {
          "fields": [
           {
            "metadata": {},
            "name": "pickup_zip",
            "nullable": true,
            "type": "integer"
           },
           {
            "metadata": {},
            "name": "tempo_medio",
            "nullable": true,
            "type": "double"
           }
          ],
          "type": "struct"
         },
         "tableIdentifier": null,
         "typeStr": "pyspark.sql.connect.dataframe.DataFrame"
        }
       ],
       "dbfsResultPath": null,
       "isJsonSchema": true,
       "metadata": {
        "createTempViewForImplicitDf": true,
        "dataframeName": "_sqldf",
        "executionCount": 1
       },
       "overflow": false,
       "plotOptions": {
        "customPlotOptions": {},
        "displayType": "table",
        "pivotAggregation": null,
        "pivotColumns": null,
        "xColumns": null,
        "yColumns": null
       },
       "removedWidgets": [],
       "schema": [
        {
         "metadata": "{}",
         "name": "pickup_zip",
         "type": "\"integer\""
        },
        {
         "metadata": "{}",
         "name": "tempo_medio",
         "type": "\"double\""
        }
       ],
       "type": "table"
      }
     },
     "output_type": "display_data"
    }
   ],
   "source": [
    "-- Tempo médio de viagem por zona\n",
    "SELECT \n",
    "  pickup_zip,\n",
    "  ROUND(AVG(DATEDIFF(MINUTE, tpep_pickup_datetime, tpep_dropoff_datetime)), 2) AS tempo_medio\n",
    "FROM samples.nyctaxi.trips\n",
    "WHERE pickup_zip IS NOT NULL\n",
    "GROUP BY pickup_zip\n",
    "ORDER BY tempo_medio DESC;\n"
   ]
  },
  {
   "cell_type": "markdown",
   "metadata": {
    "application/vnd.databricks.v1+cell": {
     "cellMetadata": {},
     "inputWidgets": {},
     "nuid": "a30a6eec-828c-481c-b4df-ead76ae24051",
     "showTitle": false,
     "tableResultSettingsMap": {},
     "title": ""
    }
   },
   "source": [
    "### \uD83D\uDCB0 Tarifa média por zona\n",
    "\uD83D\uDD0D Pergunta\n",
    "Quais zonas urbanas apresentam as tarifas médias mais altas, e o que isso pode indicar sobre a experiência do cliente?\n",
    "\n",
    "\uD83E\uDDE0 Análise\n",
    "Agrupamos as corridas por zona de embarque (pickup_zip) e calculamos a média das tarifas cobradas. Essa métrica revela quais regiões têm corridas mais caras em média, o que pode estar relacionado à distância, demanda, ou até práticas de precificação local.\n",
    "\n",
    "Zonas com tarifa média elevada podem gerar percepção de custo excessivo, especialmente se combinadas com tempo de viagem alto ou baixa eficiência. Esse indicador é essencial para entender o valor percebido pelo cliente e compõe 30% da nota final simulada de experiência.\n",
    "\n",
    "\uD83D\uDCCC Exemplo de achado: A zona 8876 apresenta tarifa média de $260 — muito acima da média geral — sugerindo um ponto de atenção na precificação."
   ]
  },
  {
   "cell_type": "code",
   "execution_count": 0,
   "metadata": {
    "application/vnd.databricks.v1+cell": {
     "cellMetadata": {
      "byteLimit": 2048000,
      "rowLimit": 10000
     },
     "inputWidgets": {},
     "nuid": "a3d03f3c-8080-4ecd-ab99-3ad645a112bd",
     "showTitle": false,
     "tableResultSettingsMap": {},
     "title": ""
    }
   },
   "outputs": [
    {
     "output_type": "display_data",
     "data": {
      "text/html": [
       "<style scoped>\n",
       "  .table-result-container {\n",
       "    max-height: 300px;\n",
       "    overflow: auto;\n",
       "  }\n",
       "  table, th, td {\n",
       "    border: 1px solid black;\n",
       "    border-collapse: collapse;\n",
       "  }\n",
       "  th, td {\n",
       "    padding: 5px;\n",
       "  }\n",
       "  th {\n",
       "    text-align: left;\n",
       "  }\n",
       "</style><div class='table-result-container'><table class='table-result'><thead style='background-color: white'><tr><th>pickup_zip</th><th>tarifa_media</th></tr></thead><tbody><tr><td>8876</td><td>260.0</td></tr><tr><td>7974</td><td>188.0</td></tr><tr><td>7114</td><td>105.0</td></tr><tr><td>7310</td><td>105.0</td></tr><tr><td>7311</td><td>60.0</td></tr><tr><td>11430</td><td>52.0</td></tr><tr><td>11420</td><td>52.0</td></tr><tr><td>11368</td><td>52.0</td></tr><tr><td>11422</td><td>44.78</td></tr><tr><td>11436</td><td>42.32</td></tr><tr><td>7086</td><td>40.0</td></tr><tr><td>7030</td><td>40.0</td></tr><tr><td>11424</td><td>34.25</td></tr><tr><td>11235</td><td>33.25</td></tr><tr><td>11375</td><td>33.0</td></tr><tr><td>7087</td><td>31.0</td></tr><tr><td>11371</td><td>30.64</td></tr><tr><td>10470</td><td>28.0</td></tr><tr><td>11378</td><td>27.25</td></tr><tr><td>11370</td><td>25.31</td></tr><tr><td>11417</td><td>25.0</td></tr><tr><td>11369</td><td>24.2</td></tr><tr><td>11221</td><td>21.75</td></tr><tr><td>11230</td><td>20.83</td></tr><tr><td>11207</td><td>20.5</td></tr><tr><td>11224</td><td>20.33</td></tr><tr><td>11218</td><td>20.0</td></tr><tr><td>11209</td><td>19.25</td></tr><tr><td>11208</td><td>19.0</td></tr><tr><td>11226</td><td>18.75</td></tr><tr><td>11435</td><td>18.17</td></tr><tr><td>11109</td><td>17.8</td></tr><tr><td>10034</td><td>16.67</td></tr><tr><td>11373</td><td>16.63</td></tr><tr><td>10032</td><td>16.63</td></tr><tr><td>10280</td><td>16.33</td></tr><tr><td>10038</td><td>15.9</td></tr><tr><td>10005</td><td>15.87</td></tr><tr><td>10271</td><td>15.8</td></tr><tr><td>11216</td><td>15.63</td></tr><tr><td>7737</td><td>15.5</td></tr><tr><td>10006</td><td>15.22</td></tr><tr><td>11356</td><td>15.0</td></tr><tr><td>11101</td><td>14.7</td></tr><tr><td>11225</td><td>14.6</td></tr><tr><td>10282</td><td>14.46</td></tr><tr><td>11222</td><td>14.24</td></tr><tr><td>11205</td><td>13.95</td></tr><tr><td>10452</td><td>13.88</td></tr><tr><td>10007</td><td>13.86</td></tr><tr><td>10013</td><td>13.84</td></tr><tr><td>11210</td><td>13.75</td></tr><tr><td>11215</td><td>13.73</td></tr><tr><td>10305</td><td>13.5</td></tr><tr><td>11201</td><td>13.46</td></tr><tr><td>10037</td><td>13.4</td></tr><tr><td>10035</td><td>13.27</td></tr><tr><td>11377</td><td>13.25</td></tr><tr><td>10278</td><td>12.99</td></tr><tr><td>10103</td><td>12.61</td></tr><tr><td>10112</td><td>12.59</td></tr><tr><td>11237</td><td>12.4</td></tr><tr><td>11372</td><td>12.37</td></tr><tr><td>11105</td><td>12.31</td></tr><tr><td>11211</td><td>12.3</td></tr><tr><td>11217</td><td>12.25</td></tr><tr><td>11104</td><td>12.24</td></tr><tr><td>10002</td><td>12.23</td></tr><tr><td>10171</td><td>12.04</td></tr><tr><td>11231</td><td>12.03</td></tr><tr><td>10154</td><td>11.9</td></tr><tr><td>10115</td><td>11.89</td></tr><tr><td>11102</td><td>11.88</td></tr><tr><td>10020</td><td>11.7</td></tr><tr><td>10025</td><td>11.68</td></tr><tr><td>10167</td><td>11.58</td></tr><tr><td>11423</td><td>11.5</td></tr><tr><td>11238</td><td>11.44</td></tr><tr><td>10018</td><td>11.4</td></tr><tr><td>10012</td><td>11.35</td></tr><tr><td>10017</td><td>11.31</td></tr><tr><td>10009</td><td>11.16</td></tr><tr><td>11103</td><td>11.03</td></tr><tr><td>11206</td><td>11.02</td></tr><tr><td>11355</td><td>11.0</td></tr><tr><td>10003</td><td>10.98</td></tr><tr><td>10016</td><td>10.96</td></tr><tr><td>10019</td><td>10.95</td></tr><tr><td>10014</td><td>10.92</td></tr><tr><td>10027</td><td>10.92</td></tr><tr><td>10044</td><td>10.91</td></tr><tr><td>10011</td><td>10.91</td></tr><tr><td>10119</td><td>10.91</td></tr><tr><td>10110</td><td>10.9</td></tr><tr><td>10029</td><td>10.79</td></tr><tr><td>10030</td><td>10.75</td></tr><tr><td>10199</td><td>10.74</td></tr><tr><td>10111</td><td>10.69</td></tr><tr><td>10001</td><td>10.62</td></tr><tr><td>7002</td><td>10.5</td></tr><tr><td>10026</td><td>10.4</td></tr><tr><td>10031</td><td>10.29</td></tr><tr><td>11106</td><td>10.24</td></tr><tr><td>10028</td><td>10.21</td></tr><tr><td>10021</td><td>10.21</td></tr><tr><td>10152</td><td>10.13</td></tr><tr><td>10162</td><td>10.08</td></tr><tr><td>10023</td><td>10.04</td></tr><tr><td>10022</td><td>9.84</td></tr><tr><td>10065</td><td>9.81</td></tr><tr><td>10069</td><td>9.78</td></tr><tr><td>10153</td><td>9.77</td></tr><tr><td>11233</td><td>9.5</td></tr><tr><td>10460</td><td>9.33</td></tr><tr><td>10451</td><td>8.63</td></tr><tr><td>10474</td><td>8.5</td></tr><tr><td>10039</td><td>7.7</td></tr><tr><td>11223</td><td>7.5</td></tr><tr><td>10024</td><td>6.5</td></tr><tr><td>11220</td><td>6.0</td></tr><tr><td>7718</td><td>5.0</td></tr><tr><td>11418</td><td>5.0</td></tr><tr><td>10454</td><td>5.0</td></tr><tr><td>10468</td><td>4.0</td></tr><tr><td>11212</td><td>4.0</td></tr><tr><td>10463</td><td>0.01</td></tr><tr><td>10502</td><td>0.0</td></tr><tr><td>11003</td><td>0.0</td></tr></tbody></table></div>"
      ]
     },
     "metadata": {
      "application/vnd.databricks.v1+output": {
       "addedWidgets": {},
       "aggData": [],
       "aggError": "",
       "aggOverflow": false,
       "aggSchema": [],
       "aggSeriesLimitReached": false,
       "aggType": "",
       "arguments": {},
       "columnCustomDisplayInfos": {},
       "data": [
        [
         8876,
         260.0
        ],
        [
         7974,
         188.0
        ],
        [
         7114,
         105.0
        ],
        [
         7310,
         105.0
        ],
        [
         7311,
         60.0
        ],
        [
         11430,
         52.0
        ],
        [
         11420,
         52.0
        ],
        [
         11368,
         52.0
        ],
        [
         11422,
         44.78
        ],
        [
         11436,
         42.32
        ],
        [
         7086,
         40.0
        ],
        [
         7030,
         40.0
        ],
        [
         11424,
         34.25
        ],
        [
         11235,
         33.25
        ],
        [
         11375,
         33.0
        ],
        [
         7087,
         31.0
        ],
        [
         11371,
         30.64
        ],
        [
         10470,
         28.0
        ],
        [
         11378,
         27.25
        ],
        [
         11370,
         25.31
        ],
        [
         11417,
         25.0
        ],
        [
         11369,
         24.2
        ],
        [
         11221,
         21.75
        ],
        [
         11230,
         20.83
        ],
        [
         11207,
         20.5
        ],
        [
         11224,
         20.33
        ],
        [
         11218,
         20.0
        ],
        [
         11209,
         19.25
        ],
        [
         11208,
         19.0
        ],
        [
         11226,
         18.75
        ],
        [
         11435,
         18.17
        ],
        [
         11109,
         17.8
        ],
        [
         10034,
         16.67
        ],
        [
         11373,
         16.63
        ],
        [
         10032,
         16.63
        ],
        [
         10280,
         16.33
        ],
        [
         10038,
         15.9
        ],
        [
         10005,
         15.87
        ],
        [
         10271,
         15.8
        ],
        [
         11216,
         15.63
        ],
        [
         7737,
         15.5
        ],
        [
         10006,
         15.22
        ],
        [
         11356,
         15.0
        ],
        [
         11101,
         14.7
        ],
        [
         11225,
         14.6
        ],
        [
         10282,
         14.46
        ],
        [
         11222,
         14.24
        ],
        [
         11205,
         13.95
        ],
        [
         10452,
         13.88
        ],
        [
         10007,
         13.86
        ],
        [
         10013,
         13.84
        ],
        [
         11210,
         13.75
        ],
        [
         11215,
         13.73
        ],
        [
         10305,
         13.5
        ],
        [
         11201,
         13.46
        ],
        [
         10037,
         13.4
        ],
        [
         10035,
         13.27
        ],
        [
         11377,
         13.25
        ],
        [
         10278,
         12.99
        ],
        [
         10103,
         12.61
        ],
        [
         10112,
         12.59
        ],
        [
         11237,
         12.4
        ],
        [
         11372,
         12.37
        ],
        [
         11105,
         12.31
        ],
        [
         11211,
         12.3
        ],
        [
         11217,
         12.25
        ],
        [
         11104,
         12.24
        ],
        [
         10002,
         12.23
        ],
        [
         10171,
         12.04
        ],
        [
         11231,
         12.03
        ],
        [
         10154,
         11.9
        ],
        [
         10115,
         11.89
        ],
        [
         11102,
         11.88
        ],
        [
         10020,
         11.7
        ],
        [
         10025,
         11.68
        ],
        [
         10167,
         11.58
        ],
        [
         11423,
         11.5
        ],
        [
         11238,
         11.44
        ],
        [
         10018,
         11.4
        ],
        [
         10012,
         11.35
        ],
        [
         10017,
         11.31
        ],
        [
         10009,
         11.16
        ],
        [
         11103,
         11.03
        ],
        [
         11206,
         11.02
        ],
        [
         11355,
         11.0
        ],
        [
         10003,
         10.98
        ],
        [
         10016,
         10.96
        ],
        [
         10019,
         10.95
        ],
        [
         10014,
         10.92
        ],
        [
         10027,
         10.92
        ],
        [
         10044,
         10.91
        ],
        [
         10011,
         10.91
        ],
        [
         10119,
         10.91
        ],
        [
         10110,
         10.9
        ],
        [
         10029,
         10.79
        ],
        [
         10030,
         10.75
        ],
        [
         10199,
         10.74
        ],
        [
         10111,
         10.69
        ],
        [
         10001,
         10.62
        ],
        [
         7002,
         10.5
        ],
        [
         10026,
         10.4
        ],
        [
         10031,
         10.29
        ],
        [
         11106,
         10.24
        ],
        [
         10028,
         10.21
        ],
        [
         10021,
         10.21
        ],
        [
         10152,
         10.13
        ],
        [
         10162,
         10.08
        ],
        [
         10023,
         10.04
        ],
        [
         10022,
         9.84
        ],
        [
         10065,
         9.81
        ],
        [
         10069,
         9.78
        ],
        [
         10153,
         9.77
        ],
        [
         11233,
         9.5
        ],
        [
         10460,
         9.33
        ],
        [
         10451,
         8.63
        ],
        [
         10474,
         8.5
        ],
        [
         10039,
         7.7
        ],
        [
         11223,
         7.5
        ],
        [
         10024,
         6.5
        ],
        [
         11220,
         6.0
        ],
        [
         7718,
         5.0
        ],
        [
         11418,
         5.0
        ],
        [
         10454,
         5.0
        ],
        [
         10468,
         4.0
        ],
        [
         11212,
         4.0
        ],
        [
         10463,
         0.01
        ],
        [
         10502,
         0.0
        ],
        [
         11003,
         0.0
        ]
       ],
       "datasetInfos": [
        {
         "name": "_sqldf",
         "schema": {
          "fields": [
           {
            "metadata": {},
            "name": "pickup_zip",
            "nullable": true,
            "type": "integer"
           },
           {
            "metadata": {},
            "name": "tarifa_media",
            "nullable": true,
            "type": "double"
           }
          ],
          "type": "struct"
         },
         "tableIdentifier": null,
         "typeStr": "pyspark.sql.connect.dataframe.DataFrame"
        }
       ],
       "dbfsResultPath": null,
       "isJsonSchema": true,
       "metadata": {
        "createTempViewForImplicitDf": true,
        "dataframeName": "_sqldf",
        "executionCount": 2
       },
       "overflow": false,
       "plotOptions": {
        "customPlotOptions": {},
        "displayType": "table",
        "pivotAggregation": null,
        "pivotColumns": null,
        "xColumns": null,
        "yColumns": null
       },
       "removedWidgets": [],
       "schema": [
        {
         "metadata": "{}",
         "name": "pickup_zip",
         "type": "\"integer\""
        },
        {
         "metadata": "{}",
         "name": "tarifa_media",
         "type": "\"double\""
        }
       ],
       "type": "table"
      }
     },
     "output_type": "display_data"
    }
   ],
   "source": [
    "-- Próximo passo: Tarifa média por zona\n",
    "SELECT \n",
    "  pickup_zip,\n",
    "  ROUND(AVG(fare_amount), 2) AS tarifa_media\n",
    "FROM samples.nyctaxi.trips\n",
    "WHERE pickup_zip IS NOT NULL\n",
    "GROUP BY pickup_zip\n",
    "ORDER BY tarifa_media DESC;\n"
   ]
  },
  {
   "cell_type": "markdown",
   "metadata": {
    "application/vnd.databricks.v1+cell": {
     "cellMetadata": {},
     "inputWidgets": {},
     "nuid": "19491194-04c2-47bc-a5f8-63baf09b4be0",
     "showTitle": false,
     "tableResultSettingsMap": {},
     "title": ""
    }
   },
   "source": [
    "### \uD83D\uDE23 Índice de frustração médio por zona\n",
    "\uD83D\uDD0D Pergunta\n",
    "Quais zonas urbanas apresentam maior frustração média, considerando tempo, tarifa e distância?\n",
    "\n",
    "\uD83E\uDDE0 Análise\n",
    "Criamos uma métrica derivada chamada índice de frustração, calculada como: (tempo de viagem × valor da tarifa) ÷ distância percorrida.\n",
    "\n",
    "Essa fórmula simula a sensação de “pagar caro por pouco”, combinando três fatores que afetam diretamente a percepção do cliente. Agrupamos por zona de embarque (pickup_zip) e calculamos a média do índice para cada região.\n",
    "\n",
    "Zonas com frustração média elevada indicam corridas longas, caras e pouco eficientes — o que pode gerar insatisfação mesmo quando a tarifa não é extrema. Esse indicador é um dos mais sensíveis da análise e compõe 30% da nota final simulada.\n",
    "\n",
    "\uD83D\uDCCC Exemplo de achado: A zona 11430 apresenta frustração média de 219.65 — muito acima da média global — sugerindo um ponto crítico na jornada do cliente."
   ]
  },
  {
   "cell_type": "code",
   "execution_count": 0,
   "metadata": {
    "application/vnd.databricks.v1+cell": {
     "cellMetadata": {
      "byteLimit": 2048000,
      "rowLimit": 10000
     },
     "inputWidgets": {},
     "nuid": "9c87d110-193c-48bf-8e6a-bc30e7ee2870",
     "showTitle": false,
     "tableResultSettingsMap": {},
     "title": ""
    }
   },
   "outputs": [
    {
     "output_type": "display_data",
     "data": {
      "text/html": [
       "<style scoped>\n",
       "  .table-result-container {\n",
       "    max-height: 300px;\n",
       "    overflow: auto;\n",
       "  }\n",
       "  table, th, td {\n",
       "    border: 1px solid black;\n",
       "    border-collapse: collapse;\n",
       "  }\n",
       "  th, td {\n",
       "    padding: 5px;\n",
       "  }\n",
       "  th {\n",
       "    text-align: left;\n",
       "  }\n",
       "</style><div class='table-result-container'><table class='table-result'><thead style='background-color: white'><tr><th>pickup_zip</th><th>frustracao_media</th></tr></thead><tbody><tr><td>11430</td><td>219.65</td></tr><tr><td>11424</td><td>177.03</td></tr><tr><td>11420</td><td>168.65</td></tr><tr><td>11218</td><td>136.36</td></tr><tr><td>7087</td><td>135.87</td></tr><tr><td>10305</td><td>135.0</td></tr><tr><td>11435</td><td>129.52</td></tr><tr><td>7737</td><td>122.09</td></tr><tr><td>11422</td><td>121.99</td></tr><tr><td>10111</td><td>120.18</td></tr><tr><td>10007</td><td>114.66</td></tr><tr><td>11423</td><td>114.29</td></tr><tr><td>10119</td><td>109.31</td></tr><tr><td>11221</td><td>108.69</td></tr><tr><td>10103</td><td>106.18</td></tr><tr><td>10065</td><td>104.32</td></tr><tr><td>11371</td><td>100.38</td></tr><tr><td>10154</td><td>98.97</td></tr><tr><td>11370</td><td>98.29</td></tr><tr><td>10199</td><td>97.65</td></tr><tr><td>11436</td><td>97.22</td></tr><tr><td>11375</td><td>95.49</td></tr><tr><td>7002</td><td>93.29</td></tr><tr><td>10014</td><td>92.23</td></tr><tr><td>11235</td><td>90.24</td></tr><tr><td>10017</td><td>86.73</td></tr><tr><td>11417</td><td>86.0</td></tr><tr><td>11109</td><td>83.8</td></tr><tr><td>10020</td><td>80.21</td></tr><tr><td>10001</td><td>79.89</td></tr><tr><td>10018</td><td>79.15</td></tr><tr><td>11226</td><td>79.01</td></tr><tr><td>10171</td><td>78.43</td></tr><tr><td>10011</td><td>74.44</td></tr><tr><td>11233</td><td>73.09</td></tr><tr><td>10025</td><td>72.83</td></tr><tr><td>11215</td><td>72.58</td></tr><tr><td>11377</td><td>71.6</td></tr><tr><td>10278</td><td>71.57</td></tr><tr><td>10009</td><td>71.22</td></tr><tr><td>10013</td><td>71.1</td></tr><tr><td>10022</td><td>70.85</td></tr><tr><td>11207</td><td>70.58</td></tr><tr><td>10112</td><td>70.56</td></tr><tr><td>10032</td><td>70.14</td></tr><tr><td>11368</td><td>70.11</td></tr><tr><td>10167</td><td>69.92</td></tr><tr><td>10271</td><td>68.24</td></tr><tr><td>10023</td><td>67.86</td></tr><tr><td>11101</td><td>67.7</td></tr><tr><td>10005</td><td>67.39</td></tr><tr><td>10012</td><td>67.37</td></tr><tr><td>10110</td><td>67.22</td></tr><tr><td>11222</td><td>66.74</td></tr><tr><td>10002</td><td>66.38</td></tr><tr><td>10006</td><td>65.42</td></tr><tr><td>11205</td><td>65.1</td></tr><tr><td>10282</td><td>64.84</td></tr><tr><td>10003</td><td>64.25</td></tr><tr><td>10152</td><td>64.09</td></tr><tr><td>11224</td><td>63.89</td></tr><tr><td>10038</td><td>63.88</td></tr><tr><td>10280</td><td>63.57</td></tr><tr><td>10021</td><td>63.39</td></tr><tr><td>10019</td><td>63.08</td></tr><tr><td>11225</td><td>62.59</td></tr><tr><td>10016</td><td>62.34</td></tr><tr><td>11216</td><td>61.01</td></tr><tr><td>10153</td><td>60.49</td></tr><tr><td>11369</td><td>60.2</td></tr><tr><td>10028</td><td>59.96</td></tr><tr><td>10470</td><td>59.83</td></tr><tr><td>11378</td><td>59.67</td></tr><tr><td>11104</td><td>59.0</td></tr><tr><td>10044</td><td>58.42</td></tr><tr><td>11231</td><td>58.2</td></tr><tr><td>11209</td><td>57.99</td></tr><tr><td>10115</td><td>57.65</td></tr><tr><td>11217</td><td>57.2</td></tr><tr><td>11373</td><td>56.56</td></tr><tr><td>10029</td><td>56.04</td></tr><tr><td>11211</td><td>55.38</td></tr><tr><td>11238</td><td>55.18</td></tr><tr><td>11230</td><td>55.17</td></tr><tr><td>10037</td><td>55.05</td></tr><tr><td>10030</td><td>54.95</td></tr><tr><td>11201</td><td>54.74</td></tr><tr><td>10026</td><td>54.35</td></tr><tr><td>10069</td><td>53.83</td></tr><tr><td>11102</td><td>51.91</td></tr><tr><td>10039</td><td>50.09</td></tr><tr><td>10162</td><td>49.33</td></tr><tr><td>10027</td><td>48.77</td></tr><tr><td>10034</td><td>48.64</td></tr><tr><td>11372</td><td>48.26</td></tr><tr><td>11103</td><td>47.69</td></tr><tr><td>11106</td><td>47.45</td></tr><tr><td>11237</td><td>47.32</td></tr><tr><td>10474</td><td>47.22</td></tr><tr><td>10452</td><td>47.03</td></tr><tr><td>11105</td><td>46.94</td></tr><tr><td>11206</td><td>46.39</td></tr><tr><td>10035</td><td>45.02</td></tr><tr><td>10031</td><td>44.8</td></tr><tr><td>11210</td><td>43.37</td></tr><tr><td>10451</td><td>40.78</td></tr><tr><td>10460</td><td>39.95</td></tr><tr><td>11355</td><td>38.37</td></tr><tr><td>11208</td><td>36.08</td></tr><tr><td>11356</td><td>33.33</td></tr><tr><td>11223</td><td>32.01</td></tr><tr><td>7718</td><td>25.0</td></tr><tr><td>10024</td><td>25.0</td></tr><tr><td>11418</td><td>19.48</td></tr><tr><td>11220</td><td>19.05</td></tr><tr><td>10454</td><td>17.65</td></tr><tr><td>11212</td><td>12.5</td></tr><tr><td>10468</td><td>11.22</td></tr><tr><td>7311</td><td>0.0</td></tr><tr><td>7030</td><td>0.0</td></tr><tr><td>10502</td><td>0.0</td></tr><tr><td>11003</td><td>0.0</td></tr></tbody></table></div>"
      ]
     },
     "metadata": {
      "application/vnd.databricks.v1+output": {
       "addedWidgets": {},
       "aggData": [],
       "aggError": "",
       "aggOverflow": false,
       "aggSchema": [],
       "aggSeriesLimitReached": false,
       "aggType": "",
       "arguments": {},
       "columnCustomDisplayInfos": {},
       "data": [
        [
         11430,
         219.65
        ],
        [
         11424,
         177.03
        ],
        [
         11420,
         168.65
        ],
        [
         11218,
         136.36
        ],
        [
         7087,
         135.87
        ],
        [
         10305,
         135.0
        ],
        [
         11435,
         129.52
        ],
        [
         7737,
         122.09
        ],
        [
         11422,
         121.99
        ],
        [
         10111,
         120.18
        ],
        [
         10007,
         114.66
        ],
        [
         11423,
         114.29
        ],
        [
         10119,
         109.31
        ],
        [
         11221,
         108.69
        ],
        [
         10103,
         106.18
        ],
        [
         10065,
         104.32
        ],
        [
         11371,
         100.38
        ],
        [
         10154,
         98.97
        ],
        [
         11370,
         98.29
        ],
        [
         10199,
         97.65
        ],
        [
         11436,
         97.22
        ],
        [
         11375,
         95.49
        ],
        [
         7002,
         93.29
        ],
        [
         10014,
         92.23
        ],
        [
         11235,
         90.24
        ],
        [
         10017,
         86.73
        ],
        [
         11417,
         86.0
        ],
        [
         11109,
         83.8
        ],
        [
         10020,
         80.21
        ],
        [
         10001,
         79.89
        ],
        [
         10018,
         79.15
        ],
        [
         11226,
         79.01
        ],
        [
         10171,
         78.43
        ],
        [
         10011,
         74.44
        ],
        [
         11233,
         73.09
        ],
        [
         10025,
         72.83
        ],
        [
         11215,
         72.58
        ],
        [
         11377,
         71.6
        ],
        [
         10278,
         71.57
        ],
        [
         10009,
         71.22
        ],
        [
         10013,
         71.1
        ],
        [
         10022,
         70.85
        ],
        [
         11207,
         70.58
        ],
        [
         10112,
         70.56
        ],
        [
         10032,
         70.14
        ],
        [
         11368,
         70.11
        ],
        [
         10167,
         69.92
        ],
        [
         10271,
         68.24
        ],
        [
         10023,
         67.86
        ],
        [
         11101,
         67.7
        ],
        [
         10005,
         67.39
        ],
        [
         10012,
         67.37
        ],
        [
         10110,
         67.22
        ],
        [
         11222,
         66.74
        ],
        [
         10002,
         66.38
        ],
        [
         10006,
         65.42
        ],
        [
         11205,
         65.1
        ],
        [
         10282,
         64.84
        ],
        [
         10003,
         64.25
        ],
        [
         10152,
         64.09
        ],
        [
         11224,
         63.89
        ],
        [
         10038,
         63.88
        ],
        [
         10280,
         63.57
        ],
        [
         10021,
         63.39
        ],
        [
         10019,
         63.08
        ],
        [
         11225,
         62.59
        ],
        [
         10016,
         62.34
        ],
        [
         11216,
         61.01
        ],
        [
         10153,
         60.49
        ],
        [
         11369,
         60.2
        ],
        [
         10028,
         59.96
        ],
        [
         10470,
         59.83
        ],
        [
         11378,
         59.67
        ],
        [
         11104,
         59.0
        ],
        [
         10044,
         58.42
        ],
        [
         11231,
         58.2
        ],
        [
         11209,
         57.99
        ],
        [
         10115,
         57.65
        ],
        [
         11217,
         57.2
        ],
        [
         11373,
         56.56
        ],
        [
         10029,
         56.04
        ],
        [
         11211,
         55.38
        ],
        [
         11238,
         55.18
        ],
        [
         11230,
         55.17
        ],
        [
         10037,
         55.05
        ],
        [
         10030,
         54.95
        ],
        [
         11201,
         54.74
        ],
        [
         10026,
         54.35
        ],
        [
         10069,
         53.83
        ],
        [
         11102,
         51.91
        ],
        [
         10039,
         50.09
        ],
        [
         10162,
         49.33
        ],
        [
         10027,
         48.77
        ],
        [
         10034,
         48.64
        ],
        [
         11372,
         48.26
        ],
        [
         11103,
         47.69
        ],
        [
         11106,
         47.45
        ],
        [
         11237,
         47.32
        ],
        [
         10474,
         47.22
        ],
        [
         10452,
         47.03
        ],
        [
         11105,
         46.94
        ],
        [
         11206,
         46.39
        ],
        [
         10035,
         45.02
        ],
        [
         10031,
         44.8
        ],
        [
         11210,
         43.37
        ],
        [
         10451,
         40.78
        ],
        [
         10460,
         39.95
        ],
        [
         11355,
         38.37
        ],
        [
         11208,
         36.08
        ],
        [
         11356,
         33.33
        ],
        [
         11223,
         32.01
        ],
        [
         7718,
         25.0
        ],
        [
         10024,
         25.0
        ],
        [
         11418,
         19.48
        ],
        [
         11220,
         19.05
        ],
        [
         10454,
         17.65
        ],
        [
         11212,
         12.5
        ],
        [
         10468,
         11.22
        ],
        [
         7311,
         0.0
        ],
        [
         7030,
         0.0
        ],
        [
         10502,
         0.0
        ],
        [
         11003,
         0.0
        ]
       ],
       "datasetInfos": [
        {
         "name": "_sqldf",
         "schema": {
          "fields": [
           {
            "metadata": {},
            "name": "pickup_zip",
            "nullable": true,
            "type": "integer"
           },
           {
            "metadata": {},
            "name": "frustracao_media",
            "nullable": true,
            "type": "double"
           }
          ],
          "type": "struct"
         },
         "tableIdentifier": null,
         "typeStr": "pyspark.sql.connect.dataframe.DataFrame"
        }
       ],
       "dbfsResultPath": null,
       "isJsonSchema": true,
       "metadata": {
        "createTempViewForImplicitDf": true,
        "dataframeName": "_sqldf",
        "executionCount": 3
       },
       "overflow": false,
       "plotOptions": {
        "customPlotOptions": {},
        "displayType": "table",
        "pivotAggregation": null,
        "pivotColumns": null,
        "xColumns": null,
        "yColumns": null
       },
       "removedWidgets": [],
       "schema": [
        {
         "metadata": "{}",
         "name": "pickup_zip",
         "type": "\"integer\""
        },
        {
         "metadata": "{}",
         "name": "frustracao_media",
         "type": "\"double\""
        }
       ],
       "type": "table"
      }
     },
     "output_type": "display_data"
    }
   ],
   "source": [
    "-- Índice de frustração médio por zona\n",
    "SELECT \n",
    "  pickup_zip,\n",
    "  ROUND(AVG((DATEDIFF(MINUTE, tpep_pickup_datetime, tpep_dropoff_datetime) * fare_amount) / trip_distance), 2) AS frustracao_media\n",
    "FROM samples.nyctaxi.trips\n",
    "WHERE pickup_zip IS NOT NULL AND trip_distance > 0\n",
    "GROUP BY pickup_zip\n",
    "ORDER BY frustracao_media DESC;\n"
   ]
  },
  {
   "cell_type": "markdown",
   "metadata": {
    "application/vnd.databricks.v1+cell": {
     "cellMetadata": {},
     "inputWidgets": {},
     "nuid": "2b427e92-bd12-49c8-badd-408839bec849",
     "showTitle": false,
     "tableResultSettingsMap": {},
     "title": ""
    }
   },
   "source": [
    "### \uD83D\uDCC8 Proporção de corridas com tarifa acima da média\n",
    "\uD83D\uDD0D Pergunta\n",
    "Quais zonas urbanas apresentam maior proporção de corridas com tarifa acima da média global?\n",
    "\n",
    "\uD83E\uDDE0 Análise\n",
    "Calculamos a média global das tarifas e, em seguida, verificamos em cada zona de embarque (pickup_zip) qual a proporção de corridas que ultrapassam esse valor. Essa métrica revela regiões onde o cliente tem maior chance de pagar mais do que o padrão da cidade.\n",
    "\n",
    "Zonas com alta proporção de tarifas acima da média podem indicar práticas de precificação agressiva, rotas longas ou baixa eficiência. Esse indicador compõe 10% da nota final simulada e funciona como um alerta de recorrência — não basta uma corrida cara, mas sim o padrão repetido.\n",
    "\n",
    "\uD83D\uDCCC Exemplo de achado: A zona 11368 apresenta 100% das corridas com tarifa acima da média — sugerindo um comportamento sistemático que merece atenção."
   ]
  },
  {
   "cell_type": "code",
   "execution_count": 0,
   "metadata": {
    "application/vnd.databricks.v1+cell": {
     "cellMetadata": {
      "byteLimit": 2048000,
      "rowLimit": 10000
     },
     "inputWidgets": {},
     "nuid": "fc8e2102-e88c-4798-beea-69fdc29fe3f0",
     "showTitle": false,
     "tableResultSettingsMap": {},
     "title": ""
    }
   },
   "outputs": [
    {
     "output_type": "display_data",
     "data": {
      "text/html": [
       "<style scoped>\n",
       "  .table-result-container {\n",
       "    max-height: 300px;\n",
       "    overflow: auto;\n",
       "  }\n",
       "  table, th, td {\n",
       "    border: 1px solid black;\n",
       "    border-collapse: collapse;\n",
       "  }\n",
       "  th, td {\n",
       "    padding: 5px;\n",
       "  }\n",
       "  th {\n",
       "    text-align: left;\n",
       "  }\n",
       "</style><div class='table-result-container'><table class='table-result'><thead style='background-color: white'><tr><th>pickup_zip</th><th>proporcao_tarifa_alta</th></tr></thead><tbody><tr><td>11368</td><td>1.00</td></tr><tr><td>8876</td><td>1.00</td></tr><tr><td>7310</td><td>1.00</td></tr><tr><td>7974</td><td>1.00</td></tr><tr><td>11356</td><td>1.00</td></tr><tr><td>10305</td><td>1.00</td></tr><tr><td>7114</td><td>1.00</td></tr><tr><td>11430</td><td>1.00</td></tr><tr><td>11420</td><td>1.00</td></tr><tr><td>11218</td><td>1.00</td></tr><tr><td>11417</td><td>1.00</td></tr><tr><td>7086</td><td>1.00</td></tr><tr><td>11207</td><td>1.00</td></tr><tr><td>10470</td><td>1.00</td></tr><tr><td>11208</td><td>1.00</td></tr><tr><td>7737</td><td>1.00</td></tr><tr><td>7030</td><td>1.00</td></tr><tr><td>11375</td><td>1.00</td></tr><tr><td>11221</td><td>1.00</td></tr><tr><td>11424</td><td>1.00</td></tr><tr><td>7311</td><td>1.00</td></tr><tr><td>7087</td><td>1.00</td></tr><tr><td>11422</td><td>0.97</td></tr><tr><td>11371</td><td>0.96</td></tr><tr><td>11436</td><td>0.82</td></tr><tr><td>11370</td><td>0.81</td></tr><tr><td>11373</td><td>0.75</td></tr><tr><td>10032</td><td>0.73</td></tr><tr><td>11215</td><td>0.67</td></tr><tr><td>10271</td><td>0.63</td></tr><tr><td>10005</td><td>0.63</td></tr><tr><td>10280</td><td>0.62</td></tr><tr><td>10006</td><td>0.61</td></tr><tr><td>10282</td><td>0.58</td></tr><tr><td>11222</td><td>0.57</td></tr><tr><td>11104</td><td>0.52</td></tr><tr><td>7002</td><td>0.50</td></tr><tr><td>11378</td><td>0.50</td></tr><tr><td>11235</td><td>0.50</td></tr><tr><td>11209</td><td>0.50</td></tr><tr><td>11226</td><td>0.50</td></tr><tr><td>10452</td><td>0.50</td></tr><tr><td>11210</td><td>0.50</td></tr><tr><td>11109</td><td>0.48</td></tr><tr><td>11102</td><td>0.47</td></tr><tr><td>10007</td><td>0.46</td></tr><tr><td>11101</td><td>0.45</td></tr><tr><td>10034</td><td>0.44</td></tr><tr><td>10278</td><td>0.44</td></tr><tr><td>11201</td><td>0.43</td></tr><tr><td>10038</td><td>0.43</td></tr><tr><td>11231</td><td>0.40</td></tr><tr><td>11225</td><td>0.40</td></tr><tr><td>10013</td><td>0.40</td></tr><tr><td>11211</td><td>0.39</td></tr><tr><td>11216</td><td>0.38</td></tr><tr><td>11377</td><td>0.38</td></tr><tr><td>10035</td><td>0.38</td></tr><tr><td>10002</td><td>0.36</td></tr><tr><td>11205</td><td>0.36</td></tr><tr><td>10115</td><td>0.35</td></tr><tr><td>11217</td><td>0.35</td></tr><tr><td>10171</td><td>0.34</td></tr><tr><td>11224</td><td>0.33</td></tr><tr><td>11233</td><td>0.33</td></tr><tr><td>11435</td><td>0.33</td></tr><tr><td>11237</td><td>0.33</td></tr><tr><td>10012</td><td>0.33</td></tr><tr><td>10103</td><td>0.33</td></tr><tr><td>10025</td><td>0.33</td></tr><tr><td>11372</td><td>0.33</td></tr><tr><td>11230</td><td>0.33</td></tr><tr><td>10037</td><td>0.31</td></tr><tr><td>11105</td><td>0.31</td></tr><tr><td>10003</td><td>0.31</td></tr><tr><td>10026</td><td>0.30</td></tr><tr><td>10154</td><td>0.30</td></tr><tr><td>10014</td><td>0.29</td></tr><tr><td>10044</td><td>0.29</td></tr><tr><td>10009</td><td>0.29</td></tr><tr><td>10018</td><td>0.29</td></tr><tr><td>10027</td><td>0.28</td></tr><tr><td>10030</td><td>0.28</td></tr><tr><td>10019</td><td>0.27</td></tr><tr><td>10020</td><td>0.27</td></tr><tr><td>10119</td><td>0.27</td></tr><tr><td>10029</td><td>0.27</td></tr><tr><td>10001</td><td>0.26</td></tr><tr><td>10028</td><td>0.26</td></tr><tr><td>10031</td><td>0.26</td></tr><tr><td>10167</td><td>0.26</td></tr><tr><td>11106</td><td>0.26</td></tr><tr><td>10016</td><td>0.26</td></tr><tr><td>10011</td><td>0.26</td></tr><tr><td>10021</td><td>0.25</td></tr><tr><td>10017</td><td>0.25</td></tr><tr><td>10110</td><td>0.25</td></tr><tr><td>11103</td><td>0.25</td></tr><tr><td>11238</td><td>0.25</td></tr><tr><td>10199</td><td>0.24</td></tr><tr><td>11206</td><td>0.24</td></tr><tr><td>10112</td><td>0.24</td></tr><tr><td>10111</td><td>0.24</td></tr><tr><td>10162</td><td>0.23</td></tr><tr><td>10022</td><td>0.22</td></tr><tr><td>10065</td><td>0.22</td></tr><tr><td>10023</td><td>0.21</td></tr><tr><td>11369</td><td>0.20</td></tr><tr><td>10039</td><td>0.20</td></tr><tr><td>10069</td><td>0.19</td></tr><tr><td>10153</td><td>0.18</td></tr><tr><td>10152</td><td>0.16</td></tr><tr><td>11003</td><td>0.00</td></tr><tr><td>11220</td><td>0.00</td></tr><tr><td>10502</td><td>0.00</td></tr><tr><td>11223</td><td>0.00</td></tr><tr><td>10460</td><td>0.00</td></tr><tr><td>11418</td><td>0.00</td></tr><tr><td>10024</td><td>0.00</td></tr><tr><td>10474</td><td>0.00</td></tr><tr><td>10463</td><td>0.00</td></tr><tr><td>11423</td><td>0.00</td></tr><tr><td>10451</td><td>0.00</td></tr><tr><td>11355</td><td>0.00</td></tr><tr><td>7718</td><td>0.00</td></tr><tr><td>11212</td><td>0.00</td></tr><tr><td>10454</td><td>0.00</td></tr><tr><td>10468</td><td>0.00</td></tr></tbody></table></div>"
      ]
     },
     "metadata": {
      "application/vnd.databricks.v1+output": {
       "addedWidgets": {},
       "aggData": [],
       "aggError": "",
       "aggOverflow": false,
       "aggSchema": [],
       "aggSeriesLimitReached": false,
       "aggType": "",
       "arguments": {},
       "columnCustomDisplayInfos": {},
       "data": [
        [
         11368,
         "1.00"
        ],
        [
         8876,
         "1.00"
        ],
        [
         7310,
         "1.00"
        ],
        [
         7974,
         "1.00"
        ],
        [
         11356,
         "1.00"
        ],
        [
         10305,
         "1.00"
        ],
        [
         7114,
         "1.00"
        ],
        [
         11430,
         "1.00"
        ],
        [
         11420,
         "1.00"
        ],
        [
         11218,
         "1.00"
        ],
        [
         11417,
         "1.00"
        ],
        [
         7086,
         "1.00"
        ],
        [
         11207,
         "1.00"
        ],
        [
         10470,
         "1.00"
        ],
        [
         11208,
         "1.00"
        ],
        [
         7737,
         "1.00"
        ],
        [
         7030,
         "1.00"
        ],
        [
         11375,
         "1.00"
        ],
        [
         11221,
         "1.00"
        ],
        [
         11424,
         "1.00"
        ],
        [
         7311,
         "1.00"
        ],
        [
         7087,
         "1.00"
        ],
        [
         11422,
         "0.97"
        ],
        [
         11371,
         "0.96"
        ],
        [
         11436,
         "0.82"
        ],
        [
         11370,
         "0.81"
        ],
        [
         11373,
         "0.75"
        ],
        [
         10032,
         "0.73"
        ],
        [
         11215,
         "0.67"
        ],
        [
         10271,
         "0.63"
        ],
        [
         10005,
         "0.63"
        ],
        [
         10280,
         "0.62"
        ],
        [
         10006,
         "0.61"
        ],
        [
         10282,
         "0.58"
        ],
        [
         11222,
         "0.57"
        ],
        [
         11104,
         "0.52"
        ],
        [
         7002,
         "0.50"
        ],
        [
         11378,
         "0.50"
        ],
        [
         11235,
         "0.50"
        ],
        [
         11209,
         "0.50"
        ],
        [
         11226,
         "0.50"
        ],
        [
         10452,
         "0.50"
        ],
        [
         11210,
         "0.50"
        ],
        [
         11109,
         "0.48"
        ],
        [
         11102,
         "0.47"
        ],
        [
         10007,
         "0.46"
        ],
        [
         11101,
         "0.45"
        ],
        [
         10034,
         "0.44"
        ],
        [
         10278,
         "0.44"
        ],
        [
         11201,
         "0.43"
        ],
        [
         10038,
         "0.43"
        ],
        [
         11231,
         "0.40"
        ],
        [
         11225,
         "0.40"
        ],
        [
         10013,
         "0.40"
        ],
        [
         11211,
         "0.39"
        ],
        [
         11216,
         "0.38"
        ],
        [
         11377,
         "0.38"
        ],
        [
         10035,
         "0.38"
        ],
        [
         10002,
         "0.36"
        ],
        [
         11205,
         "0.36"
        ],
        [
         10115,
         "0.35"
        ],
        [
         11217,
         "0.35"
        ],
        [
         10171,
         "0.34"
        ],
        [
         11224,
         "0.33"
        ],
        [
         11233,
         "0.33"
        ],
        [
         11435,
         "0.33"
        ],
        [
         11237,
         "0.33"
        ],
        [
         10012,
         "0.33"
        ],
        [
         10103,
         "0.33"
        ],
        [
         10025,
         "0.33"
        ],
        [
         11372,
         "0.33"
        ],
        [
         11230,
         "0.33"
        ],
        [
         10037,
         "0.31"
        ],
        [
         11105,
         "0.31"
        ],
        [
         10003,
         "0.31"
        ],
        [
         10026,
         "0.30"
        ],
        [
         10154,
         "0.30"
        ],
        [
         10014,
         "0.29"
        ],
        [
         10044,
         "0.29"
        ],
        [
         10009,
         "0.29"
        ],
        [
         10018,
         "0.29"
        ],
        [
         10027,
         "0.28"
        ],
        [
         10030,
         "0.28"
        ],
        [
         10019,
         "0.27"
        ],
        [
         10020,
         "0.27"
        ],
        [
         10119,
         "0.27"
        ],
        [
         10029,
         "0.27"
        ],
        [
         10001,
         "0.26"
        ],
        [
         10028,
         "0.26"
        ],
        [
         10031,
         "0.26"
        ],
        [
         10167,
         "0.26"
        ],
        [
         11106,
         "0.26"
        ],
        [
         10016,
         "0.26"
        ],
        [
         10011,
         "0.26"
        ],
        [
         10021,
         "0.25"
        ],
        [
         10017,
         "0.25"
        ],
        [
         10110,
         "0.25"
        ],
        [
         11103,
         "0.25"
        ],
        [
         11238,
         "0.25"
        ],
        [
         10199,
         "0.24"
        ],
        [
         11206,
         "0.24"
        ],
        [
         10112,
         "0.24"
        ],
        [
         10111,
         "0.24"
        ],
        [
         10162,
         "0.23"
        ],
        [
         10022,
         "0.22"
        ],
        [
         10065,
         "0.22"
        ],
        [
         10023,
         "0.21"
        ],
        [
         11369,
         "0.20"
        ],
        [
         10039,
         "0.20"
        ],
        [
         10069,
         "0.19"
        ],
        [
         10153,
         "0.18"
        ],
        [
         10152,
         "0.16"
        ],
        [
         11003,
         "0.00"
        ],
        [
         11220,
         "0.00"
        ],
        [
         10502,
         "0.00"
        ],
        [
         11223,
         "0.00"
        ],
        [
         10460,
         "0.00"
        ],
        [
         11418,
         "0.00"
        ],
        [
         10024,
         "0.00"
        ],
        [
         10474,
         "0.00"
        ],
        [
         10463,
         "0.00"
        ],
        [
         11423,
         "0.00"
        ],
        [
         10451,
         "0.00"
        ],
        [
         11355,
         "0.00"
        ],
        [
         7718,
         "0.00"
        ],
        [
         11212,
         "0.00"
        ],
        [
         10454,
         "0.00"
        ],
        [
         10468,
         "0.00"
        ]
       ],
       "datasetInfos": [
        {
         "name": "_sqldf",
         "schema": {
          "fields": [
           {
            "metadata": {},
            "name": "pickup_zip",
            "nullable": true,
            "type": "integer"
           },
           {
            "metadata": {},
            "name": "proporcao_tarifa_alta",
            "nullable": true,
            "type": "decimal(25,2)"
           }
          ],
          "type": "struct"
         },
         "tableIdentifier": null,
         "typeStr": "pyspark.sql.connect.dataframe.DataFrame"
        }
       ],
       "dbfsResultPath": null,
       "isJsonSchema": true,
       "metadata": {
        "createTempViewForImplicitDf": true,
        "dataframeName": "_sqldf",
        "executionCount": 4
       },
       "overflow": false,
       "plotOptions": {
        "customPlotOptions": {},
        "displayType": "table",
        "pivotAggregation": null,
        "pivotColumns": null,
        "xColumns": null,
        "yColumns": null
       },
       "removedWidgets": [],
       "schema": [
        {
         "metadata": "{}",
         "name": "pickup_zip",
         "type": "\"integer\""
        },
        {
         "metadata": "{}",
         "name": "proporcao_tarifa_alta",
         "type": "\"decimal(25,2)\""
        }
       ],
       "type": "table"
      }
     },
     "output_type": "display_data"
    }
   ],
   "source": [
    "-- Proporção de corridas com tarifa acima da média\n",
    "WITH media_global AS (\n",
    "  SELECT AVG(fare_amount) AS media_tarifa FROM samples.nyctaxi.trips\n",
    ")\n",
    "SELECT \n",
    "  t.pickup_zip,\n",
    "  ROUND(COUNT(CASE WHEN t.fare_amount > m.media_tarifa THEN 1 END) * 1.0 / COUNT(*), 2) AS proporcao_tarifa_alta\n",
    "FROM samples.nyctaxi.trips t\n",
    "JOIN media_global m ON 1=1\n",
    "WHERE t.pickup_zip IS NOT NULL\n",
    "GROUP BY t.pickup_zip\n",
    "ORDER BY proporcao_tarifa_alta DESC;\n"
   ]
  },
  {
   "cell_type": "markdown",
   "metadata": {
    "application/vnd.databricks.v1+cell": {
     "cellMetadata": {},
     "inputWidgets": {},
     "nuid": "820951c0-3776-4a85-aa23-ef7d93fb1e6f",
     "showTitle": false,
     "tableResultSettingsMap": {},
     "title": ""
    }
   },
   "source": [
    "### \uD83E\uDDEE Etapas para calcular a nota final por zona\n",
    "\uD83D\uDD0D Pergunta\n",
    "\n",
    "Como podemos consolidar os principais indicadores operacionais para avaliar a experiência do cliente por zona de embarque?\n",
    "\n",
    "\uD83E\uDDE0 Análise\n",
    "\n",
    "Nesta etapa, reunimos os quatro indicadores previamente calculados — tempo médio de viagem, tarifa média, índice de frustração e proporção de corridas caras — em uma única tabela por zona (pickup_zip). Cada métrica foi obtida por meio de uma subconsulta (CTE) e depois unida por meio de JOINs, garantindo que todas as zonas tenham seus respectivos valores consolidados.\n",
    "\n",
    "Essa união é essencial para o próximo passo: a normalização e ponderação dos indicadores, que resultará na nota final simulada de experiência. Ao centralizar os dados em uma estrutura única, conseguimos aplicar regras de negócio e lógica de avaliação de forma consistente.\n",
    "\n",
    "\uD83D\uDCCC Exemplo de achado: \n",
    "\n",
    "A zona 10305 apresenta tempo médio de 20 minutos, tarifa média de $13.50, frustração de 135.00 e 100% de corridas acima da média — um perfil crítico que será refletido na nota final."
   ]
  },
  {
   "cell_type": "code",
   "execution_count": 0,
   "metadata": {
    "application/vnd.databricks.v1+cell": {
     "cellMetadata": {
      "byteLimit": 2048000,
      "rowLimit": 10000
     },
     "inputWidgets": {},
     "nuid": "e27065e2-1d42-404c-9a22-3f946b827a37",
     "showTitle": false,
     "tableResultSettingsMap": {},
     "title": ""
    }
   },
   "outputs": [
    {
     "output_type": "display_data",
     "data": {
      "text/html": [
       "<style scoped>\n",
       "  .table-result-container {\n",
       "    max-height: 300px;\n",
       "    overflow: auto;\n",
       "  }\n",
       "  table, th, td {\n",
       "    border: 1px solid black;\n",
       "    border-collapse: collapse;\n",
       "  }\n",
       "  th, td {\n",
       "    padding: 5px;\n",
       "  }\n",
       "  th {\n",
       "    text-align: left;\n",
       "  }\n",
       "</style><div class='table-result-container'><table class='table-result'><thead style='background-color: white'><tr><th>pickup_zip</th><th>tempo_medio</th><th>tarifa_media</th><th>frustracao_media</th><th>proporcao_tarifa_alta</th></tr></thead><tbody><tr><td>11224</td><td>14.33</td><td>20.33</td><td>63.89</td><td>0.33</td></tr><tr><td>11368</td><td>12.0</td><td>52.0</td><td>70.11</td><td>1.00</td></tr><tr><td>10001</td><td>14.01</td><td>10.62</td><td>79.89</td><td>0.26</td></tr><tr><td>10021</td><td>11.02</td><td>10.21</td><td>63.39</td><td>0.25</td></tr><tr><td>11233</td><td>11.0</td><td>9.5</td><td>73.09</td><td>0.33</td></tr><tr><td>11231</td><td>11.2</td><td>12.03</td><td>58.2</td><td>0.40</td></tr><tr><td>10027</td><td>10.43</td><td>10.92</td><td>48.77</td><td>0.28</td></tr><tr><td>10028</td><td>11.8</td><td>10.21</td><td>59.96</td><td>0.26</td></tr><tr><td>11370</td><td>28.12</td><td>25.31</td><td>98.29</td><td>0.81</td></tr><tr><td>11003</td><td>0.0</td><td>0.0</td><td>0.0</td><td>0.00</td></tr><tr><td>7002</td><td>13.0</td><td>10.5</td><td>93.29</td><td>0.50</td></tr><tr><td>10023</td><td>11.88</td><td>10.04</td><td>67.86</td><td>0.21</td></tr><tr><td>10031</td><td>9.63</td><td>10.29</td><td>44.8</td><td>0.26</td></tr><tr><td>10271</td><td>15.94</td><td>15.8</td><td>68.24</td><td>0.63</td></tr><tr><td>10022</td><td>13.42</td><td>9.84</td><td>70.85</td><td>0.22</td></tr><tr><td>11378</td><td>7.0</td><td>27.25</td><td>59.67</td><td>0.50</td></tr><tr><td>10199</td><td>14.75</td><td>10.74</td><td>97.65</td><td>0.24</td></tr><tr><td>11220</td><td>4.0</td><td>6.0</td><td>19.05</td><td>0.00</td></tr><tr><td>10006</td><td>15.45</td><td>15.22</td><td>65.42</td><td>0.61</td></tr><tr><td>10037</td><td>12.96</td><td>13.4</td><td>55.05</td><td>0.31</td></tr><tr><td>11201</td><td>12.56</td><td>13.46</td><td>54.74</td><td>0.43</td></tr><tr><td>10502</td><td>0.0</td><td>0.0</td><td>0.0</td><td>0.00</td></tr><tr><td>11223</td><td>7.0</td><td>7.5</td><td>32.01</td><td>0.00</td></tr><tr><td>11356</td><td>10.0</td><td>15.0</td><td>33.33</td><td>1.00</td></tr><tr><td>10034</td><td>11.78</td><td>16.67</td><td>48.64</td><td>0.44</td></tr><tr><td>10305</td><td>20.0</td><td>13.5</td><td>135.0</td><td>1.00</td></tr><tr><td>10019</td><td>11.57</td><td>10.95</td><td>63.08</td><td>0.27</td></tr><tr><td>10002</td><td>14.36</td><td>12.23</td><td>66.38</td><td>0.36</td></tr><tr><td>10460</td><td>9.0</td><td>9.33</td><td>39.95</td><td>0.00</td></tr><tr><td>11206</td><td>10.52</td><td>11.02</td><td>46.39</td><td>0.24</td></tr><tr><td>11215</td><td>16.0</td><td>13.73</td><td>72.58</td><td>0.67</td></tr><tr><td>11418</td><td>3.0</td><td>5.0</td><td>19.48</td><td>0.00</td></tr><tr><td>10024</td><td>5.0</td><td>6.5</td><td>25.0</td><td>0.00</td></tr><tr><td>11430</td><td>73.25</td><td>52.0</td><td>219.65</td><td>1.00</td></tr><tr><td>10282</td><td>14.66</td><td>14.46</td><td>64.84</td><td>0.58</td></tr><tr><td>11235</td><td>29.5</td><td>33.25</td><td>90.24</td><td>0.50</td></tr><tr><td>10020</td><td>15.47</td><td>11.7</td><td>80.21</td><td>0.27</td></tr><tr><td>11373</td><td>15.5</td><td>16.63</td><td>56.56</td><td>0.75</td></tr><tr><td>10167</td><td>12.26</td><td>11.58</td><td>69.92</td><td>0.26</td></tr><tr><td>11420</td><td>48.0</td><td>52.0</td><td>168.65</td><td>1.00</td></tr><tr><td>11435</td><td>24.0</td><td>18.17</td><td>129.52</td><td>0.33</td></tr><tr><td>11218</td><td>30.0</td><td>20.0</td><td>136.36</td><td>1.00</td></tr><tr><td>11237</td><td>12.0</td><td>12.4</td><td>47.32</td><td>0.33</td></tr><tr><td>10007</td><td>22.72</td><td>13.86</td><td>114.66</td><td>0.46</td></tr><tr><td>11417</td><td>23.5</td><td>25.0</td><td>86.0</td><td>1.00</td></tr><tr><td>10474</td><td>10.0</td><td>8.5</td><td>47.22</td><td>0.00</td></tr><tr><td>11109</td><td>12.3</td><td>17.8</td><td>83.8</td><td>0.48</td></tr><tr><td>10038</td><td>15.15</td><td>15.9</td><td>63.88</td><td>0.43</td></tr><tr><td>10065</td><td>15.69</td><td>9.81</td><td>104.32</td><td>0.22</td></tr><tr><td>11207</td><td>19.5</td><td>20.5</td><td>70.58</td><td>1.00</td></tr><tr><td>10012</td><td>12.72</td><td>11.35</td><td>67.37</td><td>0.33</td></tr><tr><td>11209</td><td>15.5</td><td>19.25</td><td>57.99</td><td>0.50</td></tr><tr><td>10470</td><td>20.0</td><td>28.0</td><td>59.83</td><td>1.00</td></tr><tr><td>10115</td><td>10.93</td><td>11.89</td><td>57.65</td><td>0.35</td></tr><tr><td>11106</td><td>8.9</td><td>10.24</td><td>47.45</td><td>0.26</td></tr><tr><td>11216</td><td>14.88</td><td>15.63</td><td>61.01</td><td>0.38</td></tr><tr><td>11101</td><td>11.95</td><td>14.7</td><td>67.7</td><td>0.45</td></tr><tr><td>11225</td><td>15.6</td><td>14.6</td><td>62.59</td><td>0.40</td></tr><tr><td>11371</td><td>30.05</td><td>30.64</td><td>100.38</td><td>0.96</td></tr><tr><td>11423</td><td>16.0</td><td>11.5</td><td>114.29</td><td>0.00</td></tr><tr><td>11226</td><td>20.25</td><td>18.75</td><td>79.01</td><td>0.50</td></tr><tr><td>10119</td><td>18.43</td><td>10.91</td><td>109.31</td><td>0.27</td></tr><tr><td>10451</td><td>8.5</td><td>8.63</td><td>40.78</td><td>0.00</td></tr><tr><td>10016</td><td>11.83</td><td>10.96</td><td>62.34</td><td>0.26</td></tr><tr><td>10014</td><td>17.74</td><td>10.92</td><td>92.23</td><td>0.29</td></tr><tr><td>10044</td><td>11.44</td><td>10.91</td><td>58.42</td><td>0.29</td></tr><tr><td>11222</td><td>15.19</td><td>14.24</td><td>66.74</td><td>0.57</td></tr><tr><td>11355</td><td>9.0</td><td>11.0</td><td>38.37</td><td>0.00</td></tr><tr><td>10162</td><td>10.01</td><td>10.08</td><td>49.33</td><td>0.23</td></tr><tr><td>10017</td><td>13.53</td><td>11.31</td><td>86.73</td><td>0.25</td></tr><tr><td>11211</td><td>12.65</td><td>12.3</td><td>55.38</td><td>0.39</td></tr><tr><td>10032</td><td>16.27</td><td>16.63</td><td>70.14</td><td>0.73</td></tr><tr><td>7718</td><td>4.0</td><td>5.0</td><td>25.0</td><td>0.00</td></tr><tr><td>11212</td><td>2.0</td><td>4.0</td><td>12.5</td><td>0.00</td></tr><tr><td>10013</td><td>13.95</td><td>13.84</td><td>71.1</td><td>0.40</td></tr><tr><td>10452</td><td>12.0</td><td>13.88</td><td>47.03</td><td>0.50</td></tr><tr><td>10112</td><td>12.74</td><td>12.59</td><td>70.56</td><td>0.24</td></tr><tr><td>10103</td><td>18.5</td><td>12.61</td><td>106.18</td><td>0.33</td></tr><tr><td>11436</td><td>28.91</td><td>42.32</td><td>97.22</td><td>0.82</td></tr><tr><td>11208</td><td>12.0</td><td>19.0</td><td>36.08</td><td>1.00</td></tr><tr><td>11105</td><td>10.46</td><td>12.31</td><td>46.94</td><td>0.31</td></tr><tr><td>10069</td><td>10.4</td><td>9.78</td><td>53.83</td><td>0.19</td></tr><tr><td>10011</td><td>14.49</td><td>10.91</td><td>74.44</td><td>0.26</td></tr><tr><td>10152</td><td>11.28</td><td>10.13</td><td>64.09</td><td>0.16</td></tr><tr><td>10111</td><td>20.68</td><td>10.69</td><td>120.18</td><td>0.24</td></tr><tr><td>7737</td><td>23.0</td><td>15.5</td><td>122.09</td><td>1.00</td></tr><tr><td>10003</td><td>11.93</td><td>10.98</td><td>64.25</td><td>0.31</td></tr><tr><td>7030</td><td>0.0</td><td>40.0</td><td>0.0</td><td>1.00</td></tr><tr><td>10029</td><td>11.15</td><td>10.79</td><td>56.04</td><td>0.27</td></tr><tr><td>10280</td><td>15.33</td><td>16.33</td><td>63.57</td><td>0.62</td></tr><tr><td>10005</td><td>16.08</td><td>15.87</td><td>67.39</td><td>0.63</td></tr><tr><td>10110</td><td>11.73</td><td>10.9</td><td>67.22</td><td>0.25</td></tr><tr><td>11205</td><td>14.95</td><td>13.95</td><td>65.1</td><td>0.36</td></tr><tr><td>10026</td><td>10.94</td><td>10.4</td><td>54.35</td><td>0.30</td></tr><tr><td>11103</td><td>10.19</td><td>11.03</td><td>47.69</td><td>0.25</td></tr><tr><td>11238</td><td>11.94</td><td>11.44</td><td>55.18</td><td>0.25</td></tr><tr><td>10278</td><td>14.23</td><td>12.99</td><td>71.57</td><td>0.44</td></tr><tr><td>10025</td><td>16.88</td><td>11.68</td><td>72.83</td><td>0.33</td></tr><tr><td>10454</td><td>3.0</td><td>5.0</td><td>17.65</td><td>0.00</td></tr><tr><td>10153</td><td>10.81</td><td>9.77</td><td>60.49</td><td>0.18</td></tr><tr><td>11375</td><td>30.33</td><td>33.0</td><td>95.49</td><td>1.00</td></tr><tr><td>11369</td><td>7.8</td><td>24.2</td><td>60.2</td><td>0.20</td></tr><tr><td>10171</td><td>13.42</td><td>12.04</td><td>78.43</td><td>0.34</td></tr><tr><td>11377</td><td>15.29</td><td>13.25</td><td>71.6</td><td>0.38</td></tr><tr><td>10009</td><td>13.38</td><td>11.16</td><td>71.22</td><td>0.29</td></tr><tr><td>10035</td><td>9.95</td><td>13.27</td><td>45.02</td><td>0.38</td></tr><tr><td>10154</td><td>18.12</td><td>11.9</td><td>98.97</td><td>0.30</td></tr><tr><td>10030</td><td>10.28</td><td>10.75</td><td>54.95</td><td>0.28</td></tr><tr><td>10468</td><td>1.5</td><td>4.0</td><td>11.22</td><td>0.00</td></tr><tr><td>11104</td><td>13.07</td><td>12.24</td><td>59.0</td><td>0.52</td></tr><tr><td>11221</td><td>26.5</td><td>21.75</td><td>108.69</td><td>1.00</td></tr><tr><td>11422</td><td>41.47</td><td>44.78</td><td>121.99</td><td>0.97</td></tr><tr><td>11424</td><td>23.5</td><td>34.25</td><td>177.03</td><td>1.00</td></tr><tr><td>7311</td><td>0.0</td><td>60.0</td><td>0.0</td><td>1.00</td></tr><tr><td>11210</td><td>12.0</td><td>13.75</td><td>43.37</td><td>0.50</td></tr><tr><td>11372</td><td>10.53</td><td>12.37</td><td>48.26</td><td>0.33</td></tr><tr><td>11102</td><td>12.06</td><td>11.88</td><td>51.91</td><td>0.47</td></tr><tr><td>10039</td><td>7.6</td><td>7.7</td><td>50.09</td><td>0.20</td></tr><tr><td>11230</td><td>16.33</td><td>20.83</td><td>55.17</td><td>0.33</td></tr><tr><td>7087</td><td>38.0</td><td>31.0</td><td>135.87</td><td>1.00</td></tr><tr><td>10018</td><td>15.13</td><td>11.4</td><td>79.15</td><td>0.29</td></tr><tr><td>11217</td><td>12.3</td><td>12.25</td><td>57.2</td><td>0.35</td></tr></tbody></table></div>"
      ]
     },
     "metadata": {
      "application/vnd.databricks.v1+output": {
       "addedWidgets": {},
       "aggData": [],
       "aggError": "",
       "aggOverflow": false,
       "aggSchema": [],
       "aggSeriesLimitReached": false,
       "aggType": "",
       "arguments": {},
       "columnCustomDisplayInfos": {},
       "data": [
        [
         11224,
         14.33,
         20.33,
         63.89,
         "0.33"
        ],
        [
         11368,
         12.0,
         52.0,
         70.11,
         "1.00"
        ],
        [
         10001,
         14.01,
         10.62,
         79.89,
         "0.26"
        ],
        [
         10021,
         11.02,
         10.21,
         63.39,
         "0.25"
        ],
        [
         11233,
         11.0,
         9.5,
         73.09,
         "0.33"
        ],
        [
         11231,
         11.2,
         12.03,
         58.2,
         "0.40"
        ],
        [
         10027,
         10.43,
         10.92,
         48.77,
         "0.28"
        ],
        [
         10028,
         11.8,
         10.21,
         59.96,
         "0.26"
        ],
        [
         11370,
         28.12,
         25.31,
         98.29,
         "0.81"
        ],
        [
         11003,
         0.0,
         0.0,
         0.0,
         "0.00"
        ],
        [
         7002,
         13.0,
         10.5,
         93.29,
         "0.50"
        ],
        [
         10023,
         11.88,
         10.04,
         67.86,
         "0.21"
        ],
        [
         10031,
         9.63,
         10.29,
         44.8,
         "0.26"
        ],
        [
         10271,
         15.94,
         15.8,
         68.24,
         "0.63"
        ],
        [
         10022,
         13.42,
         9.84,
         70.85,
         "0.22"
        ],
        [
         11378,
         7.0,
         27.25,
         59.67,
         "0.50"
        ],
        [
         10199,
         14.75,
         10.74,
         97.65,
         "0.24"
        ],
        [
         11220,
         4.0,
         6.0,
         19.05,
         "0.00"
        ],
        [
         10006,
         15.45,
         15.22,
         65.42,
         "0.61"
        ],
        [
         10037,
         12.96,
         13.4,
         55.05,
         "0.31"
        ],
        [
         11201,
         12.56,
         13.46,
         54.74,
         "0.43"
        ],
        [
         10502,
         0.0,
         0.0,
         0.0,
         "0.00"
        ],
        [
         11223,
         7.0,
         7.5,
         32.01,
         "0.00"
        ],
        [
         11356,
         10.0,
         15.0,
         33.33,
         "1.00"
        ],
        [
         10034,
         11.78,
         16.67,
         48.64,
         "0.44"
        ],
        [
         10305,
         20.0,
         13.5,
         135.0,
         "1.00"
        ],
        [
         10019,
         11.57,
         10.95,
         63.08,
         "0.27"
        ],
        [
         10002,
         14.36,
         12.23,
         66.38,
         "0.36"
        ],
        [
         10460,
         9.0,
         9.33,
         39.95,
         "0.00"
        ],
        [
         11206,
         10.52,
         11.02,
         46.39,
         "0.24"
        ],
        [
         11215,
         16.0,
         13.73,
         72.58,
         "0.67"
        ],
        [
         11418,
         3.0,
         5.0,
         19.48,
         "0.00"
        ],
        [
         10024,
         5.0,
         6.5,
         25.0,
         "0.00"
        ],
        [
         11430,
         73.25,
         52.0,
         219.65,
         "1.00"
        ],
        [
         10282,
         14.66,
         14.46,
         64.84,
         "0.58"
        ],
        [
         11235,
         29.5,
         33.25,
         90.24,
         "0.50"
        ],
        [
         10020,
         15.47,
         11.7,
         80.21,
         "0.27"
        ],
        [
         11373,
         15.5,
         16.63,
         56.56,
         "0.75"
        ],
        [
         10167,
         12.26,
         11.58,
         69.92,
         "0.26"
        ],
        [
         11420,
         48.0,
         52.0,
         168.65,
         "1.00"
        ],
        [
         11435,
         24.0,
         18.17,
         129.52,
         "0.33"
        ],
        [
         11218,
         30.0,
         20.0,
         136.36,
         "1.00"
        ],
        [
         11237,
         12.0,
         12.4,
         47.32,
         "0.33"
        ],
        [
         10007,
         22.72,
         13.86,
         114.66,
         "0.46"
        ],
        [
         11417,
         23.5,
         25.0,
         86.0,
         "1.00"
        ],
        [
         10474,
         10.0,
         8.5,
         47.22,
         "0.00"
        ],
        [
         11109,
         12.3,
         17.8,
         83.8,
         "0.48"
        ],
        [
         10038,
         15.15,
         15.9,
         63.88,
         "0.43"
        ],
        [
         10065,
         15.69,
         9.81,
         104.32,
         "0.22"
        ],
        [
         11207,
         19.5,
         20.5,
         70.58,
         "1.00"
        ],
        [
         10012,
         12.72,
         11.35,
         67.37,
         "0.33"
        ],
        [
         11209,
         15.5,
         19.25,
         57.99,
         "0.50"
        ],
        [
         10470,
         20.0,
         28.0,
         59.83,
         "1.00"
        ],
        [
         10115,
         10.93,
         11.89,
         57.65,
         "0.35"
        ],
        [
         11106,
         8.9,
         10.24,
         47.45,
         "0.26"
        ],
        [
         11216,
         14.88,
         15.63,
         61.01,
         "0.38"
        ],
        [
         11101,
         11.95,
         14.7,
         67.7,
         "0.45"
        ],
        [
         11225,
         15.6,
         14.6,
         62.59,
         "0.40"
        ],
        [
         11371,
         30.05,
         30.64,
         100.38,
         "0.96"
        ],
        [
         11423,
         16.0,
         11.5,
         114.29,
         "0.00"
        ],
        [
         11226,
         20.25,
         18.75,
         79.01,
         "0.50"
        ],
        [
         10119,
         18.43,
         10.91,
         109.31,
         "0.27"
        ],
        [
         10451,
         8.5,
         8.63,
         40.78,
         "0.00"
        ],
        [
         10016,
         11.83,
         10.96,
         62.34,
         "0.26"
        ],
        [
         10014,
         17.74,
         10.92,
         92.23,
         "0.29"
        ],
        [
         10044,
         11.44,
         10.91,
         58.42,
         "0.29"
        ],
        [
         11222,
         15.19,
         14.24,
         66.74,
         "0.57"
        ],
        [
         11355,
         9.0,
         11.0,
         38.37,
         "0.00"
        ],
        [
         10162,
         10.01,
         10.08,
         49.33,
         "0.23"
        ],
        [
         10017,
         13.53,
         11.31,
         86.73,
         "0.25"
        ],
        [
         11211,
         12.65,
         12.3,
         55.38,
         "0.39"
        ],
        [
         10032,
         16.27,
         16.63,
         70.14,
         "0.73"
        ],
        [
         7718,
         4.0,
         5.0,
         25.0,
         "0.00"
        ],
        [
         11212,
         2.0,
         4.0,
         12.5,
         "0.00"
        ],
        [
         10013,
         13.95,
         13.84,
         71.1,
         "0.40"
        ],
        [
         10452,
         12.0,
         13.88,
         47.03,
         "0.50"
        ],
        [
         10112,
         12.74,
         12.59,
         70.56,
         "0.24"
        ],
        [
         10103,
         18.5,
         12.61,
         106.18,
         "0.33"
        ],
        [
         11436,
         28.91,
         42.32,
         97.22,
         "0.82"
        ],
        [
         11208,
         12.0,
         19.0,
         36.08,
         "1.00"
        ],
        [
         11105,
         10.46,
         12.31,
         46.94,
         "0.31"
        ],
        [
         10069,
         10.4,
         9.78,
         53.83,
         "0.19"
        ],
        [
         10011,
         14.49,
         10.91,
         74.44,
         "0.26"
        ],
        [
         10152,
         11.28,
         10.13,
         64.09,
         "0.16"
        ],
        [
         10111,
         20.68,
         10.69,
         120.18,
         "0.24"
        ],
        [
         7737,
         23.0,
         15.5,
         122.09,
         "1.00"
        ],
        [
         10003,
         11.93,
         10.98,
         64.25,
         "0.31"
        ],
        [
         7030,
         0.0,
         40.0,
         0.0,
         "1.00"
        ],
        [
         10029,
         11.15,
         10.79,
         56.04,
         "0.27"
        ],
        [
         10280,
         15.33,
         16.33,
         63.57,
         "0.62"
        ],
        [
         10005,
         16.08,
         15.87,
         67.39,
         "0.63"
        ],
        [
         10110,
         11.73,
         10.9,
         67.22,
         "0.25"
        ],
        [
         11205,
         14.95,
         13.95,
         65.1,
         "0.36"
        ],
        [
         10026,
         10.94,
         10.4,
         54.35,
         "0.30"
        ],
        [
         11103,
         10.19,
         11.03,
         47.69,
         "0.25"
        ],
        [
         11238,
         11.94,
         11.44,
         55.18,
         "0.25"
        ],
        [
         10278,
         14.23,
         12.99,
         71.57,
         "0.44"
        ],
        [
         10025,
         16.88,
         11.68,
         72.83,
         "0.33"
        ],
        [
         10454,
         3.0,
         5.0,
         17.65,
         "0.00"
        ],
        [
         10153,
         10.81,
         9.77,
         60.49,
         "0.18"
        ],
        [
         11375,
         30.33,
         33.0,
         95.49,
         "1.00"
        ],
        [
         11369,
         7.8,
         24.2,
         60.2,
         "0.20"
        ],
        [
         10171,
         13.42,
         12.04,
         78.43,
         "0.34"
        ],
        [
         11377,
         15.29,
         13.25,
         71.6,
         "0.38"
        ],
        [
         10009,
         13.38,
         11.16,
         71.22,
         "0.29"
        ],
        [
         10035,
         9.95,
         13.27,
         45.02,
         "0.38"
        ],
        [
         10154,
         18.12,
         11.9,
         98.97,
         "0.30"
        ],
        [
         10030,
         10.28,
         10.75,
         54.95,
         "0.28"
        ],
        [
         10468,
         1.5,
         4.0,
         11.22,
         "0.00"
        ],
        [
         11104,
         13.07,
         12.24,
         59.0,
         "0.52"
        ],
        [
         11221,
         26.5,
         21.75,
         108.69,
         "1.00"
        ],
        [
         11422,
         41.47,
         44.78,
         121.99,
         "0.97"
        ],
        [
         11424,
         23.5,
         34.25,
         177.03,
         "1.00"
        ],
        [
         7311,
         0.0,
         60.0,
         0.0,
         "1.00"
        ],
        [
         11210,
         12.0,
         13.75,
         43.37,
         "0.50"
        ],
        [
         11372,
         10.53,
         12.37,
         48.26,
         "0.33"
        ],
        [
         11102,
         12.06,
         11.88,
         51.91,
         "0.47"
        ],
        [
         10039,
         7.6,
         7.7,
         50.09,
         "0.20"
        ],
        [
         11230,
         16.33,
         20.83,
         55.17,
         "0.33"
        ],
        [
         7087,
         38.0,
         31.0,
         135.87,
         "1.00"
        ],
        [
         10018,
         15.13,
         11.4,
         79.15,
         "0.29"
        ],
        [
         11217,
         12.3,
         12.25,
         57.2,
         "0.35"
        ]
       ],
       "datasetInfos": [
        {
         "name": "_sqldf",
         "schema": {
          "fields": [
           {
            "metadata": {},
            "name": "pickup_zip",
            "nullable": true,
            "type": "integer"
           },
           {
            "metadata": {},
            "name": "tempo_medio",
            "nullable": true,
            "type": "double"
           },
           {
            "metadata": {},
            "name": "tarifa_media",
            "nullable": true,
            "type": "double"
           },
           {
            "metadata": {},
            "name": "frustracao_media",
            "nullable": true,
            "type": "double"
           },
           {
            "metadata": {},
            "name": "proporcao_tarifa_alta",
            "nullable": true,
            "type": "decimal(25,2)"
           }
          ],
          "type": "struct"
         },
         "tableIdentifier": null,
         "typeStr": "pyspark.sql.connect.dataframe.DataFrame"
        }
       ],
       "dbfsResultPath": null,
       "isJsonSchema": true,
       "metadata": {
        "createTempViewForImplicitDf": true,
        "dataframeName": "_sqldf",
        "executionCount": 8
       },
       "overflow": false,
       "plotOptions": {
        "customPlotOptions": {},
        "displayType": "table",
        "pivotAggregation": null,
        "pivotColumns": null,
        "xColumns": null,
        "yColumns": null
       },
       "removedWidgets": [],
       "schema": [
        {
         "metadata": "{}",
         "name": "pickup_zip",
         "type": "\"integer\""
        },
        {
         "metadata": "{}",
         "name": "tempo_medio",
         "type": "\"double\""
        },
        {
         "metadata": "{}",
         "name": "tarifa_media",
         "type": "\"double\""
        },
        {
         "metadata": "{}",
         "name": "frustracao_media",
         "type": "\"double\""
        },
        {
         "metadata": "{}",
         "name": "proporcao_tarifa_alta",
         "type": "\"decimal(25,2)\""
        }
       ],
       "type": "table"
      }
     },
     "output_type": "display_data"
    }
   ],
   "source": [
    "-- Etapas para calcular a nota final\n",
    "-- 1. Unir os quatro indicadores\n",
    "\n",
    "WITH tempo AS (\n",
    "  SELECT pickup_zip, \n",
    "         ROUND(AVG(DATEDIFF(MINUTE, tpep_pickup_datetime, tpep_dropoff_datetime)), 2) AS tempo_medio\n",
    "  FROM samples.nyctaxi.trips\n",
    "  WHERE pickup_zip IS NOT NULL\n",
    "  GROUP BY pickup_zip\n",
    "),\n",
    "tarifa AS (\n",
    "  SELECT pickup_zip, \n",
    "         ROUND(AVG(fare_amount), 2) AS tarifa_media\n",
    "  FROM samples.nyctaxi.trips\n",
    "  WHERE pickup_zip IS NOT NULL\n",
    "  GROUP BY pickup_zip\n",
    "),\n",
    "frustracao AS (\n",
    "  SELECT pickup_zip, \n",
    "         ROUND(AVG((DATEDIFF(MINUTE, tpep_pickup_datetime, tpep_dropoff_datetime) * fare_amount) / trip_distance), 2) AS frustracao_media\n",
    "  FROM samples.nyctaxi.trips\n",
    "  WHERE pickup_zip IS NOT NULL AND trip_distance > 0\n",
    "  GROUP BY pickup_zip\n",
    "),\n",
    "corridas_caras AS (\n",
    "  WITH media_global AS (\n",
    "    SELECT AVG(fare_amount) AS media_tarifa FROM samples.nyctaxi.trips\n",
    "  )\n",
    "  SELECT t.pickup_zip,\n",
    "         ROUND(COUNT(CASE WHEN t.fare_amount > m.media_tarifa THEN 1 END) * 1.0 / COUNT(*), 2) AS proporcao_tarifa_alta\n",
    "  FROM samples.nyctaxi.trips t\n",
    "  JOIN media_global m ON 1=1\n",
    "  WHERE t.pickup_zip IS NOT NULL\n",
    "  GROUP BY t.pickup_zip\n",
    ")\n",
    "\n",
    "SELECT \n",
    "  t.pickup_zip,\n",
    "  t.tempo_medio,\n",
    "  ta.tarifa_media,\n",
    "  f.frustracao_media,\n",
    "  c.proporcao_tarifa_alta\n",
    "FROM tempo t\n",
    "JOIN tarifa ta ON t.pickup_zip = ta.pickup_zip\n",
    "JOIN frustracao f ON t.pickup_zip = f.pickup_zip\n",
    "JOIN corridas_caras c ON t.pickup_zip = c.pickup_zip;\n"
   ]
  },
  {
   "cell_type": "markdown",
   "metadata": {
    "application/vnd.databricks.v1+cell": {
     "cellMetadata": {},
     "inputWidgets": {},
     "nuid": "2df4dd81-828e-44f0-bb02-f05291900331",
     "showTitle": false,
     "tableResultSettingsMap": {},
     "title": ""
    }
   },
   "source": [
    "### \uD83D\uDCCA Normalização do tempo médio por zona\n",
    "\n",
    "\uD83D\uDD0D Pergunta\n",
    "\n",
    "Como podemos transformar o tempo médio de viagem em uma escala comparável entre zonas, para facilitar a avaliação da experiência?\n",
    "\n",
    "\uD83E\uDDE0 Análise\n",
    "\n",
    "Nesta etapa, aplicamos uma técnica de normalização min-max ao tempo médio de viagem por zona (pickup_zip). A fórmula transforma os valores originais em uma escala de 0 a 10, onde 10 representa o melhor desempenho (menor tempo) e 0 o pior (maior tempo).\n",
    "\n",
    "Essa abordagem permite comparar zonas com diferentes magnitudes de tempo de forma justa e padronizada. A normalização é essencial para compor a nota final, pois garante que todos os indicadores tenham o mesmo peso na escala de avaliação.\n",
    "\n",
    "\uD83D\uDCCC Exemplo de achado:\n",
    " A zona 11220, com tempo médio de 4 minutos, recebeu nota 9.45 — indicando alta eficiência operacional."
   ]
  },
  {
   "cell_type": "code",
   "execution_count": 0,
   "metadata": {
    "application/vnd.databricks.v1+cell": {
     "cellMetadata": {
      "byteLimit": 2048000,
      "rowLimit": 10000
     },
     "inputWidgets": {},
     "nuid": "479fed4a-74e3-4177-b478-818540fa98a8",
     "showTitle": false,
     "tableResultSettingsMap": {},
     "title": ""
    }
   },
   "outputs": [
    {
     "output_type": "display_data",
     "data": {
      "text/html": [
       "<style scoped>\n",
       "  .table-result-container {\n",
       "    max-height: 300px;\n",
       "    overflow: auto;\n",
       "  }\n",
       "  table, th, td {\n",
       "    border: 1px solid black;\n",
       "    border-collapse: collapse;\n",
       "  }\n",
       "  th, td {\n",
       "    padding: 5px;\n",
       "  }\n",
       "  th {\n",
       "    text-align: left;\n",
       "  }\n",
       "</style><div class='table-result-container'><table class='table-result'><thead style='background-color: white'><tr><th>pickup_zip</th><th>tempo_medio</th><th>tempo_normalizado</th></tr></thead><tbody><tr><td>8876</td><td>0.0</td><td>10.0</td></tr><tr><td>11003</td><td>0.0</td><td>10.0</td></tr><tr><td>7114</td><td>0.0</td><td>10.0</td></tr><tr><td>7030</td><td>0.0</td><td>10.0</td></tr><tr><td>7086</td><td>0.0</td><td>10.0</td></tr><tr><td>10502</td><td>0.0</td><td>10.0</td></tr><tr><td>7311</td><td>0.0</td><td>10.0</td></tr><tr><td>7310</td><td>0.0</td><td>10.0</td></tr><tr><td>10463</td><td>0.0</td><td>10.0</td></tr><tr><td>7974</td><td>1.0</td><td>9.86</td></tr><tr><td>10468</td><td>1.5</td><td>9.8</td></tr><tr><td>11212</td><td>2.0</td><td>9.73</td></tr><tr><td>11418</td><td>3.0</td><td>9.59</td></tr><tr><td>10454</td><td>3.0</td><td>9.59</td></tr><tr><td>7718</td><td>4.0</td><td>9.45</td></tr><tr><td>11220</td><td>4.0</td><td>9.45</td></tr><tr><td>10024</td><td>5.0</td><td>9.32</td></tr><tr><td>11223</td><td>7.0</td><td>9.04</td></tr><tr><td>11378</td><td>7.0</td><td>9.04</td></tr><tr><td>10039</td><td>7.6</td><td>8.96</td></tr><tr><td>11369</td><td>7.8</td><td>8.94</td></tr><tr><td>10451</td><td>8.5</td><td>8.84</td></tr><tr><td>11106</td><td>8.9</td><td>8.78</td></tr><tr><td>10460</td><td>9.0</td><td>8.77</td></tr><tr><td>11355</td><td>9.0</td><td>8.77</td></tr><tr><td>10031</td><td>9.63</td><td>8.69</td></tr><tr><td>10035</td><td>9.95</td><td>8.64</td></tr><tr><td>11356</td><td>10.0</td><td>8.63</td></tr><tr><td>10474</td><td>10.0</td><td>8.63</td></tr><tr><td>10162</td><td>10.01</td><td>8.63</td></tr><tr><td>11103</td><td>10.19</td><td>8.61</td></tr><tr><td>10030</td><td>10.28</td><td>8.6</td></tr><tr><td>10027</td><td>10.43</td><td>8.58</td></tr><tr><td>10069</td><td>10.4</td><td>8.58</td></tr><tr><td>11105</td><td>10.46</td><td>8.57</td></tr><tr><td>11372</td><td>10.53</td><td>8.56</td></tr><tr><td>11206</td><td>10.52</td><td>8.56</td></tr><tr><td>10153</td><td>10.81</td><td>8.52</td></tr><tr><td>10026</td><td>10.94</td><td>8.51</td></tr><tr><td>10115</td><td>10.93</td><td>8.51</td></tr><tr><td>11233</td><td>11.0</td><td>8.5</td></tr><tr><td>10021</td><td>11.02</td><td>8.5</td></tr><tr><td>10029</td><td>11.15</td><td>8.48</td></tr><tr><td>11231</td><td>11.2</td><td>8.47</td></tr><tr><td>10152</td><td>11.28</td><td>8.46</td></tr><tr><td>10044</td><td>11.44</td><td>8.44</td></tr><tr><td>10019</td><td>11.57</td><td>8.42</td></tr><tr><td>10110</td><td>11.73</td><td>8.4</td></tr><tr><td>10034</td><td>11.78</td><td>8.39</td></tr><tr><td>10028</td><td>11.8</td><td>8.39</td></tr><tr><td>10023</td><td>11.88</td><td>8.38</td></tr><tr><td>10016</td><td>11.83</td><td>8.38</td></tr><tr><td>11101</td><td>11.95</td><td>8.37</td></tr><tr><td>11238</td><td>11.94</td><td>8.37</td></tr><tr><td>10003</td><td>11.93</td><td>8.37</td></tr><tr><td>11210</td><td>12.0</td><td>8.36</td></tr><tr><td>11237</td><td>12.0</td><td>8.36</td></tr><tr><td>11208</td><td>12.0</td><td>8.36</td></tr><tr><td>10452</td><td>12.0</td><td>8.36</td></tr><tr><td>11368</td><td>12.0</td><td>8.36</td></tr><tr><td>11102</td><td>12.06</td><td>8.35</td></tr><tr><td>10167</td><td>12.26</td><td>8.33</td></tr><tr><td>11109</td><td>12.3</td><td>8.32</td></tr><tr><td>11217</td><td>12.3</td><td>8.32</td></tr><tr><td>11201</td><td>12.56</td><td>8.29</td></tr><tr><td>11211</td><td>12.65</td><td>8.27</td></tr><tr><td>10012</td><td>12.72</td><td>8.26</td></tr><tr><td>10112</td><td>12.74</td><td>8.26</td></tr><tr><td>7002</td><td>13.0</td><td>8.23</td></tr><tr><td>10037</td><td>12.96</td><td>8.23</td></tr><tr><td>11104</td><td>13.07</td><td>8.22</td></tr><tr><td>10009</td><td>13.38</td><td>8.17</td></tr><tr><td>10171</td><td>13.42</td><td>8.17</td></tr><tr><td>10022</td><td>13.42</td><td>8.17</td></tr><tr><td>10017</td><td>13.53</td><td>8.15</td></tr><tr><td>10013</td><td>13.95</td><td>8.1</td></tr><tr><td>10001</td><td>14.01</td><td>8.09</td></tr><tr><td>10278</td><td>14.23</td><td>8.06</td></tr><tr><td>10002</td><td>14.36</td><td>8.04</td></tr><tr><td>11224</td><td>14.33</td><td>8.04</td></tr><tr><td>10011</td><td>14.49</td><td>8.02</td></tr><tr><td>10282</td><td>14.66</td><td>8.0</td></tr><tr><td>10199</td><td>14.75</td><td>7.99</td></tr><tr><td>11216</td><td>14.88</td><td>7.97</td></tr><tr><td>11205</td><td>14.95</td><td>7.96</td></tr><tr><td>10018</td><td>15.13</td><td>7.93</td></tr><tr><td>10038</td><td>15.15</td><td>7.93</td></tr><tr><td>11222</td><td>15.19</td><td>7.93</td></tr><tr><td>11377</td><td>15.29</td><td>7.91</td></tr><tr><td>10280</td><td>15.33</td><td>7.91</td></tr><tr><td>10020</td><td>15.47</td><td>7.89</td></tr><tr><td>10006</td><td>15.45</td><td>7.89</td></tr><tr><td>11209</td><td>15.5</td><td>7.88</td></tr><tr><td>11373</td><td>15.5</td><td>7.88</td></tr><tr><td>11225</td><td>15.6</td><td>7.87</td></tr><tr><td>10065</td><td>15.69</td><td>7.86</td></tr><tr><td>10271</td><td>15.94</td><td>7.82</td></tr><tr><td>11215</td><td>16.0</td><td>7.82</td></tr><tr><td>11423</td><td>16.0</td><td>7.82</td></tr><tr><td>10005</td><td>16.08</td><td>7.8</td></tr><tr><td>10032</td><td>16.27</td><td>7.78</td></tr><tr><td>11230</td><td>16.33</td><td>7.77</td></tr><tr><td>10025</td><td>16.88</td><td>7.7</td></tr><tr><td>10014</td><td>17.74</td><td>7.58</td></tr><tr><td>10154</td><td>18.12</td><td>7.53</td></tr><tr><td>10119</td><td>18.43</td><td>7.48</td></tr><tr><td>10103</td><td>18.5</td><td>7.47</td></tr><tr><td>11207</td><td>19.5</td><td>7.34</td></tr><tr><td>10470</td><td>20.0</td><td>7.27</td></tr><tr><td>10305</td><td>20.0</td><td>7.27</td></tr><tr><td>11226</td><td>20.25</td><td>7.24</td></tr><tr><td>10111</td><td>20.68</td><td>7.18</td></tr><tr><td>10007</td><td>22.72</td><td>6.9</td></tr><tr><td>7737</td><td>23.0</td><td>6.86</td></tr><tr><td>11424</td><td>23.5</td><td>6.79</td></tr><tr><td>11417</td><td>23.5</td><td>6.79</td></tr><tr><td>11435</td><td>24.0</td><td>6.72</td></tr><tr><td>11221</td><td>26.5</td><td>6.38</td></tr><tr><td>11370</td><td>28.12</td><td>6.16</td></tr><tr><td>11436</td><td>28.91</td><td>6.05</td></tr><tr><td>11235</td><td>29.5</td><td>5.97</td></tr><tr><td>11218</td><td>30.0</td><td>5.9</td></tr><tr><td>11371</td><td>30.05</td><td>5.9</td></tr><tr><td>11375</td><td>30.33</td><td>5.86</td></tr><tr><td>7087</td><td>38.0</td><td>4.81</td></tr><tr><td>11422</td><td>41.47</td><td>4.34</td></tr><tr><td>11420</td><td>48.0</td><td>3.45</td></tr><tr><td>11430</td><td>73.25</td><td>0.0</td></tr></tbody></table></div>"
      ]
     },
     "metadata": {
      "application/vnd.databricks.v1+output": {
       "addedWidgets": {},
       "aggData": [],
       "aggError": "",
       "aggOverflow": false,
       "aggSchema": [],
       "aggSeriesLimitReached": false,
       "aggType": "",
       "arguments": {},
       "columnCustomDisplayInfos": {},
       "data": [
        [
         8876,
         0.0,
         10.0
        ],
        [
         11003,
         0.0,
         10.0
        ],
        [
         7114,
         0.0,
         10.0
        ],
        [
         7030,
         0.0,
         10.0
        ],
        [
         7086,
         0.0,
         10.0
        ],
        [
         10502,
         0.0,
         10.0
        ],
        [
         7311,
         0.0,
         10.0
        ],
        [
         7310,
         0.0,
         10.0
        ],
        [
         10463,
         0.0,
         10.0
        ],
        [
         7974,
         1.0,
         9.86
        ],
        [
         10468,
         1.5,
         9.8
        ],
        [
         11212,
         2.0,
         9.73
        ],
        [
         11418,
         3.0,
         9.59
        ],
        [
         10454,
         3.0,
         9.59
        ],
        [
         7718,
         4.0,
         9.45
        ],
        [
         11220,
         4.0,
         9.45
        ],
        [
         10024,
         5.0,
         9.32
        ],
        [
         11223,
         7.0,
         9.04
        ],
        [
         11378,
         7.0,
         9.04
        ],
        [
         10039,
         7.6,
         8.96
        ],
        [
         11369,
         7.8,
         8.94
        ],
        [
         10451,
         8.5,
         8.84
        ],
        [
         11106,
         8.9,
         8.78
        ],
        [
         10460,
         9.0,
         8.77
        ],
        [
         11355,
         9.0,
         8.77
        ],
        [
         10031,
         9.63,
         8.69
        ],
        [
         10035,
         9.95,
         8.64
        ],
        [
         11356,
         10.0,
         8.63
        ],
        [
         10474,
         10.0,
         8.63
        ],
        [
         10162,
         10.01,
         8.63
        ],
        [
         11103,
         10.19,
         8.61
        ],
        [
         10030,
         10.28,
         8.6
        ],
        [
         10027,
         10.43,
         8.58
        ],
        [
         10069,
         10.4,
         8.58
        ],
        [
         11105,
         10.46,
         8.57
        ],
        [
         11372,
         10.53,
         8.56
        ],
        [
         11206,
         10.52,
         8.56
        ],
        [
         10153,
         10.81,
         8.52
        ],
        [
         10026,
         10.94,
         8.51
        ],
        [
         10115,
         10.93,
         8.51
        ],
        [
         11233,
         11.0,
         8.5
        ],
        [
         10021,
         11.02,
         8.5
        ],
        [
         10029,
         11.15,
         8.48
        ],
        [
         11231,
         11.2,
         8.47
        ],
        [
         10152,
         11.28,
         8.46
        ],
        [
         10044,
         11.44,
         8.44
        ],
        [
         10019,
         11.57,
         8.42
        ],
        [
         10110,
         11.73,
         8.4
        ],
        [
         10034,
         11.78,
         8.39
        ],
        [
         10028,
         11.8,
         8.39
        ],
        [
         10023,
         11.88,
         8.38
        ],
        [
         10016,
         11.83,
         8.38
        ],
        [
         11101,
         11.95,
         8.37
        ],
        [
         11238,
         11.94,
         8.37
        ],
        [
         10003,
         11.93,
         8.37
        ],
        [
         11210,
         12.0,
         8.36
        ],
        [
         11237,
         12.0,
         8.36
        ],
        [
         11208,
         12.0,
         8.36
        ],
        [
         10452,
         12.0,
         8.36
        ],
        [
         11368,
         12.0,
         8.36
        ],
        [
         11102,
         12.06,
         8.35
        ],
        [
         10167,
         12.26,
         8.33
        ],
        [
         11109,
         12.3,
         8.32
        ],
        [
         11217,
         12.3,
         8.32
        ],
        [
         11201,
         12.56,
         8.29
        ],
        [
         11211,
         12.65,
         8.27
        ],
        [
         10012,
         12.72,
         8.26
        ],
        [
         10112,
         12.74,
         8.26
        ],
        [
         7002,
         13.0,
         8.23
        ],
        [
         10037,
         12.96,
         8.23
        ],
        [
         11104,
         13.07,
         8.22
        ],
        [
         10009,
         13.38,
         8.17
        ],
        [
         10171,
         13.42,
         8.17
        ],
        [
         10022,
         13.42,
         8.17
        ],
        [
         10017,
         13.53,
         8.15
        ],
        [
         10013,
         13.95,
         8.1
        ],
        [
         10001,
         14.01,
         8.09
        ],
        [
         10278,
         14.23,
         8.06
        ],
        [
         10002,
         14.36,
         8.04
        ],
        [
         11224,
         14.33,
         8.04
        ],
        [
         10011,
         14.49,
         8.02
        ],
        [
         10282,
         14.66,
         8.0
        ],
        [
         10199,
         14.75,
         7.99
        ],
        [
         11216,
         14.88,
         7.97
        ],
        [
         11205,
         14.95,
         7.96
        ],
        [
         10018,
         15.13,
         7.93
        ],
        [
         10038,
         15.15,
         7.93
        ],
        [
         11222,
         15.19,
         7.93
        ],
        [
         11377,
         15.29,
         7.91
        ],
        [
         10280,
         15.33,
         7.91
        ],
        [
         10020,
         15.47,
         7.89
        ],
        [
         10006,
         15.45,
         7.89
        ],
        [
         11209,
         15.5,
         7.88
        ],
        [
         11373,
         15.5,
         7.88
        ],
        [
         11225,
         15.6,
         7.87
        ],
        [
         10065,
         15.69,
         7.86
        ],
        [
         10271,
         15.94,
         7.82
        ],
        [
         11215,
         16.0,
         7.82
        ],
        [
         11423,
         16.0,
         7.82
        ],
        [
         10005,
         16.08,
         7.8
        ],
        [
         10032,
         16.27,
         7.78
        ],
        [
         11230,
         16.33,
         7.77
        ],
        [
         10025,
         16.88,
         7.7
        ],
        [
         10014,
         17.74,
         7.58
        ],
        [
         10154,
         18.12,
         7.53
        ],
        [
         10119,
         18.43,
         7.48
        ],
        [
         10103,
         18.5,
         7.47
        ],
        [
         11207,
         19.5,
         7.34
        ],
        [
         10470,
         20.0,
         7.27
        ],
        [
         10305,
         20.0,
         7.27
        ],
        [
         11226,
         20.25,
         7.24
        ],
        [
         10111,
         20.68,
         7.18
        ],
        [
         10007,
         22.72,
         6.9
        ],
        [
         7737,
         23.0,
         6.86
        ],
        [
         11424,
         23.5,
         6.79
        ],
        [
         11417,
         23.5,
         6.79
        ],
        [
         11435,
         24.0,
         6.72
        ],
        [
         11221,
         26.5,
         6.38
        ],
        [
         11370,
         28.12,
         6.16
        ],
        [
         11436,
         28.91,
         6.05
        ],
        [
         11235,
         29.5,
         5.97
        ],
        [
         11218,
         30.0,
         5.9
        ],
        [
         11371,
         30.05,
         5.9
        ],
        [
         11375,
         30.33,
         5.86
        ],
        [
         7087,
         38.0,
         4.81
        ],
        [
         11422,
         41.47,
         4.34
        ],
        [
         11420,
         48.0,
         3.45
        ],
        [
         11430,
         73.25,
         0.0
        ]
       ],
       "datasetInfos": [
        {
         "name": "_sqldf",
         "schema": {
          "fields": [
           {
            "metadata": {},
            "name": "pickup_zip",
            "nullable": true,
            "type": "integer"
           },
           {
            "metadata": {},
            "name": "tempo_medio",
            "nullable": true,
            "type": "double"
           },
           {
            "metadata": {},
            "name": "tempo_normalizado",
            "nullable": true,
            "type": "double"
           }
          ],
          "type": "struct"
         },
         "tableIdentifier": null,
         "typeStr": "pyspark.sql.connect.dataframe.DataFrame"
        }
       ],
       "dbfsResultPath": null,
       "isJsonSchema": true,
       "metadata": {
        "createTempViewForImplicitDf": true,
        "dataframeName": "_sqldf",
        "executionCount": 12
       },
       "overflow": false,
       "plotOptions": {
        "customPlotOptions": {},
        "displayType": "table",
        "pivotAggregation": null,
        "pivotColumns": null,
        "xColumns": null,
        "yColumns": null
       },
       "removedWidgets": [],
       "schema": [
        {
         "metadata": "{}",
         "name": "pickup_zip",
         "type": "\"integer\""
        },
        {
         "metadata": "{}",
         "name": "tempo_medio",
         "type": "\"double\""
        },
        {
         "metadata": "{}",
         "name": "tempo_normalizado",
         "type": "\"double\""
        }
       ],
       "type": "table"
      }
     },
     "output_type": "display_data"
    }
   ],
   "source": [
    "\n",
    "-- 2. Normalizar os valores\n",
    "\n",
    "WITH indicadores AS (\n",
    "  SELECT \n",
    "    pickup_zip,\n",
    "    ROUND(AVG(DATEDIFF(MINUTE, tpep_pickup_datetime, tpep_dropoff_datetime)), 2) AS tempo_medio\n",
    "  FROM samples.nyctaxi.trips\n",
    "  WHERE pickup_zip IS NOT NULL\n",
    "  GROUP BY pickup_zip\n",
    "),\n",
    "limites AS (\n",
    "  SELECT \n",
    "    MAX(tempo_medio) AS max_tempo,\n",
    "    MIN(tempo_medio) AS min_tempo\n",
    "  FROM indicadores\n",
    ")\n",
    "SELECT \n",
    "  i.pickup_zip,\n",
    "  i.tempo_medio,\n",
    "  ROUND(10 * (l.max_tempo - i.tempo_medio) / NULLIF((l.max_tempo - l.min_tempo), 0), 2) AS tempo_normalizado\n",
    "FROM indicadores i\n",
    "CROSS JOIN limites l\n",
    "ORDER BY tempo_normalizado DESC;\n",
    "\n"
   ]
  },
  {
   "cell_type": "markdown",
   "metadata": {
    "application/vnd.databricks.v1+cell": {
     "cellMetadata": {},
     "inputWidgets": {},
     "nuid": "a3c1fa30-1e90-40b7-87a2-473547f26fe2",
     "showTitle": false,
     "tableResultSettingsMap": {},
     "title": ""
    }
   },
   "source": [
    "### \uD83E\uDDEE Cálculo da nota final por zona\n",
    "\n",
    "\uD83D\uDD0D Pergunta\n",
    "\n",
    "Como podemos consolidar os indicadores operacionais em uma nota única que represente a experiência do cliente por zona?\n",
    "\n",
    "\uD83E\uDDE0 Análise\n",
    "\n",
    "Nesta etapa, criamos a nota final simulada para cada zona de embarque (pickup_zip), combinando quatro indicadores previamente calculados: tempo médio, tarifa média, índice de frustração e proporção de corridas caras. Cada indicador foi normalizado em uma escala de 0 a 10 e ponderado conforme seu impacto na experiência:\n",
    "\n",
    "30% tempo médio\n",
    "\n",
    "30% tarifa média\n",
    "\n",
    "30% frustração média\n",
    "\n",
    "10% proporção de tarifas altas\n",
    "\n",
    "A fórmula utiliza a técnica de normalização min-max e aplica os pesos para gerar uma nota final entre 0 e 10, onde valores mais altos indicam melhor desempenho. Essa nota permite comparar zonas de forma justa e identificar áreas críticas com base em múltiplos fatores.\n",
    "\n",
    "\uD83D\uDCCC Exemplo de achado: A zona 11106 recebeu nota 8.11, com frustração média de 47.45 e tarifa média de $11.07 — sugerindo um ponto de atenção na eficiência operacional."
   ]
  },
  {
   "cell_type": "code",
   "execution_count": 0,
   "metadata": {
    "application/vnd.databricks.v1+cell": {
     "cellMetadata": {
      "byteLimit": 2048000,
      "rowLimit": 10000
     },
     "inputWidgets": {},
     "nuid": "fca835e0-975c-48a7-8c49-af4428a9a603",
     "showTitle": false,
     "tableResultSettingsMap": {},
     "title": ""
    }
   },
   "outputs": [
    {
     "output_type": "display_data",
     "data": {
      "text/html": [
       "<style scoped>\n",
       "  .table-result-container {\n",
       "    max-height: 300px;\n",
       "    overflow: auto;\n",
       "  }\n",
       "  table, th, td {\n",
       "    border: 1px solid black;\n",
       "    border-collapse: collapse;\n",
       "  }\n",
       "  th, td {\n",
       "    padding: 5px;\n",
       "  }\n",
       "  th {\n",
       "    text-align: left;\n",
       "  }\n",
       "</style><div class='table-result-container'><table class='table-result'><thead style='background-color: white'><tr><th>pickup_zip</th><th>tempo_medio</th><th>tarifa_media</th><th>frustracao_media</th><th>proporcao_tarifa_alta</th><th>nota_final</th></tr></thead><tbody><tr><td>11003</td><td>0.0</td><td>0.0</td><td>0.0</td><td>0.00</td><td>10.0</td></tr><tr><td>10502</td><td>0.0</td><td>0.0</td><td>0.0</td><td>0.00</td><td>10.0</td></tr><tr><td>10468</td><td>1.5</td><td>4.0</td><td>11.22</td><td>0.00</td><td>9.59</td></tr><tr><td>11212</td><td>2.0</td><td>4.0</td><td>12.5</td><td>0.00</td><td>9.55</td></tr><tr><td>10454</td><td>3.0</td><td>5.0</td><td>17.65</td><td>0.00</td><td>9.39</td></tr><tr><td>11418</td><td>3.0</td><td>5.0</td><td>19.48</td><td>0.00</td><td>9.36</td></tr><tr><td>11220</td><td>4.0</td><td>6.0</td><td>19.05</td><td>0.00</td><td>9.28</td></tr><tr><td>7718</td><td>4.0</td><td>5.0</td><td>25.0</td><td>0.00</td><td>9.24</td></tr><tr><td>10024</td><td>5.0</td><td>6.5</td><td>25.0</td><td>0.00</td><td>9.13</td></tr><tr><td>11223</td><td>7.0</td><td>7.5</td><td>32.01</td><td>0.00</td><td>8.9</td></tr><tr><td>10451</td><td>8.5</td><td>8.63</td><td>40.78</td><td>0.00</td><td>8.66</td></tr><tr><td>10460</td><td>9.0</td><td>9.33</td><td>39.95</td><td>0.00</td><td>8.62</td></tr><tr><td>11355</td><td>9.0</td><td>11.0</td><td>38.37</td><td>0.00</td><td>8.56</td></tr><tr><td>10474</td><td>10.0</td><td>8.5</td><td>47.22</td><td>0.00</td><td>8.52</td></tr><tr><td>10039</td><td>7.6</td><td>7.7</td><td>50.09</td><td>0.20</td><td>8.42</td></tr><tr><td>10031</td><td>9.63</td><td>10.29</td><td>44.8</td><td>0.26</td><td>8.22</td></tr><tr><td>10162</td><td>10.1</td><td>9.99</td><td>49.33</td><td>0.23</td><td>8.18</td></tr><tr><td>10069</td><td>10.4</td><td>9.78</td><td>53.83</td><td>0.19</td><td>8.16</td></tr><tr><td>11206</td><td>10.52</td><td>11.02</td><td>46.39</td><td>0.24</td><td>8.14</td></tr><tr><td>11103</td><td>10.19</td><td>11.03</td><td>47.69</td><td>0.25</td><td>8.13</td></tr><tr><td>11106</td><td>9.8</td><td>11.07</td><td>47.45</td><td>0.29</td><td>8.11</td></tr><tr><td>10027</td><td>10.54</td><td>11.03</td><td>48.77</td><td>0.29</td><td>8.06</td></tr><tr><td>10153</td><td>10.83</td><td>9.78</td><td>60.49</td><td>0.18</td><td>8.06</td></tr><tr><td>10030</td><td>10.28</td><td>10.75</td><td>54.95</td><td>0.28</td><td>8.01</td></tr><tr><td>10152</td><td>11.28</td><td>10.13</td><td>64.09</td><td>0.16</td><td>8.0</td></tr><tr><td>11105</td><td>10.46</td><td>12.31</td><td>46.94</td><td>0.31</td><td>8.0</td></tr><tr><td>10026</td><td>10.94</td><td>10.4</td><td>54.35</td><td>0.30</td><td>7.99</td></tr><tr><td>10035</td><td>10.21</td><td>12.25</td><td>45.02</td><td>0.37</td><td>7.98</td></tr><tr><td>10029</td><td>11.15</td><td>10.79</td><td>56.04</td><td>0.27</td><td>7.97</td></tr><tr><td>11372</td><td>10.53</td><td>12.37</td><td>48.26</td><td>0.33</td><td>7.96</td></tr><tr><td>11238</td><td>11.94</td><td>11.44</td><td>55.18</td><td>0.25</td><td>7.94</td></tr><tr><td>10028</td><td>11.81</td><td>10.16</td><td>59.96</td><td>0.26</td><td>7.93</td></tr><tr><td>10021</td><td>11.05</td><td>10.14</td><td>63.39</td><td>0.25</td><td>7.92</td></tr><tr><td>11237</td><td>12.0</td><td>12.4</td><td>47.32</td><td>0.33</td><td>7.91</td></tr><tr><td>10044</td><td>11.51</td><td>10.95</td><td>58.42</td><td>0.29</td><td>7.89</td></tr><tr><td>10023</td><td>11.9</td><td>10.05</td><td>67.86</td><td>0.21</td><td>7.87</td></tr><tr><td>10037</td><td>11.96</td><td>12.79</td><td>55.05</td><td>0.25</td><td>7.87</td></tr><tr><td>10016</td><td>11.83</td><td>10.96</td><td>62.34</td><td>0.26</td><td>7.86</td></tr><tr><td>10019</td><td>11.6</td><td>10.96</td><td>63.08</td><td>0.27</td><td>7.85</td></tr><tr><td>10115</td><td>10.93</td><td>11.89</td><td>57.65</td><td>0.35</td><td>7.82</td></tr><tr><td>10110</td><td>11.76</td><td>10.86</td><td>67.22</td><td>0.25</td><td>7.81</td></tr><tr><td>10022</td><td>13.43</td><td>9.85</td><td>70.85</td><td>0.22</td><td>7.77</td></tr><tr><td>10003</td><td>11.94</td><td>10.99</td><td>64.25</td><td>0.31</td><td>7.77</td></tr><tr><td>11231</td><td>11.43</td><td>11.87</td><td>58.2</td><td>0.39</td><td>7.75</td></tr><tr><td>11233</td><td>11.0</td><td>9.5</td><td>73.09</td><td>0.33</td><td>7.75</td></tr><tr><td>11217</td><td>12.5</td><td>12.4</td><td>57.2</td><td>0.35</td><td>7.74</td></tr><tr><td>11102</td><td>12.06</td><td>11.88</td><td>51.91</td><td>0.47</td><td>7.73</td></tr><tr><td>11210</td><td>12.0</td><td>13.75</td><td>43.37</td><td>0.50</td><td>7.73</td></tr><tr><td>11211</td><td>12.65</td><td>12.3</td><td>55.38</td><td>0.39</td><td>7.72</td></tr><tr><td>10167</td><td>12.3</td><td>11.61</td><td>69.92</td><td>0.26</td><td>7.7</td></tr><tr><td>10112</td><td>13.02</td><td>11.71</td><td>70.56</td><td>0.22</td><td>7.7</td></tr><tr><td>10452</td><td>12.0</td><td>13.88</td><td>47.03</td><td>0.50</td><td>7.67</td></tr><tr><td>10012</td><td>12.76</td><td>11.38</td><td>67.37</td><td>0.33</td><td>7.66</td></tr><tr><td>10009</td><td>13.44</td><td>11.13</td><td>71.22</td><td>0.29</td><td>7.63</td></tr><tr><td>11201</td><td>12.72</td><td>13.63</td><td>54.74</td><td>0.43</td><td>7.62</td></tr><tr><td>10034</td><td>11.78</td><td>16.67</td><td>48.64</td><td>0.44</td><td>7.58</td></tr><tr><td>10011</td><td>14.5</td><td>10.92</td><td>74.44</td><td>0.26</td><td>7.58</td></tr><tr><td>10001</td><td>14.01</td><td>10.62</td><td>79.89</td><td>0.26</td><td>7.54</td></tr><tr><td>10002</td><td>14.4</td><td>12.18</td><td>66.38</td><td>0.36</td><td>7.53</td></tr><tr><td>11104</td><td>13.07</td><td>12.24</td><td>59.0</td><td>0.52</td><td>7.53</td></tr><tr><td>10018</td><td>15.14</td><td>11.41</td><td>79.15</td><td>0.29</td><td>7.44</td></tr><tr><td>10171</td><td>13.42</td><td>12.04</td><td>78.43</td><td>0.34</td><td>7.44</td></tr><tr><td>11205</td><td>14.95</td><td>13.95</td><td>65.1</td><td>0.36</td><td>7.44</td></tr><tr><td>10017</td><td>13.57</td><td>11.33</td><td>86.73</td><td>0.25</td><td>7.44</td></tr><tr><td>10020</td><td>15.47</td><td>11.7</td><td>80.21</td><td>0.27</td><td>7.42</td></tr><tr><td>10025</td><td>16.88</td><td>11.68</td><td>72.83</td><td>0.33</td><td>7.4</td></tr><tr><td>11216</td><td>14.88</td><td>15.63</td><td>61.01</td><td>0.38</td><td>7.4</td></tr><tr><td>11356</td><td>10.0</td><td>15.0</td><td>33.33</td><td>1.00</td><td>7.39</td></tr><tr><td>11225</td><td>15.6</td><td>14.6</td><td>62.59</td><td>0.40</td><td>7.38</td></tr><tr><td>10013</td><td>13.95</td><td>13.84</td><td>71.1</td><td>0.40</td><td>7.37</td></tr><tr><td>11377</td><td>15.29</td><td>13.25</td><td>71.6</td><td>0.38</td><td>7.35</td></tr><tr><td>10278</td><td>14.23</td><td>12.99</td><td>71.57</td><td>0.44</td><td>7.35</td></tr><tr><td>10199</td><td>14.75</td><td>10.74</td><td>97.65</td><td>0.24</td><td>7.29</td></tr><tr><td>10038</td><td>15.41</td><td>16.18</td><td>63.88</td><td>0.44</td><td>7.25</td></tr><tr><td>11101</td><td>13.28</td><td>16.06</td><td>67.7</td><td>0.50</td><td>7.23</td></tr><tr><td>10065</td><td>15.71</td><td>9.75</td><td>104.32</td><td>0.22</td><td>7.22</td></tr><tr><td>11423</td><td>16.0</td><td>11.5</td><td>114.29</td><td>0.00</td><td>7.21</td></tr><tr><td>11230</td><td>16.33</td><td>20.83</td><td>55.17</td><td>0.33</td><td>7.21</td></tr><tr><td>10282</td><td>14.66</td><td>14.46</td><td>64.84</td><td>0.58</td><td>7.21</td></tr><tr><td>10014</td><td>17.74</td><td>10.92</td><td>92.23</td><td>0.29</td><td>7.18</td></tr><tr><td>11222</td><td>15.19</td><td>14.24</td><td>66.74</td><td>0.57</td><td>7.18</td></tr><tr><td>7002</td><td>13.0</td><td>10.5</td><td>93.29</td><td>0.50</td><td>7.17</td></tr><tr><td>11209</td><td>15.5</td><td>19.25</td><td>57.99</td><td>0.50</td><td>7.11</td></tr><tr><td>10006</td><td>15.57</td><td>15.32</td><td>65.42</td><td>0.61</td><td>7.09</td></tr><tr><td>10280</td><td>15.33</td><td>16.33</td><td>63.57</td><td>0.62</td><td>7.07</td></tr><tr><td>11208</td><td>12.0</td><td>19.0</td><td>36.08</td><td>1.00</td><td>7.07</td></tr><tr><td>11369</td><td>9.5</td><td>29.63</td><td>60.2</td><td>0.25</td><td>7.06</td></tr><tr><td>11378</td><td>7.0</td><td>27.25</td><td>59.67</td><td>0.50</td><td>7.04</td></tr><tr><td>10154</td><td>18.19</td><td>11.73</td><td>98.97</td><td>0.30</td><td>7.02</td></tr><tr><td>11373</td><td>15.5</td><td>16.63</td><td>56.56</td><td>0.75</td><td>7.01</td></tr><tr><td>11215</td><td>16.0</td><td>13.73</td><td>72.58</td><td>0.67</td><td>7.0</td></tr><tr><td>10271</td><td>16.06</td><td>15.52</td><td>68.24</td><td>0.63</td><td>7.0</td></tr><tr><td>10005</td><td>16.08</td><td>15.87</td><td>67.39</td><td>0.63</td><td>7.0</td></tr><tr><td>7030</td><td>0.0</td><td>40.0</td><td>0.0</td><td>1.00</td><td>7.0</td></tr><tr><td>11109</td><td>12.3</td><td>17.8</td><td>83.8</td><td>0.48</td><td>6.98</td></tr><tr><td>10119</td><td>18.46</td><td>10.92</td><td>109.31</td><td>0.27</td><td>6.93</td></tr><tr><td>10103</td><td>18.59</td><td>12.56</td><td>106.18</td><td>0.33</td><td>6.83</td></tr><tr><td>10032</td><td>16.27</td><td>16.63</td><td>70.14</td><td>0.73</td><td>6.81</td></tr><tr><td>10111</td><td>20.68</td><td>10.69</td><td>120.18</td><td>0.24</td><td>6.74</td></tr><tr><td>11226</td><td>20.25</td><td>18.75</td><td>79.01</td><td>0.50</td><td>6.65</td></tr><tr><td>10007</td><td>22.86</td><td>13.89</td><td>114.66</td><td>0.46</td><td>6.34</td></tr><tr><td>11224</td><td>21.5</td><td>29.25</td><td>63.89</td><td>0.50</td><td>6.28</td></tr><tr><td>11207</td><td>19.5</td><td>20.5</td><td>70.58</td><td>1.00</td><td>6.21</td></tr><tr><td>7311</td><td>0.0</td><td>60.0</td><td>0.0</td><td>1.00</td><td>6.0</td></tr><tr><td>10470</td><td>20.0</td><td>28.0</td><td>59.83</td><td>1.00</td><td>5.96</td></tr><tr><td>10305</td><td>20.0</td><td>13.5</td><td>135.0</td><td>1.00</td><td>5.66</td></tr><tr><td>7737</td><td>23.0</td><td>15.5</td><td>122.09</td><td>1.00</td><td>5.62</td></tr><tr><td>11417</td><td>23.5</td><td>25.0</td><td>86.0</td><td>1.00</td><td>5.61</td></tr><tr><td>11370</td><td>28.12</td><td>25.31</td><td>98.29</td><td>0.81</td><td>5.43</td></tr><tr><td>11235</td><td>29.5</td><td>33.25</td><td>90.24</td><td>0.50</td><td>5.4</td></tr><tr><td>11221</td><td>26.5</td><td>21.75</td><td>108.69</td><td>1.00</td><td>5.34</td></tr><tr><td>11435</td><td>36.0</td><td>26.0</td><td>129.52</td><td>0.50</td><td>4.96</td></tr><tr><td>11368</td><td>12.0</td><td>52.0</td><td>70.11</td><td>1.00</td><td>4.95</td></tr><tr><td>11218</td><td>30.0</td><td>20.0</td><td>136.36</td><td>1.00</td><td>4.91</td></tr><tr><td>11371</td><td>30.11</td><td>30.63</td><td>100.38</td><td>0.96</td><td>4.9</td></tr><tr><td>11375</td><td>30.33</td><td>33.0</td><td>95.49</td><td>1.00</td><td>4.8</td></tr><tr><td>11436</td><td>28.91</td><td>42.32</td><td>97.22</td><td>0.82</td><td>4.55</td></tr><tr><td>7087</td><td>38.0</td><td>31.0</td><td>135.87</td><td>1.00</td><td>4.04</td></tr><tr><td>11424</td><td>23.5</td><td>34.25</td><td>177.03</td><td>1.00</td><td>3.91</td></tr><tr><td>11422</td><td>42.13</td><td>45.23</td><td>121.99</td><td>0.98</td><td>3.37</td></tr><tr><td>11420</td><td>48.0</td><td>52.0</td><td>168.65</td><td>1.00</td><td>2.13</td></tr><tr><td>11430</td><td>73.25</td><td>52.0</td><td>219.65</td><td>1.00</td><td>0.4</td></tr></tbody></table></div>"
      ]
     },
     "metadata": {
      "application/vnd.databricks.v1+output": {
       "addedWidgets": {},
       "aggData": [],
       "aggError": "",
       "aggOverflow": false,
       "aggSchema": [],
       "aggSeriesLimitReached": false,
       "aggType": "",
       "arguments": {},
       "columnCustomDisplayInfos": {},
       "data": [
        [
         11003,
         0.0,
         0.0,
         0.0,
         "0.00",
         10.0
        ],
        [
         10502,
         0.0,
         0.0,
         0.0,
         "0.00",
         10.0
        ],
        [
         10468,
         1.5,
         4.0,
         11.22,
         "0.00",
         9.59
        ],
        [
         11212,
         2.0,
         4.0,
         12.5,
         "0.00",
         9.55
        ],
        [
         10454,
         3.0,
         5.0,
         17.65,
         "0.00",
         9.39
        ],
        [
         11418,
         3.0,
         5.0,
         19.48,
         "0.00",
         9.36
        ],
        [
         11220,
         4.0,
         6.0,
         19.05,
         "0.00",
         9.28
        ],
        [
         7718,
         4.0,
         5.0,
         25.0,
         "0.00",
         9.24
        ],
        [
         10024,
         5.0,
         6.5,
         25.0,
         "0.00",
         9.13
        ],
        [
         11223,
         7.0,
         7.5,
         32.01,
         "0.00",
         8.9
        ],
        [
         10451,
         8.5,
         8.63,
         40.78,
         "0.00",
         8.66
        ],
        [
         10460,
         9.0,
         9.33,
         39.95,
         "0.00",
         8.62
        ],
        [
         11355,
         9.0,
         11.0,
         38.37,
         "0.00",
         8.56
        ],
        [
         10474,
         10.0,
         8.5,
         47.22,
         "0.00",
         8.52
        ],
        [
         10039,
         7.6,
         7.7,
         50.09,
         "0.20",
         8.42
        ],
        [
         10031,
         9.63,
         10.29,
         44.8,
         "0.26",
         8.22
        ],
        [
         10162,
         10.1,
         9.99,
         49.33,
         "0.23",
         8.18
        ],
        [
         10069,
         10.4,
         9.78,
         53.83,
         "0.19",
         8.16
        ],
        [
         11206,
         10.52,
         11.02,
         46.39,
         "0.24",
         8.14
        ],
        [
         11103,
         10.19,
         11.03,
         47.69,
         "0.25",
         8.13
        ],
        [
         11106,
         9.8,
         11.07,
         47.45,
         "0.29",
         8.11
        ],
        [
         10027,
         10.54,
         11.03,
         48.77,
         "0.29",
         8.06
        ],
        [
         10153,
         10.83,
         9.78,
         60.49,
         "0.18",
         8.06
        ],
        [
         10030,
         10.28,
         10.75,
         54.95,
         "0.28",
         8.01
        ],
        [
         10152,
         11.28,
         10.13,
         64.09,
         "0.16",
         8.0
        ],
        [
         11105,
         10.46,
         12.31,
         46.94,
         "0.31",
         8.0
        ],
        [
         10026,
         10.94,
         10.4,
         54.35,
         "0.30",
         7.99
        ],
        [
         10035,
         10.21,
         12.25,
         45.02,
         "0.37",
         7.98
        ],
        [
         10029,
         11.15,
         10.79,
         56.04,
         "0.27",
         7.97
        ],
        [
         11372,
         10.53,
         12.37,
         48.26,
         "0.33",
         7.96
        ],
        [
         11238,
         11.94,
         11.44,
         55.18,
         "0.25",
         7.94
        ],
        [
         10028,
         11.81,
         10.16,
         59.96,
         "0.26",
         7.93
        ],
        [
         10021,
         11.05,
         10.14,
         63.39,
         "0.25",
         7.92
        ],
        [
         11237,
         12.0,
         12.4,
         47.32,
         "0.33",
         7.91
        ],
        [
         10044,
         11.51,
         10.95,
         58.42,
         "0.29",
         7.89
        ],
        [
         10023,
         11.9,
         10.05,
         67.86,
         "0.21",
         7.87
        ],
        [
         10037,
         11.96,
         12.79,
         55.05,
         "0.25",
         7.87
        ],
        [
         10016,
         11.83,
         10.96,
         62.34,
         "0.26",
         7.86
        ],
        [
         10019,
         11.6,
         10.96,
         63.08,
         "0.27",
         7.85
        ],
        [
         10115,
         10.93,
         11.89,
         57.65,
         "0.35",
         7.82
        ],
        [
         10110,
         11.76,
         10.86,
         67.22,
         "0.25",
         7.81
        ],
        [
         10022,
         13.43,
         9.85,
         70.85,
         "0.22",
         7.77
        ],
        [
         10003,
         11.94,
         10.99,
         64.25,
         "0.31",
         7.77
        ],
        [
         11231,
         11.43,
         11.87,
         58.2,
         "0.39",
         7.75
        ],
        [
         11233,
         11.0,
         9.5,
         73.09,
         "0.33",
         7.75
        ],
        [
         11217,
         12.5,
         12.4,
         57.2,
         "0.35",
         7.74
        ],
        [
         11102,
         12.06,
         11.88,
         51.91,
         "0.47",
         7.73
        ],
        [
         11210,
         12.0,
         13.75,
         43.37,
         "0.50",
         7.73
        ],
        [
         11211,
         12.65,
         12.3,
         55.38,
         "0.39",
         7.72
        ],
        [
         10167,
         12.3,
         11.61,
         69.92,
         "0.26",
         7.7
        ],
        [
         10112,
         13.02,
         11.71,
         70.56,
         "0.22",
         7.7
        ],
        [
         10452,
         12.0,
         13.88,
         47.03,
         "0.50",
         7.67
        ],
        [
         10012,
         12.76,
         11.38,
         67.37,
         "0.33",
         7.66
        ],
        [
         10009,
         13.44,
         11.13,
         71.22,
         "0.29",
         7.63
        ],
        [
         11201,
         12.72,
         13.63,
         54.74,
         "0.43",
         7.62
        ],
        [
         10034,
         11.78,
         16.67,
         48.64,
         "0.44",
         7.58
        ],
        [
         10011,
         14.5,
         10.92,
         74.44,
         "0.26",
         7.58
        ],
        [
         10001,
         14.01,
         10.62,
         79.89,
         "0.26",
         7.54
        ],
        [
         10002,
         14.4,
         12.18,
         66.38,
         "0.36",
         7.53
        ],
        [
         11104,
         13.07,
         12.24,
         59.0,
         "0.52",
         7.53
        ],
        [
         10018,
         15.14,
         11.41,
         79.15,
         "0.29",
         7.44
        ],
        [
         10171,
         13.42,
         12.04,
         78.43,
         "0.34",
         7.44
        ],
        [
         11205,
         14.95,
         13.95,
         65.1,
         "0.36",
         7.44
        ],
        [
         10017,
         13.57,
         11.33,
         86.73,
         "0.25",
         7.44
        ],
        [
         10020,
         15.47,
         11.7,
         80.21,
         "0.27",
         7.42
        ],
        [
         10025,
         16.88,
         11.68,
         72.83,
         "0.33",
         7.4
        ],
        [
         11216,
         14.88,
         15.63,
         61.01,
         "0.38",
         7.4
        ],
        [
         11356,
         10.0,
         15.0,
         33.33,
         "1.00",
         7.39
        ],
        [
         11225,
         15.6,
         14.6,
         62.59,
         "0.40",
         7.38
        ],
        [
         10013,
         13.95,
         13.84,
         71.1,
         "0.40",
         7.37
        ],
        [
         11377,
         15.29,
         13.25,
         71.6,
         "0.38",
         7.35
        ],
        [
         10278,
         14.23,
         12.99,
         71.57,
         "0.44",
         7.35
        ],
        [
         10199,
         14.75,
         10.74,
         97.65,
         "0.24",
         7.29
        ],
        [
         10038,
         15.41,
         16.18,
         63.88,
         "0.44",
         7.25
        ],
        [
         11101,
         13.28,
         16.06,
         67.7,
         "0.50",
         7.23
        ],
        [
         10065,
         15.71,
         9.75,
         104.32,
         "0.22",
         7.22
        ],
        [
         11423,
         16.0,
         11.5,
         114.29,
         "0.00",
         7.21
        ],
        [
         11230,
         16.33,
         20.83,
         55.17,
         "0.33",
         7.21
        ],
        [
         10282,
         14.66,
         14.46,
         64.84,
         "0.58",
         7.21
        ],
        [
         10014,
         17.74,
         10.92,
         92.23,
         "0.29",
         7.18
        ],
        [
         11222,
         15.19,
         14.24,
         66.74,
         "0.57",
         7.18
        ],
        [
         7002,
         13.0,
         10.5,
         93.29,
         "0.50",
         7.17
        ],
        [
         11209,
         15.5,
         19.25,
         57.99,
         "0.50",
         7.11
        ],
        [
         10006,
         15.57,
         15.32,
         65.42,
         "0.61",
         7.09
        ],
        [
         10280,
         15.33,
         16.33,
         63.57,
         "0.62",
         7.07
        ],
        [
         11208,
         12.0,
         19.0,
         36.08,
         "1.00",
         7.07
        ],
        [
         11369,
         9.5,
         29.63,
         60.2,
         "0.25",
         7.06
        ],
        [
         11378,
         7.0,
         27.25,
         59.67,
         "0.50",
         7.04
        ],
        [
         10154,
         18.19,
         11.73,
         98.97,
         "0.30",
         7.02
        ],
        [
         11373,
         15.5,
         16.63,
         56.56,
         "0.75",
         7.01
        ],
        [
         11215,
         16.0,
         13.73,
         72.58,
         "0.67",
         7.0
        ],
        [
         10271,
         16.06,
         15.52,
         68.24,
         "0.63",
         7.0
        ],
        [
         10005,
         16.08,
         15.87,
         67.39,
         "0.63",
         7.0
        ],
        [
         7030,
         0.0,
         40.0,
         0.0,
         "1.00",
         7.0
        ],
        [
         11109,
         12.3,
         17.8,
         83.8,
         "0.48",
         6.98
        ],
        [
         10119,
         18.46,
         10.92,
         109.31,
         "0.27",
         6.93
        ],
        [
         10103,
         18.59,
         12.56,
         106.18,
         "0.33",
         6.83
        ],
        [
         10032,
         16.27,
         16.63,
         70.14,
         "0.73",
         6.81
        ],
        [
         10111,
         20.68,
         10.69,
         120.18,
         "0.24",
         6.74
        ],
        [
         11226,
         20.25,
         18.75,
         79.01,
         "0.50",
         6.65
        ],
        [
         10007,
         22.86,
         13.89,
         114.66,
         "0.46",
         6.34
        ],
        [
         11224,
         21.5,
         29.25,
         63.89,
         "0.50",
         6.28
        ],
        [
         11207,
         19.5,
         20.5,
         70.58,
         "1.00",
         6.21
        ],
        [
         7311,
         0.0,
         60.0,
         0.0,
         "1.00",
         6.0
        ],
        [
         10470,
         20.0,
         28.0,
         59.83,
         "1.00",
         5.96
        ],
        [
         10305,
         20.0,
         13.5,
         135.0,
         "1.00",
         5.66
        ],
        [
         7737,
         23.0,
         15.5,
         122.09,
         "1.00",
         5.62
        ],
        [
         11417,
         23.5,
         25.0,
         86.0,
         "1.00",
         5.61
        ],
        [
         11370,
         28.12,
         25.31,
         98.29,
         "0.81",
         5.43
        ],
        [
         11235,
         29.5,
         33.25,
         90.24,
         "0.50",
         5.4
        ],
        [
         11221,
         26.5,
         21.75,
         108.69,
         "1.00",
         5.34
        ],
        [
         11435,
         36.0,
         26.0,
         129.52,
         "0.50",
         4.96
        ],
        [
         11368,
         12.0,
         52.0,
         70.11,
         "1.00",
         4.95
        ],
        [
         11218,
         30.0,
         20.0,
         136.36,
         "1.00",
         4.91
        ],
        [
         11371,
         30.11,
         30.63,
         100.38,
         "0.96",
         4.9
        ],
        [
         11375,
         30.33,
         33.0,
         95.49,
         "1.00",
         4.8
        ],
        [
         11436,
         28.91,
         42.32,
         97.22,
         "0.82",
         4.55
        ],
        [
         7087,
         38.0,
         31.0,
         135.87,
         "1.00",
         4.04
        ],
        [
         11424,
         23.5,
         34.25,
         177.03,
         "1.00",
         3.91
        ],
        [
         11422,
         42.13,
         45.23,
         121.99,
         "0.98",
         3.37
        ],
        [
         11420,
         48.0,
         52.0,
         168.65,
         "1.00",
         2.13
        ],
        [
         11430,
         73.25,
         52.0,
         219.65,
         "1.00",
         0.4
        ]
       ],
       "datasetInfos": [
        {
         "name": "_sqldf",
         "schema": {
          "fields": [
           {
            "metadata": {},
            "name": "pickup_zip",
            "nullable": true,
            "type": "integer"
           },
           {
            "metadata": {},
            "name": "tempo_medio",
            "nullable": true,
            "type": "double"
           },
           {
            "metadata": {},
            "name": "tarifa_media",
            "nullable": true,
            "type": "double"
           },
           {
            "metadata": {},
            "name": "frustracao_media",
            "nullable": true,
            "type": "double"
           },
           {
            "metadata": {},
            "name": "proporcao_tarifa_alta",
            "nullable": true,
            "type": "decimal(25,2)"
           },
           {
            "metadata": {},
            "name": "nota_final",
            "nullable": true,
            "type": "double"
           }
          ],
          "type": "struct"
         },
         "tableIdentifier": null,
         "typeStr": "pyspark.sql.connect.dataframe.DataFrame"
        }
       ],
       "dbfsResultPath": null,
       "isJsonSchema": true,
       "metadata": {
        "createTempViewForImplicitDf": true,
        "dataframeName": "_sqldf",
        "executionCount": 48
       },
       "overflow": false,
       "plotOptions": {
        "customPlotOptions": {},
        "displayType": "table",
        "pivotAggregation": null,
        "pivotColumns": null,
        "xColumns": null,
        "yColumns": null
       },
       "removedWidgets": [],
       "schema": [
        {
         "metadata": "{}",
         "name": "pickup_zip",
         "type": "\"integer\""
        },
        {
         "metadata": "{}",
         "name": "tempo_medio",
         "type": "\"double\""
        },
        {
         "metadata": "{}",
         "name": "tarifa_media",
         "type": "\"double\""
        },
        {
         "metadata": "{}",
         "name": "frustracao_media",
         "type": "\"double\""
        },
        {
         "metadata": "{}",
         "name": "proporcao_tarifa_alta",
         "type": "\"decimal(25,2)\""
        },
        {
         "metadata": "{}",
         "name": "nota_final",
         "type": "\"double\""
        }
       ],
       "type": "table"
      }
     },
     "output_type": "display_data"
    }
   ],
   "source": [
    "-- 3. Calcular a nota final\n",
    "\n",
    "WITH global_avg_fare AS (\n",
    "  SELECT AVG(fare_amount) AS avg_fare\n",
    "  FROM samples.nyctaxi.trips\n",
    "),\n",
    "base AS (\n",
    "  SELECT \n",
    "    pickup_zip,\n",
    "    ROUND(AVG(DATEDIFF(MINUTE, tpep_pickup_datetime, tpep_dropoff_datetime)), 2) AS tempo_medio,\n",
    "    ROUND(AVG(fare_amount), 2) AS tarifa_media,\n",
    "    ROUND(AVG((DATEDIFF(MINUTE, tpep_pickup_datetime, tpep_dropoff_datetime) * fare_amount) / trip_distance), 2) AS frustracao_media,\n",
    "    ROUND(SUM(CASE WHEN fare_amount > g.avg_fare THEN 1 ELSE 0 END) * 1.0 / COUNT(*), 2) AS proporcao_tarifa_alta\n",
    "  FROM samples.nyctaxi.trips\n",
    "  CROSS JOIN global_avg_fare g\n",
    "  WHERE pickup_zip IS NOT NULL AND trip_distance > 0\n",
    "  GROUP BY pickup_zip\n",
    "),\n",
    "limites AS (\n",
    "  SELECT \n",
    "    MAX(tempo_medio) AS max_tempo, MIN(tempo_medio) AS min_tempo,\n",
    "    MAX(tarifa_media) AS max_tarifa, MIN(tarifa_media) AS min_tarifa,\n",
    "    MAX(frustracao_media) AS max_frustracao, MIN(frustracao_media) AS min_frustracao,\n",
    "    MAX(proporcao_tarifa_alta) AS max_proporcao, MIN(proporcao_tarifa_alta) AS min_proporcao\n",
    "  FROM base\n",
    ")\n",
    "SELECT \n",
    "  b.pickup_zip,\n",
    "  b.tempo_medio,\n",
    "  b.tarifa_media,\n",
    "  b.frustracao_media,\n",
    "  b.proporcao_tarifa_alta,\n",
    "  ROUND(\n",
    "    0.3 * (10 * (l.max_tempo - b.tempo_medio) / NULLIF((l.max_tempo - l.min_tempo), 0)) +\n",
    "    0.3 * (10 * (l.max_tarifa - b.tarifa_media) / NULLIF((l.max_tarifa - l.min_tarifa), 0)) +\n",
    "    0.3 * (10 * (l.max_frustracao - b.frustracao_media) / NULLIF((l.max_frustracao - l.min_frustracao), 0)) +\n",
    "    0.1 * (10 * (l.max_proporcao - b.proporcao_tarifa_alta) / NULLIF((l.max_proporcao - l.min_proporcao), 0))\n",
    "  , 2) AS nota_final\n",
    "FROM base b\n",
    "CROSS JOIN limites l\n",
    "ORDER BY nota_final DESC;"
   ]
  },
  {
   "cell_type": "markdown",
   "metadata": {
    "application/vnd.databricks.v1+cell": {
     "cellMetadata": {},
     "inputWidgets": {},
     "nuid": "2f74d753-06c6-454a-b0e8-38b82a3a400d",
     "showTitle": false,
     "tableResultSettingsMap": {},
     "title": ""
    }
   },
   "source": [
    "### \uD83E\uDDFE Consolidação final: criação da view resultado_final\n",
    "\n",
    "\uD83D\uDD0D Pergunta\n",
    "\n",
    "Como podemos reunir todos os indicadores normalizados em uma estrutura única que permita ranquear zonas urbanas pela experiência do cliente?\n",
    "\n",
    "\uD83E\uDDE0 Análise\n",
    "\n",
    "Nesta etapa, criamos a view temporária resultado_final, que consolida todos os indicadores operacionais por zona (pickup_zip) e calcula a nota final simulada. A nota é composta por quatro métricas:\n",
    "\n",
    "Tempo médio de viagem\n",
    "\n",
    "Tarifa média\n",
    "\n",
    "Índice de frustração\n",
    "\n",
    "Proporção de corridas caras\n",
    "\n",
    "Cada métrica é normalizada em uma escala de 0 a 10 usando a técnica min-max, e ponderada conforme seu impacto na experiência:\n",
    "\n",
    "30% tempo\n",
    "\n",
    "30% tarifa\n",
    "\n",
    "30% frustração\n",
    "\n",
    "10% proporção de tarifas altas\n",
    "\n",
    "A view permite consultar diretamente as zonas com melhor ou pior desempenho, facilitando a criação de rankings, alertas e visualizações. É o ponto de partida para a aba “Zonas em Alerta” do dashboard corporativo.\n",
    "\n",
    "\uD83D\uDCCC Exemplo de achado: A zona 11106 recebeu nota 8.11, com frustração média de 47.45 e tarifa média de $11.07 — sugerindo um ponto de atenção na eficiência operacional."
   ]
  },
  {
   "cell_type": "code",
   "execution_count": 0,
   "metadata": {
    "application/vnd.databricks.v1+cell": {
     "cellMetadata": {
      "byteLimit": 2048000,
      "rowLimit": 10000
     },
     "inputWidgets": {},
     "nuid": "4e5723ca-74c5-43e8-bf53-0c592c3ee982",
     "showTitle": false,
     "tableResultSettingsMap": {},
     "title": ""
    }
   },
   "outputs": [],
   "source": [
    "CREATE OR REPLACE TEMP VIEW resultado_final AS\n",
    "WITH global_avg_fare AS (\n",
    "  SELECT AVG(fare_amount) AS avg_fare FROM samples.nyctaxi.trips\n",
    "),\n",
    "base AS (\n",
    "  SELECT \n",
    "    pickup_zip,\n",
    "    ROUND(AVG(DATEDIFF(MINUTE, tpep_pickup_datetime, tpep_dropoff_datetime)), 2) AS tempo_medio,\n",
    "    ROUND(AVG(fare_amount), 2) AS tarifa_media,\n",
    "    ROUND(AVG((DATEDIFF(MINUTE, tpep_pickup_datetime, tpep_dropoff_datetime) * fare_amount) / trip_distance), 2) AS frustracao_media,\n",
    "    ROUND(SUM(CASE WHEN fare_amount > g.avg_fare THEN 1 ELSE 0 END) * 1.0 / COUNT(*), 2) AS proporcao_tarifa_alta\n",
    "  FROM samples.nyctaxi.trips\n",
    "  CROSS JOIN global_avg_fare g\n",
    "  WHERE pickup_zip IS NOT NULL AND trip_distance > 0\n",
    "  GROUP BY pickup_zip\n",
    "),\n",
    "limites AS (\n",
    "  SELECT \n",
    "    MAX(tempo_medio) AS max_tempo, MIN(tempo_medio) AS min_tempo,\n",
    "    MAX(tarifa_media) AS max_tarifa, MIN(tarifa_media) AS min_tarifa,\n",
    "    MAX(frustracao_media) AS max_frustracao, MIN(frustracao_media) AS min_frustracao,\n",
    "    MAX(proporcao_tarifa_alta) AS max_proporcao, MIN(proporcao_tarifa_alta) AS min_proporcao\n",
    "  FROM base\n",
    ")\n",
    "SELECT \n",
    "  b.pickup_zip,\n",
    "  b.tempo_medio,\n",
    "  b.tarifa_media,\n",
    "  b.frustracao_media,\n",
    "  b.proporcao_tarifa_alta,\n",
    "  ROUND(\n",
    "    0.3 * (10 * (l.max_tempo - b.tempo_medio) / NULLIF((l.max_tempo - l.min_tempo), 0)) +\n",
    "    0.3 * (10 * (l.max_tarifa - b.tarifa_media) / NULLIF((l.max_tarifa - l.min_tarifa), 0)) +\n",
    "    0.3 * (10 * (l.max_frustracao - b.frustracao_media) / NULLIF((l.max_frustracao - l.min_frustracao), 0)) +\n",
    "    0.1 * (10 * (l.max_proporcao - b.proporcao_tarifa_alta) / NULLIF((l.max_proporcao - l.min_proporcao), 0))\n",
    "  , 2) AS nota_final\n",
    "FROM base b\n",
    "CROSS JOIN limites l;\n"
   ]
  },
  {
   "cell_type": "markdown",
   "metadata": {
    "application/vnd.databricks.v1+cell": {
     "cellMetadata": {},
     "inputWidgets": {},
     "nuid": "df20bc4b-b2a3-47f4-b5f3-3ffc8fda2610",
     "showTitle": false,
     "tableResultSettingsMap": {},
     "title": ""
    }
   },
   "source": [
    "### \uD83C\uDFC1 Consulta final: ranking de zonas por nota de experiência\n",
    "\n",
    "\uD83D\uDD0D Pergunta\n",
    "\n",
    "Quais zonas urbanas apresentam melhor desempenho na experiência do cliente, considerando todos os indicadores combinados?\n",
    "\n",
    "\uD83E\uDDE0 Análise\n",
    "\n",
    "Este comando consulta a view resultado_final e ordena as zonas de embarque (pickup_zip) pela nota final simulada, em ordem decrescente. A nota foi calculada com base em quatro indicadores normalizados e ponderados: tempo médio, tarifa média, índice de frustração e proporção de corridas caras.\n",
    "\n",
    "Essa consulta permite identificar rapidamente as zonas com melhor e pior desempenho, funcionando como um ranking operacional. É o ponto de partida para visualizações estratégicas, alertas e decisões gerenciais.\n",
    "\n",
    "\uD83D\uDCCC Exemplo de achado: A zona 11003 recebeu nota 10, com todos os indicadores zerados — sugerindo um caso atípico ou ausência de dados. Já a zona 11106 aparece com nota 8.11, indicando desempenho abaixo do ideal e merecendo atenção."
   ]
  },
  {
   "cell_type": "code",
   "execution_count": 0,
   "metadata": {
    "application/vnd.databricks.v1+cell": {
     "cellMetadata": {
      "byteLimit": 2048000,
      "rowLimit": 10000
     },
     "inputWidgets": {},
     "nuid": "451c9a50-516b-4590-8ea7-d96c18827fab",
     "showTitle": true,
     "tableResultSettingsMap": {
      "0": {
       "dataGridStateBlob": null,
       "filterBlob": "{\"version\":1,\"filterGroups\":[{\"enabled\":true,\"op\":\"OR\",\"filterGroupId\":\"fg_ec4b3513\",\"filters\":[{\"filterId\":\"f_ece1e977\",\"columnId\":\"nota_final\",\"enabled\":true,\"dataType\":\"float\",\"filterType\":\"lt\",\"filterValue\":6,\"filterValues\":[],\"filterConfig\":{\"caseSensitive\":false,\"includeMax\":true,\"includeMin\":true}}],\"local\":false,\"updatedAt\":1759013970400}],\"syncTimestamp\":1759014456999}",
       "queryPlanFiltersBlob": "[{\"kind\":\"call\",\"function\":\"or\",\"args\":[{\"kind\":\"call\",\"function\":\"lt\",\"args\":[{\"kind\":\"identifier\",\"identifier\":\"nota_final\"},{\"kind\":\"literal\",\"value\":6,\"type\":\"float\"}]}]}]",
       "tableResultIndex": 0
      }
     },
     "title": "Zonas de Alerta"
    }
   },
   "outputs": [
    {
     "output_type": "display_data",
     "data": {
      "text/html": [
       "<style scoped>\n",
       "  .table-result-container {\n",
       "    max-height: 300px;\n",
       "    overflow: auto;\n",
       "  }\n",
       "  table, th, td {\n",
       "    border: 1px solid black;\n",
       "    border-collapse: collapse;\n",
       "  }\n",
       "  th, td {\n",
       "    padding: 5px;\n",
       "  }\n",
       "  th {\n",
       "    text-align: left;\n",
       "  }\n",
       "</style><div class='table-result-container'><table class='table-result'><thead style='background-color: white'><tr><th>pickup_zip</th><th>tempo_medio</th><th>tarifa_media</th><th>frustracao_media</th><th>proporcao_tarifa_alta</th><th>nota_final</th></tr></thead><tbody><tr><td>11003</td><td>0.0</td><td>0.0</td><td>0.0</td><td>0.00</td><td>10.0</td></tr><tr><td>10502</td><td>0.0</td><td>0.0</td><td>0.0</td><td>0.00</td><td>10.0</td></tr><tr><td>10468</td><td>1.5</td><td>4.0</td><td>11.22</td><td>0.00</td><td>9.59</td></tr><tr><td>11212</td><td>2.0</td><td>4.0</td><td>12.5</td><td>0.00</td><td>9.55</td></tr><tr><td>10454</td><td>3.0</td><td>5.0</td><td>17.65</td><td>0.00</td><td>9.39</td></tr><tr><td>11418</td><td>3.0</td><td>5.0</td><td>19.48</td><td>0.00</td><td>9.36</td></tr><tr><td>11220</td><td>4.0</td><td>6.0</td><td>19.05</td><td>0.00</td><td>9.28</td></tr><tr><td>7718</td><td>4.0</td><td>5.0</td><td>25.0</td><td>0.00</td><td>9.24</td></tr><tr><td>10024</td><td>5.0</td><td>6.5</td><td>25.0</td><td>0.00</td><td>9.13</td></tr><tr><td>11223</td><td>7.0</td><td>7.5</td><td>32.01</td><td>0.00</td><td>8.9</td></tr><tr><td>10451</td><td>8.5</td><td>8.63</td><td>40.78</td><td>0.00</td><td>8.66</td></tr><tr><td>10460</td><td>9.0</td><td>9.33</td><td>39.95</td><td>0.00</td><td>8.62</td></tr><tr><td>11355</td><td>9.0</td><td>11.0</td><td>38.37</td><td>0.00</td><td>8.56</td></tr><tr><td>10474</td><td>10.0</td><td>8.5</td><td>47.22</td><td>0.00</td><td>8.52</td></tr><tr><td>10039</td><td>7.6</td><td>7.7</td><td>50.09</td><td>0.20</td><td>8.42</td></tr><tr><td>10031</td><td>9.63</td><td>10.29</td><td>44.8</td><td>0.26</td><td>8.22</td></tr><tr><td>10162</td><td>10.1</td><td>9.99</td><td>49.33</td><td>0.23</td><td>8.18</td></tr><tr><td>10069</td><td>10.4</td><td>9.78</td><td>53.83</td><td>0.19</td><td>8.16</td></tr><tr><td>11206</td><td>10.52</td><td>11.02</td><td>46.39</td><td>0.24</td><td>8.14</td></tr><tr><td>11103</td><td>10.19</td><td>11.03</td><td>47.69</td><td>0.25</td><td>8.13</td></tr><tr><td>11106</td><td>9.8</td><td>11.07</td><td>47.45</td><td>0.29</td><td>8.11</td></tr><tr><td>10027</td><td>10.54</td><td>11.03</td><td>48.77</td><td>0.29</td><td>8.06</td></tr><tr><td>10153</td><td>10.83</td><td>9.78</td><td>60.49</td><td>0.18</td><td>8.06</td></tr><tr><td>10030</td><td>10.28</td><td>10.75</td><td>54.95</td><td>0.28</td><td>8.01</td></tr><tr><td>10152</td><td>11.28</td><td>10.13</td><td>64.09</td><td>0.16</td><td>8.0</td></tr><tr><td>11105</td><td>10.46</td><td>12.31</td><td>46.94</td><td>0.31</td><td>8.0</td></tr><tr><td>10026</td><td>10.94</td><td>10.4</td><td>54.35</td><td>0.30</td><td>7.99</td></tr><tr><td>10035</td><td>10.21</td><td>12.25</td><td>45.02</td><td>0.37</td><td>7.98</td></tr><tr><td>10029</td><td>11.15</td><td>10.79</td><td>56.04</td><td>0.27</td><td>7.97</td></tr><tr><td>11372</td><td>10.53</td><td>12.37</td><td>48.26</td><td>0.33</td><td>7.96</td></tr><tr><td>11238</td><td>11.94</td><td>11.44</td><td>55.18</td><td>0.25</td><td>7.94</td></tr><tr><td>10028</td><td>11.81</td><td>10.16</td><td>59.96</td><td>0.26</td><td>7.93</td></tr><tr><td>10021</td><td>11.05</td><td>10.14</td><td>63.39</td><td>0.25</td><td>7.92</td></tr><tr><td>11237</td><td>12.0</td><td>12.4</td><td>47.32</td><td>0.33</td><td>7.91</td></tr><tr><td>10044</td><td>11.51</td><td>10.95</td><td>58.42</td><td>0.29</td><td>7.89</td></tr><tr><td>10023</td><td>11.9</td><td>10.05</td><td>67.86</td><td>0.21</td><td>7.87</td></tr><tr><td>10037</td><td>11.96</td><td>12.79</td><td>55.05</td><td>0.25</td><td>7.87</td></tr><tr><td>10016</td><td>11.83</td><td>10.96</td><td>62.34</td><td>0.26</td><td>7.86</td></tr><tr><td>10019</td><td>11.6</td><td>10.96</td><td>63.08</td><td>0.27</td><td>7.85</td></tr><tr><td>10115</td><td>10.93</td><td>11.89</td><td>57.65</td><td>0.35</td><td>7.82</td></tr><tr><td>10110</td><td>11.76</td><td>10.86</td><td>67.22</td><td>0.25</td><td>7.81</td></tr><tr><td>10022</td><td>13.43</td><td>9.85</td><td>70.85</td><td>0.22</td><td>7.77</td></tr><tr><td>10003</td><td>11.94</td><td>10.99</td><td>64.25</td><td>0.31</td><td>7.77</td></tr><tr><td>11231</td><td>11.43</td><td>11.87</td><td>58.2</td><td>0.39</td><td>7.75</td></tr><tr><td>11233</td><td>11.0</td><td>9.5</td><td>73.09</td><td>0.33</td><td>7.75</td></tr><tr><td>11217</td><td>12.5</td><td>12.4</td><td>57.2</td><td>0.35</td><td>7.74</td></tr><tr><td>11102</td><td>12.06</td><td>11.88</td><td>51.91</td><td>0.47</td><td>7.73</td></tr><tr><td>11210</td><td>12.0</td><td>13.75</td><td>43.37</td><td>0.50</td><td>7.73</td></tr><tr><td>11211</td><td>12.65</td><td>12.3</td><td>55.38</td><td>0.39</td><td>7.72</td></tr><tr><td>10167</td><td>12.3</td><td>11.61</td><td>69.92</td><td>0.26</td><td>7.7</td></tr><tr><td>10112</td><td>13.02</td><td>11.71</td><td>70.56</td><td>0.22</td><td>7.7</td></tr><tr><td>10452</td><td>12.0</td><td>13.88</td><td>47.03</td><td>0.50</td><td>7.67</td></tr><tr><td>10012</td><td>12.76</td><td>11.38</td><td>67.37</td><td>0.33</td><td>7.66</td></tr><tr><td>10009</td><td>13.44</td><td>11.13</td><td>71.22</td><td>0.29</td><td>7.63</td></tr><tr><td>11201</td><td>12.72</td><td>13.63</td><td>54.74</td><td>0.43</td><td>7.62</td></tr><tr><td>10034</td><td>11.78</td><td>16.67</td><td>48.64</td><td>0.44</td><td>7.58</td></tr><tr><td>10011</td><td>14.5</td><td>10.92</td><td>74.44</td><td>0.26</td><td>7.58</td></tr><tr><td>10001</td><td>14.01</td><td>10.62</td><td>79.89</td><td>0.26</td><td>7.54</td></tr><tr><td>10002</td><td>14.4</td><td>12.18</td><td>66.38</td><td>0.36</td><td>7.53</td></tr><tr><td>11104</td><td>13.07</td><td>12.24</td><td>59.0</td><td>0.52</td><td>7.53</td></tr><tr><td>10018</td><td>15.14</td><td>11.41</td><td>79.15</td><td>0.29</td><td>7.44</td></tr><tr><td>10171</td><td>13.42</td><td>12.04</td><td>78.43</td><td>0.34</td><td>7.44</td></tr><tr><td>11205</td><td>14.95</td><td>13.95</td><td>65.1</td><td>0.36</td><td>7.44</td></tr><tr><td>10017</td><td>13.57</td><td>11.33</td><td>86.73</td><td>0.25</td><td>7.44</td></tr><tr><td>10020</td><td>15.47</td><td>11.7</td><td>80.21</td><td>0.27</td><td>7.42</td></tr><tr><td>10025</td><td>16.88</td><td>11.68</td><td>72.83</td><td>0.33</td><td>7.4</td></tr><tr><td>11216</td><td>14.88</td><td>15.63</td><td>61.01</td><td>0.38</td><td>7.4</td></tr><tr><td>11356</td><td>10.0</td><td>15.0</td><td>33.33</td><td>1.00</td><td>7.39</td></tr><tr><td>11225</td><td>15.6</td><td>14.6</td><td>62.59</td><td>0.40</td><td>7.38</td></tr><tr><td>10013</td><td>13.95</td><td>13.84</td><td>71.1</td><td>0.40</td><td>7.37</td></tr><tr><td>11377</td><td>15.29</td><td>13.25</td><td>71.6</td><td>0.38</td><td>7.35</td></tr><tr><td>10278</td><td>14.23</td><td>12.99</td><td>71.57</td><td>0.44</td><td>7.35</td></tr><tr><td>10199</td><td>14.75</td><td>10.74</td><td>97.65</td><td>0.24</td><td>7.29</td></tr><tr><td>10038</td><td>15.41</td><td>16.18</td><td>63.88</td><td>0.44</td><td>7.25</td></tr><tr><td>11101</td><td>13.28</td><td>16.06</td><td>67.7</td><td>0.50</td><td>7.23</td></tr><tr><td>10065</td><td>15.71</td><td>9.75</td><td>104.32</td><td>0.22</td><td>7.22</td></tr><tr><td>11423</td><td>16.0</td><td>11.5</td><td>114.29</td><td>0.00</td><td>7.21</td></tr><tr><td>11230</td><td>16.33</td><td>20.83</td><td>55.17</td><td>0.33</td><td>7.21</td></tr><tr><td>10282</td><td>14.66</td><td>14.46</td><td>64.84</td><td>0.58</td><td>7.21</td></tr><tr><td>10014</td><td>17.74</td><td>10.92</td><td>92.23</td><td>0.29</td><td>7.18</td></tr><tr><td>11222</td><td>15.19</td><td>14.24</td><td>66.74</td><td>0.57</td><td>7.18</td></tr><tr><td>7002</td><td>13.0</td><td>10.5</td><td>93.29</td><td>0.50</td><td>7.17</td></tr><tr><td>11209</td><td>15.5</td><td>19.25</td><td>57.99</td><td>0.50</td><td>7.11</td></tr><tr><td>10006</td><td>15.57</td><td>15.32</td><td>65.42</td><td>0.61</td><td>7.09</td></tr><tr><td>10280</td><td>15.33</td><td>16.33</td><td>63.57</td><td>0.62</td><td>7.07</td></tr><tr><td>11208</td><td>12.0</td><td>19.0</td><td>36.08</td><td>1.00</td><td>7.07</td></tr><tr><td>11369</td><td>9.5</td><td>29.63</td><td>60.2</td><td>0.25</td><td>7.06</td></tr><tr><td>11378</td><td>7.0</td><td>27.25</td><td>59.67</td><td>0.50</td><td>7.04</td></tr><tr><td>10154</td><td>18.19</td><td>11.73</td><td>98.97</td><td>0.30</td><td>7.02</td></tr><tr><td>11373</td><td>15.5</td><td>16.63</td><td>56.56</td><td>0.75</td><td>7.01</td></tr><tr><td>11215</td><td>16.0</td><td>13.73</td><td>72.58</td><td>0.67</td><td>7.0</td></tr><tr><td>10271</td><td>16.06</td><td>15.52</td><td>68.24</td><td>0.63</td><td>7.0</td></tr><tr><td>10005</td><td>16.08</td><td>15.87</td><td>67.39</td><td>0.63</td><td>7.0</td></tr><tr><td>7030</td><td>0.0</td><td>40.0</td><td>0.0</td><td>1.00</td><td>7.0</td></tr><tr><td>11109</td><td>12.3</td><td>17.8</td><td>83.8</td><td>0.48</td><td>6.98</td></tr><tr><td>10119</td><td>18.46</td><td>10.92</td><td>109.31</td><td>0.27</td><td>6.93</td></tr><tr><td>10103</td><td>18.59</td><td>12.56</td><td>106.18</td><td>0.33</td><td>6.83</td></tr><tr><td>10032</td><td>16.27</td><td>16.63</td><td>70.14</td><td>0.73</td><td>6.81</td></tr><tr><td>10111</td><td>20.68</td><td>10.69</td><td>120.18</td><td>0.24</td><td>6.74</td></tr><tr><td>11226</td><td>20.25</td><td>18.75</td><td>79.01</td><td>0.50</td><td>6.65</td></tr><tr><td>10007</td><td>22.86</td><td>13.89</td><td>114.66</td><td>0.46</td><td>6.34</td></tr><tr><td>11224</td><td>21.5</td><td>29.25</td><td>63.89</td><td>0.50</td><td>6.28</td></tr><tr><td>11207</td><td>19.5</td><td>20.5</td><td>70.58</td><td>1.00</td><td>6.21</td></tr><tr><td>7311</td><td>0.0</td><td>60.0</td><td>0.0</td><td>1.00</td><td>6.0</td></tr><tr><td>10470</td><td>20.0</td><td>28.0</td><td>59.83</td><td>1.00</td><td>5.96</td></tr><tr><td>10305</td><td>20.0</td><td>13.5</td><td>135.0</td><td>1.00</td><td>5.66</td></tr><tr><td>7737</td><td>23.0</td><td>15.5</td><td>122.09</td><td>1.00</td><td>5.62</td></tr><tr><td>11417</td><td>23.5</td><td>25.0</td><td>86.0</td><td>1.00</td><td>5.61</td></tr><tr><td>11370</td><td>28.12</td><td>25.31</td><td>98.29</td><td>0.81</td><td>5.43</td></tr><tr><td>11235</td><td>29.5</td><td>33.25</td><td>90.24</td><td>0.50</td><td>5.4</td></tr><tr><td>11221</td><td>26.5</td><td>21.75</td><td>108.69</td><td>1.00</td><td>5.34</td></tr><tr><td>11435</td><td>36.0</td><td>26.0</td><td>129.52</td><td>0.50</td><td>4.96</td></tr><tr><td>11368</td><td>12.0</td><td>52.0</td><td>70.11</td><td>1.00</td><td>4.95</td></tr><tr><td>11218</td><td>30.0</td><td>20.0</td><td>136.36</td><td>1.00</td><td>4.91</td></tr><tr><td>11371</td><td>30.11</td><td>30.63</td><td>100.38</td><td>0.96</td><td>4.9</td></tr><tr><td>11375</td><td>30.33</td><td>33.0</td><td>95.49</td><td>1.00</td><td>4.8</td></tr><tr><td>11436</td><td>28.91</td><td>42.32</td><td>97.22</td><td>0.82</td><td>4.55</td></tr><tr><td>7087</td><td>38.0</td><td>31.0</td><td>135.87</td><td>1.00</td><td>4.04</td></tr><tr><td>11424</td><td>23.5</td><td>34.25</td><td>177.03</td><td>1.00</td><td>3.91</td></tr><tr><td>11422</td><td>42.13</td><td>45.23</td><td>121.99</td><td>0.98</td><td>3.37</td></tr><tr><td>11420</td><td>48.0</td><td>52.0</td><td>168.65</td><td>1.00</td><td>2.13</td></tr><tr><td>11430</td><td>73.25</td><td>52.0</td><td>219.65</td><td>1.00</td><td>0.4</td></tr></tbody></table></div>"
      ]
     },
     "metadata": {
      "application/vnd.databricks.v1+output": {
       "addedWidgets": {},
       "aggData": [],
       "aggError": "",
       "aggOverflow": false,
       "aggSchema": [],
       "aggSeriesLimitReached": false,
       "aggType": "",
       "arguments": {},
       "columnCustomDisplayInfos": {},
       "data": [
        [
         11003,
         0.0,
         0.0,
         0.0,
         "0.00",
         10.0
        ],
        [
         10502,
         0.0,
         0.0,
         0.0,
         "0.00",
         10.0
        ],
        [
         10468,
         1.5,
         4.0,
         11.22,
         "0.00",
         9.59
        ],
        [
         11212,
         2.0,
         4.0,
         12.5,
         "0.00",
         9.55
        ],
        [
         10454,
         3.0,
         5.0,
         17.65,
         "0.00",
         9.39
        ],
        [
         11418,
         3.0,
         5.0,
         19.48,
         "0.00",
         9.36
        ],
        [
         11220,
         4.0,
         6.0,
         19.05,
         "0.00",
         9.28
        ],
        [
         7718,
         4.0,
         5.0,
         25.0,
         "0.00",
         9.24
        ],
        [
         10024,
         5.0,
         6.5,
         25.0,
         "0.00",
         9.13
        ],
        [
         11223,
         7.0,
         7.5,
         32.01,
         "0.00",
         8.9
        ],
        [
         10451,
         8.5,
         8.63,
         40.78,
         "0.00",
         8.66
        ],
        [
         10460,
         9.0,
         9.33,
         39.95,
         "0.00",
         8.62
        ],
        [
         11355,
         9.0,
         11.0,
         38.37,
         "0.00",
         8.56
        ],
        [
         10474,
         10.0,
         8.5,
         47.22,
         "0.00",
         8.52
        ],
        [
         10039,
         7.6,
         7.7,
         50.09,
         "0.20",
         8.42
        ],
        [
         10031,
         9.63,
         10.29,
         44.8,
         "0.26",
         8.22
        ],
        [
         10162,
         10.1,
         9.99,
         49.33,
         "0.23",
         8.18
        ],
        [
         10069,
         10.4,
         9.78,
         53.83,
         "0.19",
         8.16
        ],
        [
         11206,
         10.52,
         11.02,
         46.39,
         "0.24",
         8.14
        ],
        [
         11103,
         10.19,
         11.03,
         47.69,
         "0.25",
         8.13
        ],
        [
         11106,
         9.8,
         11.07,
         47.45,
         "0.29",
         8.11
        ],
        [
         10027,
         10.54,
         11.03,
         48.77,
         "0.29",
         8.06
        ],
        [
         10153,
         10.83,
         9.78,
         60.49,
         "0.18",
         8.06
        ],
        [
         10030,
         10.28,
         10.75,
         54.95,
         "0.28",
         8.01
        ],
        [
         10152,
         11.28,
         10.13,
         64.09,
         "0.16",
         8.0
        ],
        [
         11105,
         10.46,
         12.31,
         46.94,
         "0.31",
         8.0
        ],
        [
         10026,
         10.94,
         10.4,
         54.35,
         "0.30",
         7.99
        ],
        [
         10035,
         10.21,
         12.25,
         45.02,
         "0.37",
         7.98
        ],
        [
         10029,
         11.15,
         10.79,
         56.04,
         "0.27",
         7.97
        ],
        [
         11372,
         10.53,
         12.37,
         48.26,
         "0.33",
         7.96
        ],
        [
         11238,
         11.94,
         11.44,
         55.18,
         "0.25",
         7.94
        ],
        [
         10028,
         11.81,
         10.16,
         59.96,
         "0.26",
         7.93
        ],
        [
         10021,
         11.05,
         10.14,
         63.39,
         "0.25",
         7.92
        ],
        [
         11237,
         12.0,
         12.4,
         47.32,
         "0.33",
         7.91
        ],
        [
         10044,
         11.51,
         10.95,
         58.42,
         "0.29",
         7.89
        ],
        [
         10023,
         11.9,
         10.05,
         67.86,
         "0.21",
         7.87
        ],
        [
         10037,
         11.96,
         12.79,
         55.05,
         "0.25",
         7.87
        ],
        [
         10016,
         11.83,
         10.96,
         62.34,
         "0.26",
         7.86
        ],
        [
         10019,
         11.6,
         10.96,
         63.08,
         "0.27",
         7.85
        ],
        [
         10115,
         10.93,
         11.89,
         57.65,
         "0.35",
         7.82
        ],
        [
         10110,
         11.76,
         10.86,
         67.22,
         "0.25",
         7.81
        ],
        [
         10022,
         13.43,
         9.85,
         70.85,
         "0.22",
         7.77
        ],
        [
         10003,
         11.94,
         10.99,
         64.25,
         "0.31",
         7.77
        ],
        [
         11231,
         11.43,
         11.87,
         58.2,
         "0.39",
         7.75
        ],
        [
         11233,
         11.0,
         9.5,
         73.09,
         "0.33",
         7.75
        ],
        [
         11217,
         12.5,
         12.4,
         57.2,
         "0.35",
         7.74
        ],
        [
         11102,
         12.06,
         11.88,
         51.91,
         "0.47",
         7.73
        ],
        [
         11210,
         12.0,
         13.75,
         43.37,
         "0.50",
         7.73
        ],
        [
         11211,
         12.65,
         12.3,
         55.38,
         "0.39",
         7.72
        ],
        [
         10167,
         12.3,
         11.61,
         69.92,
         "0.26",
         7.7
        ],
        [
         10112,
         13.02,
         11.71,
         70.56,
         "0.22",
         7.7
        ],
        [
         10452,
         12.0,
         13.88,
         47.03,
         "0.50",
         7.67
        ],
        [
         10012,
         12.76,
         11.38,
         67.37,
         "0.33",
         7.66
        ],
        [
         10009,
         13.44,
         11.13,
         71.22,
         "0.29",
         7.63
        ],
        [
         11201,
         12.72,
         13.63,
         54.74,
         "0.43",
         7.62
        ],
        [
         10034,
         11.78,
         16.67,
         48.64,
         "0.44",
         7.58
        ],
        [
         10011,
         14.5,
         10.92,
         74.44,
         "0.26",
         7.58
        ],
        [
         10001,
         14.01,
         10.62,
         79.89,
         "0.26",
         7.54
        ],
        [
         10002,
         14.4,
         12.18,
         66.38,
         "0.36",
         7.53
        ],
        [
         11104,
         13.07,
         12.24,
         59.0,
         "0.52",
         7.53
        ],
        [
         10018,
         15.14,
         11.41,
         79.15,
         "0.29",
         7.44
        ],
        [
         10171,
         13.42,
         12.04,
         78.43,
         "0.34",
         7.44
        ],
        [
         11205,
         14.95,
         13.95,
         65.1,
         "0.36",
         7.44
        ],
        [
         10017,
         13.57,
         11.33,
         86.73,
         "0.25",
         7.44
        ],
        [
         10020,
         15.47,
         11.7,
         80.21,
         "0.27",
         7.42
        ],
        [
         10025,
         16.88,
         11.68,
         72.83,
         "0.33",
         7.4
        ],
        [
         11216,
         14.88,
         15.63,
         61.01,
         "0.38",
         7.4
        ],
        [
         11356,
         10.0,
         15.0,
         33.33,
         "1.00",
         7.39
        ],
        [
         11225,
         15.6,
         14.6,
         62.59,
         "0.40",
         7.38
        ],
        [
         10013,
         13.95,
         13.84,
         71.1,
         "0.40",
         7.37
        ],
        [
         11377,
         15.29,
         13.25,
         71.6,
         "0.38",
         7.35
        ],
        [
         10278,
         14.23,
         12.99,
         71.57,
         "0.44",
         7.35
        ],
        [
         10199,
         14.75,
         10.74,
         97.65,
         "0.24",
         7.29
        ],
        [
         10038,
         15.41,
         16.18,
         63.88,
         "0.44",
         7.25
        ],
        [
         11101,
         13.28,
         16.06,
         67.7,
         "0.50",
         7.23
        ],
        [
         10065,
         15.71,
         9.75,
         104.32,
         "0.22",
         7.22
        ],
        [
         11423,
         16.0,
         11.5,
         114.29,
         "0.00",
         7.21
        ],
        [
         11230,
         16.33,
         20.83,
         55.17,
         "0.33",
         7.21
        ],
        [
         10282,
         14.66,
         14.46,
         64.84,
         "0.58",
         7.21
        ],
        [
         10014,
         17.74,
         10.92,
         92.23,
         "0.29",
         7.18
        ],
        [
         11222,
         15.19,
         14.24,
         66.74,
         "0.57",
         7.18
        ],
        [
         7002,
         13.0,
         10.5,
         93.29,
         "0.50",
         7.17
        ],
        [
         11209,
         15.5,
         19.25,
         57.99,
         "0.50",
         7.11
        ],
        [
         10006,
         15.57,
         15.32,
         65.42,
         "0.61",
         7.09
        ],
        [
         10280,
         15.33,
         16.33,
         63.57,
         "0.62",
         7.07
        ],
        [
         11208,
         12.0,
         19.0,
         36.08,
         "1.00",
         7.07
        ],
        [
         11369,
         9.5,
         29.63,
         60.2,
         "0.25",
         7.06
        ],
        [
         11378,
         7.0,
         27.25,
         59.67,
         "0.50",
         7.04
        ],
        [
         10154,
         18.19,
         11.73,
         98.97,
         "0.30",
         7.02
        ],
        [
         11373,
         15.5,
         16.63,
         56.56,
         "0.75",
         7.01
        ],
        [
         11215,
         16.0,
         13.73,
         72.58,
         "0.67",
         7.0
        ],
        [
         10271,
         16.06,
         15.52,
         68.24,
         "0.63",
         7.0
        ],
        [
         10005,
         16.08,
         15.87,
         67.39,
         "0.63",
         7.0
        ],
        [
         7030,
         0.0,
         40.0,
         0.0,
         "1.00",
         7.0
        ],
        [
         11109,
         12.3,
         17.8,
         83.8,
         "0.48",
         6.98
        ],
        [
         10119,
         18.46,
         10.92,
         109.31,
         "0.27",
         6.93
        ],
        [
         10103,
         18.59,
         12.56,
         106.18,
         "0.33",
         6.83
        ],
        [
         10032,
         16.27,
         16.63,
         70.14,
         "0.73",
         6.81
        ],
        [
         10111,
         20.68,
         10.69,
         120.18,
         "0.24",
         6.74
        ],
        [
         11226,
         20.25,
         18.75,
         79.01,
         "0.50",
         6.65
        ],
        [
         10007,
         22.86,
         13.89,
         114.66,
         "0.46",
         6.34
        ],
        [
         11224,
         21.5,
         29.25,
         63.89,
         "0.50",
         6.28
        ],
        [
         11207,
         19.5,
         20.5,
         70.58,
         "1.00",
         6.21
        ],
        [
         7311,
         0.0,
         60.0,
         0.0,
         "1.00",
         6.0
        ],
        [
         10470,
         20.0,
         28.0,
         59.83,
         "1.00",
         5.96
        ],
        [
         10305,
         20.0,
         13.5,
         135.0,
         "1.00",
         5.66
        ],
        [
         7737,
         23.0,
         15.5,
         122.09,
         "1.00",
         5.62
        ],
        [
         11417,
         23.5,
         25.0,
         86.0,
         "1.00",
         5.61
        ],
        [
         11370,
         28.12,
         25.31,
         98.29,
         "0.81",
         5.43
        ],
        [
         11235,
         29.5,
         33.25,
         90.24,
         "0.50",
         5.4
        ],
        [
         11221,
         26.5,
         21.75,
         108.69,
         "1.00",
         5.34
        ],
        [
         11435,
         36.0,
         26.0,
         129.52,
         "0.50",
         4.96
        ],
        [
         11368,
         12.0,
         52.0,
         70.11,
         "1.00",
         4.95
        ],
        [
         11218,
         30.0,
         20.0,
         136.36,
         "1.00",
         4.91
        ],
        [
         11371,
         30.11,
         30.63,
         100.38,
         "0.96",
         4.9
        ],
        [
         11375,
         30.33,
         33.0,
         95.49,
         "1.00",
         4.8
        ],
        [
         11436,
         28.91,
         42.32,
         97.22,
         "0.82",
         4.55
        ],
        [
         7087,
         38.0,
         31.0,
         135.87,
         "1.00",
         4.04
        ],
        [
         11424,
         23.5,
         34.25,
         177.03,
         "1.00",
         3.91
        ],
        [
         11422,
         42.13,
         45.23,
         121.99,
         "0.98",
         3.37
        ],
        [
         11420,
         48.0,
         52.0,
         168.65,
         "1.00",
         2.13
        ],
        [
         11430,
         73.25,
         52.0,
         219.65,
         "1.00",
         0.4
        ]
       ],
       "datasetInfos": [
        {
         "name": "_sqldf",
         "schema": {
          "fields": [
           {
            "metadata": {},
            "name": "pickup_zip",
            "nullable": true,
            "type": "integer"
           },
           {
            "metadata": {},
            "name": "tempo_medio",
            "nullable": true,
            "type": "double"
           },
           {
            "metadata": {},
            "name": "tarifa_media",
            "nullable": true,
            "type": "double"
           },
           {
            "metadata": {},
            "name": "frustracao_media",
            "nullable": true,
            "type": "double"
           },
           {
            "metadata": {},
            "name": "proporcao_tarifa_alta",
            "nullable": true,
            "type": "decimal(25,2)"
           },
           {
            "metadata": {},
            "name": "nota_final",
            "nullable": true,
            "type": "double"
           }
          ],
          "type": "struct"
         },
         "tableIdentifier": null,
         "typeStr": "pyspark.sql.connect.dataframe.DataFrame"
        }
       ],
       "dbfsResultPath": null,
       "isJsonSchema": true,
       "metadata": {
        "createTempViewForImplicitDf": true,
        "dataframeName": "_sqldf",
        "executionCount": 125
       },
       "overflow": false,
       "plotOptions": {
        "customPlotOptions": {},
        "displayType": "table",
        "pivotAggregation": null,
        "pivotColumns": null,
        "xColumns": null,
        "yColumns": null
       },
       "removedWidgets": [],
       "schema": [
        {
         "metadata": "{}",
         "name": "pickup_zip",
         "type": "\"integer\""
        },
        {
         "metadata": "{}",
         "name": "tempo_medio",
         "type": "\"double\""
        },
        {
         "metadata": "{}",
         "name": "tarifa_media",
         "type": "\"double\""
        },
        {
         "metadata": "{}",
         "name": "frustracao_media",
         "type": "\"double\""
        },
        {
         "metadata": "{}",
         "name": "proporcao_tarifa_alta",
         "type": "\"decimal(25,2)\""
        },
        {
         "metadata": "{}",
         "name": "nota_final",
         "type": "\"double\""
        }
       ],
       "type": "table"
      }
     },
     "output_type": "display_data"
    },
    {
     "output_type": "display_data",
     "data": {
      "text/plain": [
       "Databricks visualization. Run in Databricks to view."
      ]
     },
     "metadata": {
      "application/vnd.databricks.v1.subcommand+json": {
       "baseErrorDetails": null,
       "bindings": {},
       "collapsed": false,
       "command": "SELECT * FROM resultado_final ORDER BY nota_final DESC\n",
       "commandTitle": "Tabela detalhada por zona de alerta",
       "commandType": "auto",
       "commandVersion": 0,
       "commentThread": [],
       "commentsVisible": false,
       "contentSha256Hex": null,
       "customPlotOptions": {
        "redashChart": [
         {
          "key": "type",
          "value": "TABLE"
         },
         {
          "key": "options",
          "value": {
           "columns": [
            {
             "alignContent": "left",
             "allowHTML": false,
             "allowSearch": false,
             "booleanValues": [
              "false",
              "true"
             ],
             "cellFormat": {
              "default": {
               "foregroundColor": "#8CFFB4"
              },
              "rules": [
               {
                "if": {
                 "column": "nota_final",
                 "fn": "<",
                 "literal": "6"
                },
                "value": {
                 "foregroundColor": "#E92828"
                }
               }
              ]
             },
             "displayAs": "number",
             "highlightLinks": false,
             "imageHeight": "",
             "imageTitleTemplate": "{{ @ }}",
             "imageUrlTemplate": "{{ @ }}",
             "imageWidth": "",
             "linkOpenInNewTab": true,
             "linkTextTemplate": "{{ @ }}",
             "linkTitleTemplate": "{{ @ }}",
             "linkUrlTemplate": "{{ @ }}",
             "name": "nota_final",
             "numberFormat": "0.00",
             "order": 0,
             "preserveWhitespace": false,
             "title": "nota_final",
             "type": "float",
             "useMonospaceFont": false,
             "visible": true
            },
            {
             "alignContent": "left",
             "allowHTML": false,
             "allowSearch": false,
             "booleanValues": [
              "false",
              "true"
             ],
             "displayAs": "number",
             "highlightLinks": false,
             "imageHeight": "",
             "imageTitleTemplate": "{{ @ }}",
             "imageUrlTemplate": "{{ @ }}",
             "imageWidth": "",
             "linkOpenInNewTab": true,
             "linkTextTemplate": "{{ @ }}",
             "linkTitleTemplate": "{{ @ }}",
             "linkUrlTemplate": "{{ @ }}",
             "name": "pickup_zip",
             "numberFormat": "0",
             "order": 1,
             "preserveWhitespace": false,
             "title": "pickup_zip",
             "type": "integer",
             "useMonospaceFont": false,
             "visible": true
            },
            {
             "alignContent": "left",
             "allowHTML": false,
             "allowSearch": false,
             "booleanValues": [
              "false",
              "true"
             ],
             "displayAs": "number",
             "highlightLinks": false,
             "imageHeight": "",
             "imageTitleTemplate": "{{ @ }}",
             "imageUrlTemplate": "{{ @ }}",
             "imageWidth": "",
             "linkOpenInNewTab": true,
             "linkTextTemplate": "{{ @ }}",
             "linkTitleTemplate": "{{ @ }}",
             "linkUrlTemplate": "{{ @ }}",
             "name": "tempo_medio",
             "numberFormat": "0.00",
             "order": 2,
             "preserveWhitespace": false,
             "title": "tempo_medio",
             "type": "float",
             "useMonospaceFont": false,
             "visible": true
            },
            {
             "alignContent": "left",
             "allowHTML": false,
             "allowSearch": false,
             "booleanValues": [
              "false",
              "true"
             ],
             "displayAs": "number",
             "highlightLinks": false,
             "imageHeight": "",
             "imageTitleTemplate": "{{ @ }}",
             "imageUrlTemplate": "{{ @ }}",
             "imageWidth": "",
             "linkOpenInNewTab": true,
             "linkTextTemplate": "{{ @ }}",
             "linkTitleTemplate": "{{ @ }}",
             "linkUrlTemplate": "{{ @ }}",
             "name": "tarifa_media",
             "numberFormat": "0.00",
             "order": 3,
             "preserveWhitespace": false,
             "title": "tarifa_media",
             "type": "float",
             "useMonospaceFont": false,
             "visible": true
            },
            {
             "alignContent": "left",
             "allowHTML": false,
             "allowSearch": false,
             "booleanValues": [
              "false",
              "true"
             ],
             "cellFormat": {
              "default": {
               "foregroundColor": "#8CFFB4"
              },
              "rules": [
               {
                "if": {
                 "column": "frustracao_media",
                 "fn": ">",
                 "literal": "100"
                },
                "value": {
                 "foregroundColor": "#FB8D3D"
                }
               }
              ]
             },
             "displayAs": "number",
             "highlightLinks": false,
             "imageHeight": "",
             "imageTitleTemplate": "{{ @ }}",
             "imageUrlTemplate": "{{ @ }}",
             "imageWidth": "",
             "linkOpenInNewTab": true,
             "linkTextTemplate": "{{ @ }}",
             "linkTitleTemplate": "{{ @ }}",
             "linkUrlTemplate": "{{ @ }}",
             "name": "frustracao_media",
             "numberFormat": "0.00",
             "order": 4,
             "preserveWhitespace": false,
             "title": "frustracao_media",
             "type": "float",
             "useMonospaceFont": false,
             "visible": true
            },
            {
             "alignContent": "left",
             "allowHTML": false,
             "allowSearch": false,
             "booleanValues": [
              "false",
              "true"
             ],
             "cellFormat": {
              "default": {
               "foregroundColor": "#8CFFB4"
              },
              "rules": [
               {
                "if": {
                 "column": "proporcao_tarifa_alta",
                 "fn": ">",
                 "literal": "0.5"
                },
                "value": {
                 "foregroundColor": "#FB8D3D"
                }
               }
              ]
             },
             "displayAs": "number",
             "highlightLinks": false,
             "imageHeight": "",
             "imageTitleTemplate": "{{ @ }}",
             "imageUrlTemplate": "{{ @ }}",
             "imageWidth": "",
             "linkOpenInNewTab": true,
             "linkTextTemplate": "{{ @ }}",
             "linkTitleTemplate": "{{ @ }}",
             "linkUrlTemplate": "{{ @ }}",
             "name": "proporcao_tarifa_alta",
             "numberFormat": "0.00",
             "order": 5,
             "preserveWhitespace": false,
             "title": "proporcao_tarifa_alta",
             "type": "float",
             "useMonospaceFont": false,
             "visible": true
            }
           ],
           "condensed": true,
           "itemsPerPage": 25,
           "paginationSize": "default",
           "version": 2,
           "withRowNumber": true
          }
         }
        ]
       },
       "datasetPreviewNameToCmdIdMap": {},
       "diffDeletes": [],
       "diffInserts": [],
       "displayType": "redashChart",
       "error": null,
       "errorDetails": null,
       "errorSummary": null,
       "errorTraceType": null,
       "finishTime": 0,
       "globalVars": {},
       "guid": "",
       "height": "auto",
       "hideCommandCode": false,
       "hideCommandResult": false,
       "iPythonMetadata": null,
       "inputWidgets": {},
       "isLockedInExamMode": false,
       "latestAssumeRoleInfo": null,
       "latestUser": "a user",
       "latestUserId": null,
       "listResultMetadata": null,
       "metadata": {},
       "nuid": "ab97b416-f960-49fb-ab78-51906c0371a1",
       "origId": 0,
       "parentHierarchy": [],
       "pivotAggregation": null,
       "pivotColumns": null,
       "position": 14.93701171875,
       "resultDbfsErrorMessage": null,
       "resultDbfsStatus": "INLINED_IN_TREE",
       "results": null,
       "showCommandTitle": false,
       "startTime": 0,
       "state": "input",
       "streamStates": {},
       "subcommandOptions": {},
       "submitTime": 0,
       "subtype": "tableResultSubCmd.visualization",
       "tableResultIndex": 0,
       "tableResultSettingsMap": {},
       "useConsistentColors": false,
       "version": "CommandV1",
       "width": "auto",
       "workflows": [],
       "xColumns": null,
       "yColumns": null
      }
     },
     "output_type": "display_data"
    },
    {
     "output_type": "display_data",
     "data": {
      "text/plain": [
       "Databricks visualization. Run in Databricks to view."
      ]
     },
     "metadata": {
      "application/vnd.databricks.v1.subcommand+json": {
       "baseErrorDetails": null,
       "bindings": {},
       "collapsed": false,
       "command": "%sql WITH q AS (SELECT * FROM resultado_final ORDER BY nota_final DESC) SELECT `pickup_zip`,SUM(`nota_final`) `column_170c85b5890` FROM q GROUP BY `pickup_zip`",
       "commandTitle": "Zonas de Alerta",
       "commandType": "auto",
       "commandVersion": 0,
       "commentThread": [],
       "commentsVisible": false,
       "contentSha256Hex": null,
       "customPlotOptions": {
        "redashChart": [
         {
          "key": "type",
          "value": "CHART"
         },
         {
          "key": "options",
          "value": {
           "alignYAxesAtZero": true,
           "coefficient": 1,
           "columnConfigurationMap": {
            "x": {
             "column": "pickup_zip",
             "id": "column_170c85b5888"
            },
            "y": [
             {
              "column": "nota_final",
              "id": "column_170c85b5890",
              "transform": "SUM"
             }
            ]
           },
           "dateTimeFormat": "DD/MM/YYYY HH:mm",
           "direction": {
            "type": "counterclockwise"
           },
           "error_y": {
            "type": "data",
            "visible": true
           },
           "globalSeriesType": "column",
           "isAggregationOn": true,
           "legend": {
            "traceorder": "normal"
           },
           "missingValuesAsZero": true,
           "numberFormat": "0,0.[00000]",
           "percentFormat": "0[.]00%",
           "reverseX": false,
           "series": {
            "error_y": {
             "type": "data",
             "visible": true
            },
            "stacking": null
           },
           "seriesOptions": {
            "column_170c85b5890": {
             "color": "#34495E",
             "type": "column",
             "yAxis": 0
            }
           },
           "showDataLabels": false,
           "sizemode": "diameter",
           "sortX": false,
           "sortY": true,
           "swappedAxes": true,
           "textFormat": "",
           "useAggregationsUi": true,
           "valuesOptions": {},
           "version": 2,
           "xAxis": {
            "labels": {
             "enabled": true
            },
            "type": "category"
           },
           "yAxis": [
            {
             "type": "-"
            },
            {
             "opposite": true,
             "type": "-"
            }
           ]
          }
         }
        ]
       },
       "datasetPreviewNameToCmdIdMap": {},
       "diffDeletes": [],
       "diffInserts": [],
       "displayType": "redashChart",
       "error": null,
       "errorDetails": null,
       "errorSummary": null,
       "errorTraceType": null,
       "finishTime": 0,
       "globalVars": {},
       "guid": "",
       "height": "auto",
       "hideCommandCode": false,
       "hideCommandResult": false,
       "iPythonMetadata": null,
       "inputWidgets": {},
       "isLockedInExamMode": false,
       "latestAssumeRoleInfo": null,
       "latestUser": "a user",
       "latestUserId": null,
       "listResultMetadata": null,
       "metadata": {},
       "nuid": "fabc92fe-d963-48fe-b36a-aeeffe0f9b64",
       "origId": 0,
       "parentHierarchy": [],
       "pivotAggregation": null,
       "pivotColumns": null,
       "position": 16.93701171875,
       "resultDbfsErrorMessage": null,
       "resultDbfsStatus": "INLINED_IN_TREE",
       "results": null,
       "showCommandTitle": false,
       "startTime": 0,
       "state": "input",
       "streamStates": {},
       "subcommandOptions": {
        "queryPlan": {
         "groups": [
          {
           "column": "pickup_zip",
           "type": "column"
          }
         ],
         "selects": [
          {
           "column": "pickup_zip",
           "type": "column"
          },
          {
           "alias": "column_170c85b5890",
           "args": [
            {
             "column": "nota_final",
             "type": "column"
            }
           ],
           "function": "SUM",
           "type": "function"
          }
         ]
        }
       },
       "submitTime": 0,
       "subtype": "tableResultSubCmd.visualization",
       "tableResultIndex": 0,
       "tableResultSettingsMap": {},
       "useConsistentColors": false,
       "version": "CommandV1",
       "width": "auto",
       "workflows": [],
       "xColumns": null,
       "yColumns": null
      }
     },
     "output_type": "display_data"
    }
   ],
   "source": [
    "SELECT * FROM resultado_final ORDER BY nota_final DESC\n"
   ]
  },
  {
   "cell_type": "markdown",
   "metadata": {
    "application/vnd.databricks.v1+cell": {
     "cellMetadata": {},
     "inputWidgets": {},
     "nuid": "8848861b-13c4-4be3-8d84-f2d680b181cb",
     "showTitle": false,
     "tableResultSettingsMap": {},
     "title": ""
    }
   },
   "source": [
    "### Zonas em Alerta\n",
    "\n",
    "Esta aba apresenta as zonas urbanas com **nota final abaixo de 6**, indicando risco elevado de insatisfação na jornada do cliente. A nota foi calculada com base em quatro indicadores operacionais:\n",
    "\n",
    "- Tempo médio de viagem  \n",
    "- Tarifa média  \n",
    "- Índice de frustração  \n",
    "- Proporção de corridas caras\n",
    "\n",
    "Cada métrica foi normalizada e ponderada conforme seu impacto na experiência. Zonas com nota baixa tendem a apresentar ineficiências operacionais, como corridas longas, caras ou pouco eficientes.\n",
    "\n",
    "#### \uD83C\uDFAF Objetivo\n",
    "Permitir que líderes operacionais identifiquem rapidamente os pontos críticos e tomem decisões baseadas em dados.\n",
    "\n",
    "#### \uD83D\uDCCC Recomendação\n",
    "Monitorar zonas com nota < 6, revisar rotas e precificação, e investigar causas sistêmicas que afetam a experiência.\n",
    "\n",
    "> Clique em uma zona para visualizar os detalhes operacionais e histórico de desempenho.\n"
   ]
  },
  {
   "cell_type": "markdown",
   "metadata": {
    "application/vnd.databricks.v1+cell": {
     "cellMetadata": {},
     "inputWidgets": {},
     "nuid": "a6430bd0-5a8f-4931-9254-933ece1402da",
     "showTitle": false,
     "tableResultSettingsMap": {},
     "title": ""
    }
   },
   "source": [
    "### Tabela de Zonas Críticas\n",
    "\n",
    "Esta tabela apresenta os indicadores operacionais por zona de embarque. As zonas com nota final abaixo de 6 são consideradas críticas e estão destacadas em vermelho.\n",
    "\n",
    "A tabela permite comparar os fatores que mais impactam a experiência do cliente em cada região — seja tempo de viagem, tarifa, frustração ou recorrência de corridas caras.\n",
    "\n",
    "> Use os filtros para explorar zonas específicas ou ajustar o limite de alerta.\n"
   ]
  },
  {
   "cell_type": "markdown",
   "metadata": {
    "application/vnd.databricks.v1+cell": {
     "cellMetadata": {},
     "inputWidgets": {},
     "nuid": "4d863eb4-c29f-488f-9fcb-493b0b4aed0b",
     "showTitle": false,
     "tableResultSettingsMap": {},
     "title": ""
    }
   },
   "source": [
    "### Ranking de Zonas por Nota Final\n",
    "\n",
    "Este gráfico apresenta as zonas urbanas ordenadas pela nota final simulada de experiência. A nota foi calculada com base em quatro indicadores operacionais: tempo médio, tarifa média, índice de frustração e proporção de corridas caras.\n",
    "\n",
    "Zonas com nota abaixo de 6 são consideradas críticas e devem ser monitoradas com atenção. A visualização permite identificar rapidamente os pontos de maior risco na jornada do cliente.\n",
    "\n",
    "> Clique em uma zona para visualizar os detalhes operacionais.\n"
   ]
  },
  {
   "cell_type": "markdown",
   "metadata": {
    "application/vnd.databricks.v1+cell": {
     "cellMetadata": {},
     "inputWidgets": {},
     "nuid": "36209ce4-a060-4795-93d7-a1bd41678f6c",
     "showTitle": false,
     "tableResultSettingsMap": {},
     "title": ""
    }
   },
   "source": [
    "### Experiência Geral nas Zonas Urbanas\n",
    "\n",
    "Este gráfico de pizza simula um indicador circular da média de experiência nas zonas urbanas. A nota é composta por quatro métricas operacionais e varia de 0 a 10.\n",
    "\n",
    "A fatia verde representa a média atual de desempenho. A fatia cinza mostra o quanto falta para atingir a nota máxima.\n",
    "\n",
    "> Use este indicador como termômetro geral da operação.\n"
   ]
  },
  {
   "cell_type": "code",
   "execution_count": 0,
   "metadata": {
    "application/vnd.databricks.v1+cell": {
     "cellMetadata": {
      "byteLimit": 2048000,
      "rowLimit": 10000
     },
     "inputWidgets": {},
     "nuid": "8a865b58-a74a-4f42-a9bc-0692ad586ca2",
     "showTitle": false,
     "tableResultSettingsMap": {},
     "title": ""
    }
   },
   "outputs": [
    {
     "output_type": "display_data",
     "data": {
      "text/html": [
       "<style scoped>\n",
       "  .table-result-container {\n",
       "    max-height: 300px;\n",
       "    overflow: auto;\n",
       "  }\n",
       "  table, th, td {\n",
       "    border: 1px solid black;\n",
       "    border-collapse: collapse;\n",
       "  }\n",
       "  th, td {\n",
       "    padding: 5px;\n",
       "  }\n",
       "  th {\n",
       "    text-align: left;\n",
       "  }\n",
       "</style><div class='table-result-container'><table class='table-result'><thead style='background-color: white'><tr><th>categoria</th><th>valor</th></tr></thead><tbody><tr><td>Experiência</td><td>7.24</td></tr><tr><td>Gap</td><td>2.76</td></tr></tbody></table></div>"
      ]
     },
     "metadata": {
      "application/vnd.databricks.v1+output": {
       "addedWidgets": {},
       "aggData": [],
       "aggError": "",
       "aggOverflow": false,
       "aggSchema": [],
       "aggSeriesLimitReached": false,
       "aggType": "",
       "arguments": {},
       "columnCustomDisplayInfos": {},
       "data": [
        [
         "Experiência",
         7.24
        ],
        [
         "Gap",
         2.76
        ]
       ],
       "datasetInfos": [
        {
         "name": "_sqldf",
         "schema": {
          "fields": [
           {
            "metadata": {},
            "name": "categoria",
            "nullable": false,
            "type": "string"
           },
           {
            "metadata": {},
            "name": "valor",
            "nullable": true,
            "type": "double"
           }
          ],
          "type": "struct"
         },
         "tableIdentifier": null,
         "typeStr": "pyspark.sql.connect.dataframe.DataFrame"
        }
       ],
       "dbfsResultPath": null,
       "isJsonSchema": true,
       "metadata": {
        "createTempViewForImplicitDf": true,
        "dataframeName": "_sqldf",
        "executionCount": 129
       },
       "overflow": false,
       "plotOptions": {
        "customPlotOptions": {},
        "displayType": "table",
        "pivotAggregation": null,
        "pivotColumns": null,
        "xColumns": null,
        "yColumns": null
       },
       "removedWidgets": [],
       "schema": [
        {
         "metadata": "{}",
         "name": "categoria",
         "type": "\"string\""
        },
        {
         "metadata": "{}",
         "name": "valor",
         "type": "\"double\""
        }
       ],
       "type": "table"
      }
     },
     "output_type": "display_data"
    },
    {
     "output_type": "display_data",
     "data": {
      "text/plain": [
       "Databricks visualization. Run in Databricks to view."
      ]
     },
     "metadata": {
      "application/vnd.databricks.v1.subcommand+json": {
       "baseErrorDetails": null,
       "bindings": {},
       "collapsed": false,
       "command": "%sql WITH q AS (SELECT 'Experiência' AS categoria, ROUND(AVG(nota_final), 2) AS valor\nFROM resultado_final\nUNION ALL\nSELECT 'Gap', ROUND(10 - AVG(nota_final), 2) AS valor\nFROM resultado_final) SELECT `categoria`,SUM(`valor`) `column_170c85b51105` FROM q GROUP BY `categoria`",
       "commandTitle": "Experiencia Geral",
       "commandType": "auto",
       "commandVersion": 0,
       "commentThread": [],
       "commentsVisible": false,
       "contentSha256Hex": null,
       "customPlotOptions": {
        "redashChart": [
         {
          "key": "type",
          "value": "CHART"
         },
         {
          "key": "options",
          "value": {
           "alignYAxesAtZero": true,
           "coefficient": 1,
           "columnConfigurationMap": {
            "x": {
             "column": "categoria",
             "id": "column_170c85b51104"
            },
            "y": [
             {
              "column": "valor",
              "id": "column_170c85b51105",
              "transform": "SUM"
             }
            ]
           },
           "dateTimeFormat": "DD/MM/YYYY HH:mm",
           "direction": {
            "type": "counterclockwise"
           },
           "error_y": {
            "type": "data",
            "visible": true
           },
           "globalSeriesType": "pie",
           "isAggregationOn": true,
           "legend": {
            "traceorder": "normal"
           },
           "missingValuesAsZero": true,
           "numberFormat": "0,0.[00000]",
           "percentFormat": "0[.]00%",
           "series": {
            "error_y": {
             "type": "data",
             "visible": true
            },
            "stacking": null
           },
           "seriesOptions": {
            "column_170c85b51105": {
             "name": "Média de Experiência",
             "type": "pie",
             "yAxis": 0
            }
           },
           "showDataLabels": true,
           "sizemode": "diameter",
           "sortX": true,
           "sortY": true,
           "swappedAxes": false,
           "textFormat": "",
           "useAggregationsUi": true,
           "valuesOptions": {
            "Experiência": {
             "color": "#00A972"
            },
            "Gap": {
             "color": "#919191"
            }
           },
           "version": 2,
           "xAxis": {
            "labels": {
             "enabled": true
            },
            "type": "-"
           },
           "yAxis": [
            {
             "type": "-"
            },
            {
             "opposite": true,
             "type": "-"
            }
           ]
          }
         }
        ]
       },
       "datasetPreviewNameToCmdIdMap": {},
       "diffDeletes": [],
       "diffInserts": [],
       "displayType": "redashChart",
       "error": null,
       "errorDetails": null,
       "errorSummary": null,
       "errorTraceType": null,
       "finishTime": 0,
       "globalVars": {},
       "guid": "",
       "height": "auto",
       "hideCommandCode": false,
       "hideCommandResult": false,
       "iPythonMetadata": null,
       "inputWidgets": {},
       "isLockedInExamMode": false,
       "latestAssumeRoleInfo": null,
       "latestUser": "a user",
       "latestUserId": null,
       "listResultMetadata": null,
       "metadata": {},
       "nuid": "50680328-9e12-452a-9275-87b7d669ec65",
       "origId": 0,
       "parentHierarchy": [],
       "pivotAggregation": null,
       "pivotColumns": null,
       "position": 14.93743896484375,
       "resultDbfsErrorMessage": null,
       "resultDbfsStatus": "INLINED_IN_TREE",
       "results": null,
       "showCommandTitle": false,
       "startTime": 0,
       "state": "input",
       "streamStates": {},
       "subcommandOptions": {
        "queryPlan": {
         "groups": [
          {
           "column": "categoria",
           "type": "column"
          }
         ],
         "selects": [
          {
           "column": "categoria",
           "type": "column"
          },
          {
           "alias": "column_170c85b51105",
           "args": [
            {
             "column": "valor",
             "type": "column"
            }
           ],
           "function": "SUM",
           "type": "function"
          }
         ]
        }
       },
       "submitTime": 0,
       "subtype": "tableResultSubCmd.visualization",
       "tableResultIndex": 0,
       "tableResultSettingsMap": {},
       "useConsistentColors": false,
       "version": "CommandV1",
       "width": "auto",
       "workflows": [],
       "xColumns": null,
       "yColumns": null
      }
     },
     "output_type": "display_data"
    }
   ],
   "source": [
    "SELECT 'Experiência' AS categoria, ROUND(AVG(nota_final), 2) AS valor\n",
    "FROM resultado_final\n",
    "UNION ALL\n",
    "SELECT 'Gap', ROUND(10 - AVG(nota_final), 2) AS valor\n",
    "FROM resultado_final\n"
   ]
  },
  {
   "cell_type": "code",
   "execution_count": 0,
   "metadata": {
    "application/vnd.databricks.v1+cell": {
     "cellMetadata": {
      "byteLimit": 2048000,
      "rowLimit": 10000
     },
     "inputWidgets": {},
     "nuid": "3ca400f3-51f1-4702-b376-473c88e837c3",
     "showTitle": false,
     "tableResultSettingsMap": {},
     "title": ""
    }
   },
   "outputs": [
    {
     "output_type": "display_data",
     "data": {
      "text/html": [
       "<style scoped>\n",
       "  .table-result-container {\n",
       "    max-height: 300px;\n",
       "    overflow: auto;\n",
       "  }\n",
       "  table, th, td {\n",
       "    border: 1px solid black;\n",
       "    border-collapse: collapse;\n",
       "  }\n",
       "  th, td {\n",
       "    padding: 5px;\n",
       "  }\n",
       "  th {\n",
       "    text-align: left;\n",
       "  }\n",
       "</style><div class='table-result-container'><table class='table-result'><thead style='background-color: white'><tr><th>num_affected_rows</th><th>num_inserted_rows</th></tr></thead><tbody></tbody></table></div>"
      ]
     },
     "metadata": {
      "application/vnd.databricks.v1+output": {
       "addedWidgets": {},
       "aggData": [],
       "aggError": "",
       "aggOverflow": false,
       "aggSchema": [],
       "aggSeriesLimitReached": false,
       "aggType": "",
       "arguments": {},
       "columnCustomDisplayInfos": {},
       "data": [],
       "datasetInfos": [
        {
         "name": "_sqldf",
         "schema": {
          "fields": [
           {
            "metadata": {},
            "name": "num_affected_rows",
            "nullable": true,
            "type": "long"
           },
           {
            "metadata": {},
            "name": "num_inserted_rows",
            "nullable": true,
            "type": "long"
           }
          ],
          "type": "struct"
         },
         "tableIdentifier": null,
         "typeStr": "pyspark.sql.connect.dataframe.DataFrame"
        }
       ],
       "dbfsResultPath": null,
       "isJsonSchema": true,
       "metadata": {
        "createTempViewForImplicitDf": true,
        "dataframeName": "_sqldf",
        "executionCount": 152
       },
       "overflow": false,
       "plotOptions": {
        "customPlotOptions": {},
        "displayType": "table",
        "pivotAggregation": null,
        "pivotColumns": null,
        "xColumns": null,
        "yColumns": null
       },
       "removedWidgets": [],
       "schema": [
        {
         "metadata": "{}",
         "name": "num_affected_rows",
         "type": "\"long\""
        },
        {
         "metadata": "{}",
         "name": "num_inserted_rows",
         "type": "\"long\""
        }
       ],
       "type": "table"
      }
     },
     "output_type": "display_data"
    }
   ],
   "source": [
    "CREATE OR REPLACE TABLE resultado_final_export AS\n",
    "SELECT * FROM resultado_final\n"
   ]
  },
  {
   "cell_type": "markdown",
   "metadata": {
    "application/vnd.databricks.v1+cell": {
     "cellMetadata": {},
     "inputWidgets": {},
     "nuid": "d372239e-c074-4bed-8756-4b65b2fe85c8",
     "showTitle": false,
     "tableResultSettingsMap": {},
     "title": ""
    }
   },
   "source": [
    "### \uD83D\uDD04 Exportar dados para Power BI\n",
    "\n",
    "Execute a célula abaixo e clique em “Download CSV” para obter o arquivo completo com todas as zonas urbanas e seus indicadores. Use este arquivo como base para montar os visuais no Power BI.\n",
    "\n"
   ]
  },
  {
   "cell_type": "code",
   "execution_count": 0,
   "metadata": {
    "application/vnd.databricks.v1+cell": {
     "cellMetadata": {
      "byteLimit": 2048000,
      "rowLimit": 10000
     },
     "inputWidgets": {},
     "nuid": "43b95e7d-af44-49b6-8e94-03f58ca95873",
     "showTitle": false,
     "tableResultSettingsMap": {},
     "title": ""
    }
   },
   "outputs": [
    {
     "output_type": "display_data",
     "data": {
      "text/html": [
       "<style scoped>\n",
       "  .table-result-container {\n",
       "    max-height: 300px;\n",
       "    overflow: auto;\n",
       "  }\n",
       "  table, th, td {\n",
       "    border: 1px solid black;\n",
       "    border-collapse: collapse;\n",
       "  }\n",
       "  th, td {\n",
       "    padding: 5px;\n",
       "  }\n",
       "  th {\n",
       "    text-align: left;\n",
       "  }\n",
       "</style><div class='table-result-container'><table class='table-result'><thead style='background-color: white'><tr><th>pickup_zip</th><th>tempo_medio</th><th>tarifa_media</th><th>frustracao_media</th><th>proporcao_tarifa_alta</th><th>nota_final</th></tr></thead><tbody><tr><td>11224</td><td>21.5</td><td>29.25</td><td>63.89</td><td>0.50</td><td>6.28</td></tr><tr><td>11368</td><td>12.0</td><td>52.0</td><td>70.11</td><td>1.00</td><td>4.95</td></tr><tr><td>10001</td><td>14.01</td><td>10.62</td><td>79.89</td><td>0.26</td><td>7.54</td></tr><tr><td>10021</td><td>11.05</td><td>10.14</td><td>63.39</td><td>0.25</td><td>7.92</td></tr><tr><td>11233</td><td>11.0</td><td>9.5</td><td>73.09</td><td>0.33</td><td>7.75</td></tr><tr><td>11231</td><td>11.43</td><td>11.87</td><td>58.2</td><td>0.39</td><td>7.75</td></tr><tr><td>10027</td><td>10.54</td><td>11.03</td><td>48.77</td><td>0.29</td><td>8.06</td></tr><tr><td>10028</td><td>11.81</td><td>10.16</td><td>59.96</td><td>0.26</td><td>7.93</td></tr><tr><td>11370</td><td>28.12</td><td>25.31</td><td>98.29</td><td>0.81</td><td>5.43</td></tr><tr><td>11003</td><td>0.0</td><td>0.0</td><td>0.0</td><td>0.00</td><td>10.0</td></tr><tr><td>7002</td><td>13.0</td><td>10.5</td><td>93.29</td><td>0.50</td><td>7.17</td></tr><tr><td>10023</td><td>11.9</td><td>10.05</td><td>67.86</td><td>0.21</td><td>7.87</td></tr><tr><td>10031</td><td>9.63</td><td>10.29</td><td>44.8</td><td>0.26</td><td>8.22</td></tr><tr><td>10271</td><td>16.06</td><td>15.52</td><td>68.24</td><td>0.63</td><td>7.0</td></tr><tr><td>10022</td><td>13.43</td><td>9.85</td><td>70.85</td><td>0.22</td><td>7.77</td></tr><tr><td>11378</td><td>7.0</td><td>27.25</td><td>59.67</td><td>0.50</td><td>7.04</td></tr><tr><td>10199</td><td>14.75</td><td>10.74</td><td>97.65</td><td>0.24</td><td>7.29</td></tr><tr><td>11220</td><td>4.0</td><td>6.0</td><td>19.05</td><td>0.00</td><td>9.28</td></tr><tr><td>10006</td><td>15.57</td><td>15.32</td><td>65.42</td><td>0.61</td><td>7.09</td></tr><tr><td>10037</td><td>11.96</td><td>12.79</td><td>55.05</td><td>0.25</td><td>7.87</td></tr><tr><td>11201</td><td>12.72</td><td>13.63</td><td>54.74</td><td>0.43</td><td>7.62</td></tr><tr><td>10502</td><td>0.0</td><td>0.0</td><td>0.0</td><td>0.00</td><td>10.0</td></tr><tr><td>11223</td><td>7.0</td><td>7.5</td><td>32.01</td><td>0.00</td><td>8.9</td></tr><tr><td>11356</td><td>10.0</td><td>15.0</td><td>33.33</td><td>1.00</td><td>7.39</td></tr><tr><td>10034</td><td>11.78</td><td>16.67</td><td>48.64</td><td>0.44</td><td>7.58</td></tr><tr><td>10305</td><td>20.0</td><td>13.5</td><td>135.0</td><td>1.00</td><td>5.66</td></tr><tr><td>10019</td><td>11.6</td><td>10.96</td><td>63.08</td><td>0.27</td><td>7.85</td></tr><tr><td>10002</td><td>14.4</td><td>12.18</td><td>66.38</td><td>0.36</td><td>7.53</td></tr><tr><td>10460</td><td>9.0</td><td>9.33</td><td>39.95</td><td>0.00</td><td>8.62</td></tr><tr><td>11206</td><td>10.52</td><td>11.02</td><td>46.39</td><td>0.24</td><td>8.14</td></tr><tr><td>11215</td><td>16.0</td><td>13.73</td><td>72.58</td><td>0.67</td><td>7.0</td></tr><tr><td>11418</td><td>3.0</td><td>5.0</td><td>19.48</td><td>0.00</td><td>9.36</td></tr><tr><td>10024</td><td>5.0</td><td>6.5</td><td>25.0</td><td>0.00</td><td>9.13</td></tr><tr><td>11430</td><td>73.25</td><td>52.0</td><td>219.65</td><td>1.00</td><td>0.4</td></tr><tr><td>10282</td><td>14.66</td><td>14.46</td><td>64.84</td><td>0.58</td><td>7.21</td></tr><tr><td>11235</td><td>29.5</td><td>33.25</td><td>90.24</td><td>0.50</td><td>5.4</td></tr><tr><td>10020</td><td>15.47</td><td>11.7</td><td>80.21</td><td>0.27</td><td>7.42</td></tr><tr><td>11373</td><td>15.5</td><td>16.63</td><td>56.56</td><td>0.75</td><td>7.01</td></tr><tr><td>10167</td><td>12.3</td><td>11.61</td><td>69.92</td><td>0.26</td><td>7.7</td></tr><tr><td>11420</td><td>48.0</td><td>52.0</td><td>168.65</td><td>1.00</td><td>2.13</td></tr><tr><td>11435</td><td>36.0</td><td>26.0</td><td>129.52</td><td>0.50</td><td>4.96</td></tr><tr><td>11218</td><td>30.0</td><td>20.0</td><td>136.36</td><td>1.00</td><td>4.91</td></tr><tr><td>11237</td><td>12.0</td><td>12.4</td><td>47.32</td><td>0.33</td><td>7.91</td></tr><tr><td>10007</td><td>22.86</td><td>13.89</td><td>114.66</td><td>0.46</td><td>6.34</td></tr><tr><td>11417</td><td>23.5</td><td>25.0</td><td>86.0</td><td>1.00</td><td>5.61</td></tr><tr><td>10474</td><td>10.0</td><td>8.5</td><td>47.22</td><td>0.00</td><td>8.52</td></tr><tr><td>11109</td><td>12.3</td><td>17.8</td><td>83.8</td><td>0.48</td><td>6.98</td></tr><tr><td>10038</td><td>15.41</td><td>16.18</td><td>63.88</td><td>0.44</td><td>7.25</td></tr><tr><td>10065</td><td>15.71</td><td>9.75</td><td>104.32</td><td>0.22</td><td>7.22</td></tr><tr><td>11207</td><td>19.5</td><td>20.5</td><td>70.58</td><td>1.00</td><td>6.21</td></tr><tr><td>10012</td><td>12.76</td><td>11.38</td><td>67.37</td><td>0.33</td><td>7.66</td></tr><tr><td>11209</td><td>15.5</td><td>19.25</td><td>57.99</td><td>0.50</td><td>7.11</td></tr><tr><td>10470</td><td>20.0</td><td>28.0</td><td>59.83</td><td>1.00</td><td>5.96</td></tr><tr><td>10115</td><td>10.93</td><td>11.89</td><td>57.65</td><td>0.35</td><td>7.82</td></tr><tr><td>11106</td><td>9.8</td><td>11.07</td><td>47.45</td><td>0.29</td><td>8.11</td></tr><tr><td>11216</td><td>14.88</td><td>15.63</td><td>61.01</td><td>0.38</td><td>7.4</td></tr><tr><td>11101</td><td>13.28</td><td>16.06</td><td>67.7</td><td>0.50</td><td>7.23</td></tr><tr><td>11225</td><td>15.6</td><td>14.6</td><td>62.59</td><td>0.40</td><td>7.38</td></tr><tr><td>11371</td><td>30.11</td><td>30.63</td><td>100.38</td><td>0.96</td><td>4.9</td></tr><tr><td>11423</td><td>16.0</td><td>11.5</td><td>114.29</td><td>0.00</td><td>7.21</td></tr><tr><td>11226</td><td>20.25</td><td>18.75</td><td>79.01</td><td>0.50</td><td>6.65</td></tr><tr><td>10119</td><td>18.46</td><td>10.92</td><td>109.31</td><td>0.27</td><td>6.93</td></tr><tr><td>10451</td><td>8.5</td><td>8.63</td><td>40.78</td><td>0.00</td><td>8.66</td></tr><tr><td>10016</td><td>11.83</td><td>10.96</td><td>62.34</td><td>0.26</td><td>7.86</td></tr><tr><td>10014</td><td>17.74</td><td>10.92</td><td>92.23</td><td>0.29</td><td>7.18</td></tr><tr><td>10044</td><td>11.51</td><td>10.95</td><td>58.42</td><td>0.29</td><td>7.89</td></tr><tr><td>11222</td><td>15.19</td><td>14.24</td><td>66.74</td><td>0.57</td><td>7.18</td></tr><tr><td>11355</td><td>9.0</td><td>11.0</td><td>38.37</td><td>0.00</td><td>8.56</td></tr><tr><td>10162</td><td>10.1</td><td>9.99</td><td>49.33</td><td>0.23</td><td>8.18</td></tr><tr><td>10017</td><td>13.57</td><td>11.33</td><td>86.73</td><td>0.25</td><td>7.44</td></tr><tr><td>11211</td><td>12.65</td><td>12.3</td><td>55.38</td><td>0.39</td><td>7.72</td></tr><tr><td>10032</td><td>16.27</td><td>16.63</td><td>70.14</td><td>0.73</td><td>6.81</td></tr><tr><td>7718</td><td>4.0</td><td>5.0</td><td>25.0</td><td>0.00</td><td>9.24</td></tr><tr><td>11212</td><td>2.0</td><td>4.0</td><td>12.5</td><td>0.00</td><td>9.55</td></tr><tr><td>10013</td><td>13.95</td><td>13.84</td><td>71.1</td><td>0.40</td><td>7.37</td></tr><tr><td>10452</td><td>12.0</td><td>13.88</td><td>47.03</td><td>0.50</td><td>7.67</td></tr><tr><td>10112</td><td>13.02</td><td>11.71</td><td>70.56</td><td>0.22</td><td>7.7</td></tr><tr><td>10103</td><td>18.59</td><td>12.56</td><td>106.18</td><td>0.33</td><td>6.83</td></tr><tr><td>11436</td><td>28.91</td><td>42.32</td><td>97.22</td><td>0.82</td><td>4.55</td></tr><tr><td>11208</td><td>12.0</td><td>19.0</td><td>36.08</td><td>1.00</td><td>7.07</td></tr><tr><td>11105</td><td>10.46</td><td>12.31</td><td>46.94</td><td>0.31</td><td>8.0</td></tr><tr><td>10069</td><td>10.4</td><td>9.78</td><td>53.83</td><td>0.19</td><td>8.16</td></tr><tr><td>10011</td><td>14.5</td><td>10.92</td><td>74.44</td><td>0.26</td><td>7.58</td></tr><tr><td>10152</td><td>11.28</td><td>10.13</td><td>64.09</td><td>0.16</td><td>8.0</td></tr><tr><td>10111</td><td>20.68</td><td>10.69</td><td>120.18</td><td>0.24</td><td>6.74</td></tr><tr><td>7737</td><td>23.0</td><td>15.5</td><td>122.09</td><td>1.00</td><td>5.62</td></tr><tr><td>10003</td><td>11.94</td><td>10.99</td><td>64.25</td><td>0.31</td><td>7.77</td></tr><tr><td>7030</td><td>0.0</td><td>40.0</td><td>0.0</td><td>1.00</td><td>7.0</td></tr><tr><td>10029</td><td>11.15</td><td>10.79</td><td>56.04</td><td>0.27</td><td>7.97</td></tr><tr><td>10280</td><td>15.33</td><td>16.33</td><td>63.57</td><td>0.62</td><td>7.07</td></tr><tr><td>10005</td><td>16.08</td><td>15.87</td><td>67.39</td><td>0.63</td><td>7.0</td></tr><tr><td>10110</td><td>11.76</td><td>10.86</td><td>67.22</td><td>0.25</td><td>7.81</td></tr><tr><td>11205</td><td>14.95</td><td>13.95</td><td>65.1</td><td>0.36</td><td>7.44</td></tr><tr><td>10026</td><td>10.94</td><td>10.4</td><td>54.35</td><td>0.30</td><td>7.99</td></tr><tr><td>11103</td><td>10.19</td><td>11.03</td><td>47.69</td><td>0.25</td><td>8.13</td></tr><tr><td>11238</td><td>11.94</td><td>11.44</td><td>55.18</td><td>0.25</td><td>7.94</td></tr><tr><td>10278</td><td>14.23</td><td>12.99</td><td>71.57</td><td>0.44</td><td>7.35</td></tr><tr><td>10025</td><td>16.88</td><td>11.68</td><td>72.83</td><td>0.33</td><td>7.4</td></tr><tr><td>10454</td><td>3.0</td><td>5.0</td><td>17.65</td><td>0.00</td><td>9.39</td></tr><tr><td>10153</td><td>10.83</td><td>9.78</td><td>60.49</td><td>0.18</td><td>8.06</td></tr><tr><td>11375</td><td>30.33</td><td>33.0</td><td>95.49</td><td>1.00</td><td>4.8</td></tr><tr><td>11369</td><td>9.5</td><td>29.63</td><td>60.2</td><td>0.25</td><td>7.06</td></tr><tr><td>10171</td><td>13.42</td><td>12.04</td><td>78.43</td><td>0.34</td><td>7.44</td></tr><tr><td>11377</td><td>15.29</td><td>13.25</td><td>71.6</td><td>0.38</td><td>7.35</td></tr><tr><td>10009</td><td>13.44</td><td>11.13</td><td>71.22</td><td>0.29</td><td>7.63</td></tr><tr><td>10035</td><td>10.21</td><td>12.25</td><td>45.02</td><td>0.37</td><td>7.98</td></tr><tr><td>10154</td><td>18.19</td><td>11.73</td><td>98.97</td><td>0.30</td><td>7.02</td></tr><tr><td>10030</td><td>10.28</td><td>10.75</td><td>54.95</td><td>0.28</td><td>8.01</td></tr><tr><td>10468</td><td>1.5</td><td>4.0</td><td>11.22</td><td>0.00</td><td>9.59</td></tr><tr><td>11104</td><td>13.07</td><td>12.24</td><td>59.0</td><td>0.52</td><td>7.53</td></tr><tr><td>11221</td><td>26.5</td><td>21.75</td><td>108.69</td><td>1.00</td><td>5.34</td></tr><tr><td>11422</td><td>42.13</td><td>45.23</td><td>121.99</td><td>0.98</td><td>3.37</td></tr><tr><td>11424</td><td>23.5</td><td>34.25</td><td>177.03</td><td>1.00</td><td>3.91</td></tr><tr><td>7311</td><td>0.0</td><td>60.0</td><td>0.0</td><td>1.00</td><td>6.0</td></tr><tr><td>11210</td><td>12.0</td><td>13.75</td><td>43.37</td><td>0.50</td><td>7.73</td></tr><tr><td>11372</td><td>10.53</td><td>12.37</td><td>48.26</td><td>0.33</td><td>7.96</td></tr><tr><td>11102</td><td>12.06</td><td>11.88</td><td>51.91</td><td>0.47</td><td>7.73</td></tr><tr><td>10039</td><td>7.6</td><td>7.7</td><td>50.09</td><td>0.20</td><td>8.42</td></tr><tr><td>11230</td><td>16.33</td><td>20.83</td><td>55.17</td><td>0.33</td><td>7.21</td></tr><tr><td>7087</td><td>38.0</td><td>31.0</td><td>135.87</td><td>1.00</td><td>4.04</td></tr><tr><td>10018</td><td>15.14</td><td>11.41</td><td>79.15</td><td>0.29</td><td>7.44</td></tr><tr><td>11217</td><td>12.5</td><td>12.4</td><td>57.2</td><td>0.35</td><td>7.74</td></tr></tbody></table></div>"
      ]
     },
     "metadata": {
      "application/vnd.databricks.v1+output": {
       "addedWidgets": {},
       "aggData": [],
       "aggError": "",
       "aggOverflow": false,
       "aggSchema": [],
       "aggSeriesLimitReached": false,
       "aggType": "",
       "arguments": {},
       "columnCustomDisplayInfos": {},
       "data": [
        [
         11224,
         21.5,
         29.25,
         63.89,
         "0.50",
         6.28
        ],
        [
         11368,
         12.0,
         52.0,
         70.11,
         "1.00",
         4.95
        ],
        [
         10001,
         14.01,
         10.62,
         79.89,
         "0.26",
         7.54
        ],
        [
         10021,
         11.05,
         10.14,
         63.39,
         "0.25",
         7.92
        ],
        [
         11233,
         11.0,
         9.5,
         73.09,
         "0.33",
         7.75
        ],
        [
         11231,
         11.43,
         11.87,
         58.2,
         "0.39",
         7.75
        ],
        [
         10027,
         10.54,
         11.03,
         48.77,
         "0.29",
         8.06
        ],
        [
         10028,
         11.81,
         10.16,
         59.96,
         "0.26",
         7.93
        ],
        [
         11370,
         28.12,
         25.31,
         98.29,
         "0.81",
         5.43
        ],
        [
         11003,
         0.0,
         0.0,
         0.0,
         "0.00",
         10.0
        ],
        [
         7002,
         13.0,
         10.5,
         93.29,
         "0.50",
         7.17
        ],
        [
         10023,
         11.9,
         10.05,
         67.86,
         "0.21",
         7.87
        ],
        [
         10031,
         9.63,
         10.29,
         44.8,
         "0.26",
         8.22
        ],
        [
         10271,
         16.06,
         15.52,
         68.24,
         "0.63",
         7.0
        ],
        [
         10022,
         13.43,
         9.85,
         70.85,
         "0.22",
         7.77
        ],
        [
         11378,
         7.0,
         27.25,
         59.67,
         "0.50",
         7.04
        ],
        [
         10199,
         14.75,
         10.74,
         97.65,
         "0.24",
         7.29
        ],
        [
         11220,
         4.0,
         6.0,
         19.05,
         "0.00",
         9.28
        ],
        [
         10006,
         15.57,
         15.32,
         65.42,
         "0.61",
         7.09
        ],
        [
         10037,
         11.96,
         12.79,
         55.05,
         "0.25",
         7.87
        ],
        [
         11201,
         12.72,
         13.63,
         54.74,
         "0.43",
         7.62
        ],
        [
         10502,
         0.0,
         0.0,
         0.0,
         "0.00",
         10.0
        ],
        [
         11223,
         7.0,
         7.5,
         32.01,
         "0.00",
         8.9
        ],
        [
         11356,
         10.0,
         15.0,
         33.33,
         "1.00",
         7.39
        ],
        [
         10034,
         11.78,
         16.67,
         48.64,
         "0.44",
         7.58
        ],
        [
         10305,
         20.0,
         13.5,
         135.0,
         "1.00",
         5.66
        ],
        [
         10019,
         11.6,
         10.96,
         63.08,
         "0.27",
         7.85
        ],
        [
         10002,
         14.4,
         12.18,
         66.38,
         "0.36",
         7.53
        ],
        [
         10460,
         9.0,
         9.33,
         39.95,
         "0.00",
         8.62
        ],
        [
         11206,
         10.52,
         11.02,
         46.39,
         "0.24",
         8.14
        ],
        [
         11215,
         16.0,
         13.73,
         72.58,
         "0.67",
         7.0
        ],
        [
         11418,
         3.0,
         5.0,
         19.48,
         "0.00",
         9.36
        ],
        [
         10024,
         5.0,
         6.5,
         25.0,
         "0.00",
         9.13
        ],
        [
         11430,
         73.25,
         52.0,
         219.65,
         "1.00",
         0.4
        ],
        [
         10282,
         14.66,
         14.46,
         64.84,
         "0.58",
         7.21
        ],
        [
         11235,
         29.5,
         33.25,
         90.24,
         "0.50",
         5.4
        ],
        [
         10020,
         15.47,
         11.7,
         80.21,
         "0.27",
         7.42
        ],
        [
         11373,
         15.5,
         16.63,
         56.56,
         "0.75",
         7.01
        ],
        [
         10167,
         12.3,
         11.61,
         69.92,
         "0.26",
         7.7
        ],
        [
         11420,
         48.0,
         52.0,
         168.65,
         "1.00",
         2.13
        ],
        [
         11435,
         36.0,
         26.0,
         129.52,
         "0.50",
         4.96
        ],
        [
         11218,
         30.0,
         20.0,
         136.36,
         "1.00",
         4.91
        ],
        [
         11237,
         12.0,
         12.4,
         47.32,
         "0.33",
         7.91
        ],
        [
         10007,
         22.86,
         13.89,
         114.66,
         "0.46",
         6.34
        ],
        [
         11417,
         23.5,
         25.0,
         86.0,
         "1.00",
         5.61
        ],
        [
         10474,
         10.0,
         8.5,
         47.22,
         "0.00",
         8.52
        ],
        [
         11109,
         12.3,
         17.8,
         83.8,
         "0.48",
         6.98
        ],
        [
         10038,
         15.41,
         16.18,
         63.88,
         "0.44",
         7.25
        ],
        [
         10065,
         15.71,
         9.75,
         104.32,
         "0.22",
         7.22
        ],
        [
         11207,
         19.5,
         20.5,
         70.58,
         "1.00",
         6.21
        ],
        [
         10012,
         12.76,
         11.38,
         67.37,
         "0.33",
         7.66
        ],
        [
         11209,
         15.5,
         19.25,
         57.99,
         "0.50",
         7.11
        ],
        [
         10470,
         20.0,
         28.0,
         59.83,
         "1.00",
         5.96
        ],
        [
         10115,
         10.93,
         11.89,
         57.65,
         "0.35",
         7.82
        ],
        [
         11106,
         9.8,
         11.07,
         47.45,
         "0.29",
         8.11
        ],
        [
         11216,
         14.88,
         15.63,
         61.01,
         "0.38",
         7.4
        ],
        [
         11101,
         13.28,
         16.06,
         67.7,
         "0.50",
         7.23
        ],
        [
         11225,
         15.6,
         14.6,
         62.59,
         "0.40",
         7.38
        ],
        [
         11371,
         30.11,
         30.63,
         100.38,
         "0.96",
         4.9
        ],
        [
         11423,
         16.0,
         11.5,
         114.29,
         "0.00",
         7.21
        ],
        [
         11226,
         20.25,
         18.75,
         79.01,
         "0.50",
         6.65
        ],
        [
         10119,
         18.46,
         10.92,
         109.31,
         "0.27",
         6.93
        ],
        [
         10451,
         8.5,
         8.63,
         40.78,
         "0.00",
         8.66
        ],
        [
         10016,
         11.83,
         10.96,
         62.34,
         "0.26",
         7.86
        ],
        [
         10014,
         17.74,
         10.92,
         92.23,
         "0.29",
         7.18
        ],
        [
         10044,
         11.51,
         10.95,
         58.42,
         "0.29",
         7.89
        ],
        [
         11222,
         15.19,
         14.24,
         66.74,
         "0.57",
         7.18
        ],
        [
         11355,
         9.0,
         11.0,
         38.37,
         "0.00",
         8.56
        ],
        [
         10162,
         10.1,
         9.99,
         49.33,
         "0.23",
         8.18
        ],
        [
         10017,
         13.57,
         11.33,
         86.73,
         "0.25",
         7.44
        ],
        [
         11211,
         12.65,
         12.3,
         55.38,
         "0.39",
         7.72
        ],
        [
         10032,
         16.27,
         16.63,
         70.14,
         "0.73",
         6.81
        ],
        [
         7718,
         4.0,
         5.0,
         25.0,
         "0.00",
         9.24
        ],
        [
         11212,
         2.0,
         4.0,
         12.5,
         "0.00",
         9.55
        ],
        [
         10013,
         13.95,
         13.84,
         71.1,
         "0.40",
         7.37
        ],
        [
         10452,
         12.0,
         13.88,
         47.03,
         "0.50",
         7.67
        ],
        [
         10112,
         13.02,
         11.71,
         70.56,
         "0.22",
         7.7
        ],
        [
         10103,
         18.59,
         12.56,
         106.18,
         "0.33",
         6.83
        ],
        [
         11436,
         28.91,
         42.32,
         97.22,
         "0.82",
         4.55
        ],
        [
         11208,
         12.0,
         19.0,
         36.08,
         "1.00",
         7.07
        ],
        [
         11105,
         10.46,
         12.31,
         46.94,
         "0.31",
         8.0
        ],
        [
         10069,
         10.4,
         9.78,
         53.83,
         "0.19",
         8.16
        ],
        [
         10011,
         14.5,
         10.92,
         74.44,
         "0.26",
         7.58
        ],
        [
         10152,
         11.28,
         10.13,
         64.09,
         "0.16",
         8.0
        ],
        [
         10111,
         20.68,
         10.69,
         120.18,
         "0.24",
         6.74
        ],
        [
         7737,
         23.0,
         15.5,
         122.09,
         "1.00",
         5.62
        ],
        [
         10003,
         11.94,
         10.99,
         64.25,
         "0.31",
         7.77
        ],
        [
         7030,
         0.0,
         40.0,
         0.0,
         "1.00",
         7.0
        ],
        [
         10029,
         11.15,
         10.79,
         56.04,
         "0.27",
         7.97
        ],
        [
         10280,
         15.33,
         16.33,
         63.57,
         "0.62",
         7.07
        ],
        [
         10005,
         16.08,
         15.87,
         67.39,
         "0.63",
         7.0
        ],
        [
         10110,
         11.76,
         10.86,
         67.22,
         "0.25",
         7.81
        ],
        [
         11205,
         14.95,
         13.95,
         65.1,
         "0.36",
         7.44
        ],
        [
         10026,
         10.94,
         10.4,
         54.35,
         "0.30",
         7.99
        ],
        [
         11103,
         10.19,
         11.03,
         47.69,
         "0.25",
         8.13
        ],
        [
         11238,
         11.94,
         11.44,
         55.18,
         "0.25",
         7.94
        ],
        [
         10278,
         14.23,
         12.99,
         71.57,
         "0.44",
         7.35
        ],
        [
         10025,
         16.88,
         11.68,
         72.83,
         "0.33",
         7.4
        ],
        [
         10454,
         3.0,
         5.0,
         17.65,
         "0.00",
         9.39
        ],
        [
         10153,
         10.83,
         9.78,
         60.49,
         "0.18",
         8.06
        ],
        [
         11375,
         30.33,
         33.0,
         95.49,
         "1.00",
         4.8
        ],
        [
         11369,
         9.5,
         29.63,
         60.2,
         "0.25",
         7.06
        ],
        [
         10171,
         13.42,
         12.04,
         78.43,
         "0.34",
         7.44
        ],
        [
         11377,
         15.29,
         13.25,
         71.6,
         "0.38",
         7.35
        ],
        [
         10009,
         13.44,
         11.13,
         71.22,
         "0.29",
         7.63
        ],
        [
         10035,
         10.21,
         12.25,
         45.02,
         "0.37",
         7.98
        ],
        [
         10154,
         18.19,
         11.73,
         98.97,
         "0.30",
         7.02
        ],
        [
         10030,
         10.28,
         10.75,
         54.95,
         "0.28",
         8.01
        ],
        [
         10468,
         1.5,
         4.0,
         11.22,
         "0.00",
         9.59
        ],
        [
         11104,
         13.07,
         12.24,
         59.0,
         "0.52",
         7.53
        ],
        [
         11221,
         26.5,
         21.75,
         108.69,
         "1.00",
         5.34
        ],
        [
         11422,
         42.13,
         45.23,
         121.99,
         "0.98",
         3.37
        ],
        [
         11424,
         23.5,
         34.25,
         177.03,
         "1.00",
         3.91
        ],
        [
         7311,
         0.0,
         60.0,
         0.0,
         "1.00",
         6.0
        ],
        [
         11210,
         12.0,
         13.75,
         43.37,
         "0.50",
         7.73
        ],
        [
         11372,
         10.53,
         12.37,
         48.26,
         "0.33",
         7.96
        ],
        [
         11102,
         12.06,
         11.88,
         51.91,
         "0.47",
         7.73
        ],
        [
         10039,
         7.6,
         7.7,
         50.09,
         "0.20",
         8.42
        ],
        [
         11230,
         16.33,
         20.83,
         55.17,
         "0.33",
         7.21
        ],
        [
         7087,
         38.0,
         31.0,
         135.87,
         "1.00",
         4.04
        ],
        [
         10018,
         15.14,
         11.41,
         79.15,
         "0.29",
         7.44
        ],
        [
         11217,
         12.5,
         12.4,
         57.2,
         "0.35",
         7.74
        ]
       ],
       "datasetInfos": [
        {
         "name": "_sqldf",
         "schema": {
          "fields": [
           {
            "metadata": {},
            "name": "pickup_zip",
            "nullable": true,
            "type": "integer"
           },
           {
            "metadata": {},
            "name": "tempo_medio",
            "nullable": true,
            "type": "double"
           },
           {
            "metadata": {},
            "name": "tarifa_media",
            "nullable": true,
            "type": "double"
           },
           {
            "metadata": {},
            "name": "frustracao_media",
            "nullable": true,
            "type": "double"
           },
           {
            "metadata": {},
            "name": "proporcao_tarifa_alta",
            "nullable": true,
            "type": "decimal(25,2)"
           },
           {
            "metadata": {},
            "name": "nota_final",
            "nullable": true,
            "type": "double"
           }
          ],
          "type": "struct"
         },
         "tableIdentifier": null,
         "typeStr": "pyspark.sql.connect.dataframe.DataFrame"
        }
       ],
       "dbfsResultPath": null,
       "isJsonSchema": true,
       "metadata": {
        "createTempViewForImplicitDf": true,
        "dataframeName": "_sqldf",
        "executionCount": 153
       },
       "overflow": false,
       "plotOptions": {
        "customPlotOptions": {},
        "displayType": "table",
        "pivotAggregation": null,
        "pivotColumns": null,
        "xColumns": null,
        "yColumns": null
       },
       "removedWidgets": [],
       "schema": [
        {
         "metadata": "{}",
         "name": "pickup_zip",
         "type": "\"integer\""
        },
        {
         "metadata": "{}",
         "name": "tempo_medio",
         "type": "\"double\""
        },
        {
         "metadata": "{}",
         "name": "tarifa_media",
         "type": "\"double\""
        },
        {
         "metadata": "{}",
         "name": "frustracao_media",
         "type": "\"double\""
        },
        {
         "metadata": "{}",
         "name": "proporcao_tarifa_alta",
         "type": "\"decimal(25,2)\""
        },
        {
         "metadata": "{}",
         "name": "nota_final",
         "type": "\"double\""
        }
       ],
       "type": "table"
      }
     },
     "output_type": "display_data"
    }
   ],
   "source": [
    "-- Exportação completa para Power BI\n",
    "SELECT * FROM resultado_final_export"
   ]
  },
  {
   "cell_type": "markdown",
   "metadata": {
    "application/vnd.databricks.v1+cell": {
     "cellMetadata": {},
     "inputWidgets": {},
     "nuid": "c3b4b540-3ef9-42ad-9ef2-2a1b5450a47f",
     "showTitle": false,
     "tableResultSettingsMap": {},
     "title": ""
    }
   },
   "source": []
  }
 ],
 "metadata": {
  "application/vnd.databricks.v1+notebook": {
   "computePreferences": null,
   "dashboards": [
    {
     "elements": [
      {
       "dashboardResultIndex": null,
       "elementNUID": "e65154be-d6f0-4a68-977d-291d51bd35eb",
       "elementType": "command",
       "guid": "04ea61ff-de14-4a58-81ce-f875cb0ab81f",
       "options": null,
       "position": {
        "height": 9,
        "width": 24,
        "x": 0,
        "y": 107,
        "z": null
       },
       "resultIndex": null
      },
      {
       "dashboardResultIndex": null,
       "elementNUID": "8d7893a5-bc45-4ada-a944-ea66c44462ac",
       "elementType": "command",
       "guid": "095b0317-689c-492b-b1cd-9d1ac233d607",
       "options": null,
       "position": {
        "height": 9,
        "width": 24,
        "x": 0,
        "y": 80,
        "z": null
       },
       "resultIndex": null
      },
      {
       "dashboardResultIndex": null,
       "elementNUID": "cde66174-29b8-44c4-8657-f450e4dcdeb8",
       "elementType": "command",
       "guid": "185f128b-5374-457a-85db-670798fec77f",
       "options": null,
       "position": {
        "height": 13,
        "width": 24,
        "x": 0,
        "y": 168,
        "z": null
       },
       "resultIndex": null
      },
      {
       "dashboardResultIndex": null,
       "elementNUID": "6d29aa22-4c01-4b69-862c-a3c00044bdc1",
       "elementType": "command",
       "guid": "34fcf913-04a8-47ce-bf5a-d97234320637",
       "options": null,
       "position": {
        "height": 11,
        "width": 24,
        "x": 0,
        "y": 69,
        "z": null
       },
       "resultIndex": null
      },
      {
       "dashboardResultIndex": null,
       "elementNUID": "d58fd8e7-e98c-4e25-83ca-01156046e7b6",
       "elementType": "command",
       "guid": "4f89b00d-31e2-4601-9621-36aae854c483",
       "options": null,
       "position": {
        "height": 8,
        "width": 24,
        "x": 0,
        "y": 150,
        "z": null
       },
       "resultIndex": null
      },
      {
       "dashboardResultIndex": null,
       "elementNUID": "bb416f93-817f-47ae-88d4-20dabfbd10c0",
       "elementType": "command",
       "guid": "58b55670-db11-4596-a814-f63a78d19e05",
       "options": null,
       "position": {
        "height": 69,
        "width": 24,
        "x": 0,
        "y": 0,
        "z": null
       },
       "resultIndex": null
      },
      {
       "dashboardResultIndex": null,
       "elementNUID": "11a1c7fb-0196-494e-a320-fc994648f9a6",
       "elementType": "command",
       "guid": "64e48680-e0ed-4cca-9109-51c38e8056f7",
       "options": null,
       "position": {
        "height": 8,
        "width": 24,
        "x": 0,
        "y": 206,
        "z": null
       },
       "resultIndex": null
      },
      {
       "dashboardResultIndex": null,
       "elementNUID": "b5bcc454-4ad4-432e-9be9-2ef52f1ce5f0",
       "elementType": "command",
       "guid": "696fc66e-1b8a-4361-a097-2cae0f4a654a",
       "options": null,
       "position": {
        "height": 7,
        "width": 20,
        "x": 0,
        "y": 131,
        "z": null
       },
       "resultIndex": null
      },
      {
       "dashboardResultIndex": null,
       "elementNUID": "83f0fa22-8f96-4969-86ee-27a58fe88fea",
       "elementType": "command",
       "guid": "74110bd0-c496-465c-9e76-4fad35011f31",
       "options": null,
       "position": {
        "height": 9,
        "width": 24,
        "x": 0,
        "y": 89,
        "z": null
       },
       "resultIndex": null
      },
      {
       "dashboardResultIndex": null,
       "elementNUID": "5aaec410-3d91-4be5-918e-ecacecfca6d9",
       "elementType": "command",
       "guid": "7867111f-e4e3-4652-838b-6945b8dc264d",
       "options": null,
       "position": {
        "height": 12,
        "width": 9,
        "x": 0,
        "y": 138,
        "z": null
       },
       "resultIndex": null
      },
      {
       "dashboardResultIndex": null,
       "elementNUID": "d2fb0682-5af1-4d37-a080-b9a4064b4d72",
       "elementType": "command",
       "guid": "8f5d0547-1975-43c3-90cf-eee66b028d9d",
       "options": null,
       "position": {
        "height": 7,
        "width": 4,
        "x": 20,
        "y": 131,
        "z": null
       },
       "resultIndex": null
      },
      {
       "dashboardResultIndex": null,
       "elementNUID": "0dc3c0bd-cd23-4fb1-996c-df711e34cf56",
       "elementType": "command",
       "guid": "96a36d62-ef30-4527-b3f9-0eae34b8c97f",
       "options": null,
       "position": {
        "height": 8,
        "width": 16,
        "x": 0,
        "y": 123,
        "z": null
       },
       "resultIndex": null
      },
      {
       "dashboardResultIndex": null,
       "elementNUID": "d1ae7dab-77f8-406b-99f9-fc72955de730",
       "elementType": "command",
       "guid": "a7a46490-9117-4e4d-8342-b9bf4a80605c",
       "options": null,
       "position": {
        "height": 10,
        "width": 24,
        "x": 0,
        "y": 158,
        "z": null
       },
       "resultIndex": null
      },
      {
       "dashboardResultIndex": null,
       "elementNUID": "6451797e-e60a-48ad-b769-538dc9beb6a7",
       "elementType": "command",
       "guid": "a9f99b2b-9d5a-4b22-abce-835c2f1bd89a",
       "options": null,
       "position": {
        "height": 8,
        "width": 8,
        "x": 16,
        "y": 123,
        "z": null
       },
       "resultIndex": null
      },
      {
       "dashboardResultIndex": null,
       "elementNUID": "bf354023-8f35-4048-8b5d-b493712923bd",
       "elementType": "command",
       "guid": "add3ee50-381d-4eb8-8a37-cf1251070f3d",
       "options": null,
       "position": {
        "height": 12,
        "width": 15,
        "x": 9,
        "y": 138,
        "z": null
       },
       "resultIndex": null
      },
      {
       "dashboardResultIndex": null,
       "elementNUID": "984b06b7-2356-4364-a073-b484fed26f9d",
       "elementType": "command",
       "guid": "c275778c-3a87-462c-9b15-b05c07a3fa13",
       "options": null,
       "position": {
        "height": 9,
        "width": 24,
        "x": 0,
        "y": 98,
        "z": null
       },
       "resultIndex": null
      },
      {
       "dashboardResultIndex": null,
       "elementNUID": "07b7e59a-8de5-4ec4-b3c2-a663d111cdf8",
       "elementType": "command",
       "guid": "c3fd492b-e963-4dba-acb8-d882d36a9cca",
       "options": null,
       "position": {
        "height": 13,
        "width": 24,
        "x": 0,
        "y": 193,
        "z": null
       },
       "resultIndex": null
      },
      {
       "dashboardResultIndex": null,
       "elementNUID": "f0cf5db1-6830-497a-910c-5539829e1a11",
       "elementType": "command",
       "guid": "c456b47f-f6f8-47f4-a8a6-e3f3308b8175",
       "options": null,
       "position": {
        "height": 7,
        "width": 24,
        "x": 0,
        "y": 116,
        "z": null
       },
       "resultIndex": null
      },
      {
       "dashboardResultIndex": null,
       "elementNUID": "bc0a1b78-0740-4f91-bb46-9dc3f6a32689",
       "elementType": "command",
       "guid": "daec07e8-1e87-44a9-b469-655b7d38f6d6",
       "options": null,
       "position": {
        "height": 12,
        "width": 24,
        "x": 0,
        "y": 181,
        "z": null
       },
       "resultIndex": null
      }
     ],
     "globalVars": {},
     "guid": "",
     "layoutOption": {
      "grid": true,
      "stack": false
     },
     "nuid": "340c5e1e-afc5-4f87-9ba0-52e1fb0ea9d9",
     "origId": 8024696521768750,
     "title": "CX_Taxi_Insights",
     "version": "DashboardViewV1",
     "width": 800
    },
    {
     "elements": [
      {
       "dashboardResultIndex": null,
       "elementNUID": "4d863eb4-c29f-488f-9fcb-493b0b4aed0b",
       "elementType": "command",
       "guid": "00546f70-f9fd-40c4-9c5b-7bb612003ca0",
       "options": null,
       "position": {
        "height": 7,
        "width": 20,
        "x": 0,
        "y": 37,
        "z": null
       },
       "resultIndex": null
      },
      {
       "dashboardResultIndex": null,
       "elementNUID": "36209ce4-a060-4795-93d7-a1bd41678f6c",
       "elementType": "command",
       "guid": "123b180a-c921-4354-9df1-c2c816b2b461",
       "options": null,
       "position": {
        "height": 6,
        "width": 20,
        "x": 0,
        "y": 52,
        "z": null
       },
       "resultIndex": null
      },
      {
       "dashboardResultIndex": null,
       "elementNUID": "8848861b-13c4-4be3-8d84-f2d680b181cb",
       "elementType": "command",
       "guid": "320addeb-718c-4c6e-89d4-af8334fe22c3",
       "options": null,
       "position": {
        "height": 14,
        "width": 20,
        "x": 0,
        "y": 0,
        "z": null
       },
       "resultIndex": null
      },
      {
       "dashboardResultIndex": null,
       "elementNUID": "a6430bd0-5a8f-4931-9254-933ece1402da",
       "elementType": "command",
       "guid": "877f8b04-7352-4b76-a0ac-3749e8051c11",
       "options": null,
       "position": {
        "height": 6,
        "width": 20,
        "x": 0,
        "y": 14,
        "z": null
       },
       "resultIndex": null
      },
      {
       "dashboardResultIndex": null,
       "elementNUID": "50680328-9e12-452a-9275-87b7d669ec65",
       "elementType": "command",
       "guid": "b8e2be00-488a-4b5f-a362-f49e8fce548c",
       "options": null,
       "position": {
        "height": 10,
        "width": 20,
        "x": 0,
        "y": 58,
        "z": null
       },
       "resultIndex": null
      },
      {
       "dashboardResultIndex": null,
       "elementNUID": "fabc92fe-d963-48fe-b36a-aeeffe0f9b64",
       "elementType": "command",
       "guid": "cc525c43-4580-4896-b474-0f523e65e75f",
       "options": null,
       "position": {
        "height": 8,
        "width": 20,
        "x": 0,
        "y": 44,
        "z": null
       },
       "resultIndex": null
      },
      {
       "dashboardResultIndex": null,
       "elementNUID": "ab97b416-f960-49fb-ab78-51906c0371a1",
       "elementType": "command",
       "guid": "eaa19cb3-7044-4b26-9c44-22062d2953b2",
       "options": null,
       "position": {
        "height": 17,
        "width": 20,
        "x": 0,
        "y": 20,
        "z": null
       },
       "resultIndex": null
      }
     ],
     "globalVars": {},
     "guid": "",
     "layoutOption": {
      "grid": true,
      "stack": true
     },
     "nuid": "6ad95e08-f4fc-4ec2-a05d-6fb14e7b27cb",
     "origId": 8286361326510747,
     "title": "Zonas em Alerta",
     "version": "DashboardViewV1",
     "width": 1024
    }
   ],
   "environmentMetadata": {
    "base_environment": "",
    "environment_version": "3"
   },
   "inputWidgetPreferences": null,
   "language": "sql",
   "notebookMetadata": {
    "pythonIndentUnit": 4
   },
   "notebookName": "cx_insights_demo",
   "widgets": {}
  },
  "language_info": {
   "name": "sql"
  }
 },
 "nbformat": 4,
 "nbformat_minor": 0
}
